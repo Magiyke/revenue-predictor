{
 "cells": [
  {
   "cell_type": "code",
   "execution_count": 5,
   "id": "72f4b14e",
   "metadata": {},
   "outputs": [],
   "source": [
    "import pandas as pd\n",
    "import numpy as np\n",
    "import matplotlib.pyplot as plt\n",
    "import seaborn as sns"
   ]
  },
  {
   "cell_type": "code",
   "execution_count": 6,
   "id": "aaa7c32d",
   "metadata": {},
   "outputs": [],
   "source": [
    "D1 =pd.read_csv(r\"C:\\Users\\bobby\\Desktop\\data set for datalab project\\Marketing Data.csv\")\n",
    "REV1=pd.read_csv(r\"C:\\Users\\bobby\\Desktop\\data set for datalab project\\Revenue Data 1.csv\")\n",
    "REV2=pd.read_csv(r\"C:\\Users\\bobby\\Desktop\\data set for datalab project\\Revenue Data 2.csv\")\n",
    "visitors=pd.read_excel(r\"C:\\Users\\bobby\\Desktop\\data set for datalab project\\Visitors Data.xlsx\")"
   ]
  },
  {
   "cell_type": "markdown",
   "id": "7474320e",
   "metadata": {},
   "source": [
    "we check for the tail and head"
   ]
  },
  {
   "cell_type": "code",
   "execution_count": 7,
   "id": "dde79f91",
   "metadata": {},
   "outputs": [
    {
     "data": {
      "text/html": [
       "<div>\n",
       "<style scoped>\n",
       "    .dataframe tbody tr th:only-of-type {\n",
       "        vertical-align: middle;\n",
       "    }\n",
       "\n",
       "    .dataframe tbody tr th {\n",
       "        vertical-align: top;\n",
       "    }\n",
       "\n",
       "    .dataframe thead th {\n",
       "        text-align: right;\n",
       "    }\n",
       "</style>\n",
       "<table border=\"1\" class=\"dataframe\">\n",
       "  <thead>\n",
       "    <tr style=\"text-align: right;\">\n",
       "      <th></th>\n",
       "      <th>Date</th>\n",
       "      <th>Marketing Spend</th>\n",
       "      <th>Promo</th>\n",
       "    </tr>\n",
       "  </thead>\n",
       "  <tbody>\n",
       "    <tr>\n",
       "      <th>0</th>\n",
       "      <td>09/11/2020</td>\n",
       "      <td>651.375</td>\n",
       "      <td>No Promo</td>\n",
       "    </tr>\n",
       "    <tr>\n",
       "      <th>1</th>\n",
       "      <td>10/11/2020</td>\n",
       "      <td>1298.250</td>\n",
       "      <td>Promotion Red</td>\n",
       "    </tr>\n",
       "    <tr>\n",
       "      <th>2</th>\n",
       "      <td>11/11/2020</td>\n",
       "      <td>1559.375</td>\n",
       "      <td>Promotion Blue</td>\n",
       "    </tr>\n",
       "    <tr>\n",
       "      <th>3</th>\n",
       "      <td>12/11/2020</td>\n",
       "      <td>1801.750</td>\n",
       "      <td>No Promo</td>\n",
       "    </tr>\n",
       "    <tr>\n",
       "      <th>4</th>\n",
       "      <td>13/11/2020</td>\n",
       "      <td>2614.500</td>\n",
       "      <td>No Promo</td>\n",
       "    </tr>\n",
       "  </tbody>\n",
       "</table>\n",
       "</div>"
      ],
      "text/plain": [
       "         Date  Marketing Spend           Promo\n",
       "0  09/11/2020          651.375        No Promo\n",
       "1  10/11/2020         1298.250   Promotion Red\n",
       "2  11/11/2020         1559.375  Promotion Blue\n",
       "3  12/11/2020         1801.750        No Promo\n",
       "4  13/11/2020         2614.500        No Promo"
      ]
     },
     "execution_count": 7,
     "metadata": {},
     "output_type": "execute_result"
    }
   ],
   "source": [
    "D1.head() #to view the first 5 rows of marketting dataset"
   ]
  },
  {
   "cell_type": "code",
   "execution_count": 8,
   "id": "8fd96b38",
   "metadata": {},
   "outputs": [
    {
     "data": {
      "text/html": [
       "<div>\n",
       "<style scoped>\n",
       "    .dataframe tbody tr th:only-of-type {\n",
       "        vertical-align: middle;\n",
       "    }\n",
       "\n",
       "    .dataframe tbody tr th {\n",
       "        vertical-align: top;\n",
       "    }\n",
       "\n",
       "    .dataframe thead th {\n",
       "        text-align: right;\n",
       "    }\n",
       "</style>\n",
       "<table border=\"1\" class=\"dataframe\">\n",
       "  <thead>\n",
       "    <tr style=\"text-align: right;\">\n",
       "      <th></th>\n",
       "      <th>Date</th>\n",
       "      <th>Marketing Spend</th>\n",
       "      <th>Promo</th>\n",
       "    </tr>\n",
       "  </thead>\n",
       "  <tbody>\n",
       "    <tr>\n",
       "      <th>180</th>\n",
       "      <td>08/05/2021</td>\n",
       "      <td>1121.875</td>\n",
       "      <td>No Promo</td>\n",
       "    </tr>\n",
       "    <tr>\n",
       "      <th>181</th>\n",
       "      <td>09/05/2021</td>\n",
       "      <td>871.000</td>\n",
       "      <td>No Promo</td>\n",
       "    </tr>\n",
       "    <tr>\n",
       "      <th>182</th>\n",
       "      <td>10/05/2021</td>\n",
       "      <td>NaN</td>\n",
       "      <td>NaN</td>\n",
       "    </tr>\n",
       "    <tr>\n",
       "      <th>183</th>\n",
       "      <td>11/05/2021</td>\n",
       "      <td>NaN</td>\n",
       "      <td>NaN</td>\n",
       "    </tr>\n",
       "    <tr>\n",
       "      <th>184</th>\n",
       "      <td>12/05/2021</td>\n",
       "      <td>NaN</td>\n",
       "      <td>NaN</td>\n",
       "    </tr>\n",
       "  </tbody>\n",
       "</table>\n",
       "</div>"
      ],
      "text/plain": [
       "           Date  Marketing Spend     Promo\n",
       "180  08/05/2021         1121.875  No Promo\n",
       "181  09/05/2021          871.000  No Promo\n",
       "182  10/05/2021              NaN       NaN\n",
       "183  11/05/2021              NaN       NaN\n",
       "184  12/05/2021              NaN       NaN"
      ]
     },
     "execution_count": 8,
     "metadata": {},
     "output_type": "execute_result"
    }
   ],
   "source": [
    "D1.tail() #to view the first 5 rows of marketting dataset"
   ]
  },
  {
   "cell_type": "code",
   "execution_count": 9,
   "id": "578396ec",
   "metadata": {},
   "outputs": [
    {
     "data": {
      "text/plain": [
       "(185, 3)"
      ]
     },
     "execution_count": 9,
     "metadata": {},
     "output_type": "execute_result"
    }
   ],
   "source": [
    "D1.shape #to know the total number of rows and columns"
   ]
  },
  {
   "cell_type": "code",
   "execution_count": 10,
   "id": "92f80a36",
   "metadata": {},
   "outputs": [
    {
     "name": "stdout",
     "output_type": "stream",
     "text": [
      "<class 'pandas.core.frame.DataFrame'>\n",
      "RangeIndex: 185 entries, 0 to 184\n",
      "Data columns (total 3 columns):\n",
      " #   Column           Non-Null Count  Dtype  \n",
      "---  ------           --------------  -----  \n",
      " 0   Date             185 non-null    object \n",
      " 1   Marketing Spend  178 non-null    float64\n",
      " 2   Promo            182 non-null    object \n",
      "dtypes: float64(1), object(2)\n",
      "memory usage: 4.5+ KB\n"
     ]
    }
   ],
   "source": [
    "D1.info()"
   ]
  },
  {
   "cell_type": "code",
   "execution_count": 11,
   "id": "def3de20",
   "metadata": {},
   "outputs": [
    {
     "data": {
      "text/html": [
       "<div>\n",
       "<style scoped>\n",
       "    .dataframe tbody tr th:only-of-type {\n",
       "        vertical-align: middle;\n",
       "    }\n",
       "\n",
       "    .dataframe tbody tr th {\n",
       "        vertical-align: top;\n",
       "    }\n",
       "\n",
       "    .dataframe thead th {\n",
       "        text-align: right;\n",
       "    }\n",
       "</style>\n",
       "<table border=\"1\" class=\"dataframe\">\n",
       "  <thead>\n",
       "    <tr style=\"text-align: right;\">\n",
       "      <th></th>\n",
       "      <th>Date</th>\n",
       "      <th>Week_ID</th>\n",
       "      <th>Month Number</th>\n",
       "      <th>Month_ID</th>\n",
       "      <th>Year</th>\n",
       "      <th>Day_Name</th>\n",
       "      <th>Revenue</th>\n",
       "    </tr>\n",
       "  </thead>\n",
       "  <tbody>\n",
       "    <tr>\n",
       "      <th>0</th>\n",
       "      <td>09/11/2020</td>\n",
       "      <td>34.0</td>\n",
       "      <td>11.0</td>\n",
       "      <td>11.0</td>\n",
       "      <td>2020</td>\n",
       "      <td>Monday</td>\n",
       "      <td>465.0</td>\n",
       "    </tr>\n",
       "    <tr>\n",
       "      <th>1</th>\n",
       "      <td>10/11/2020</td>\n",
       "      <td>34.0</td>\n",
       "      <td>11.0</td>\n",
       "      <td>11.0</td>\n",
       "      <td>2020</td>\n",
       "      <td>Tuesday</td>\n",
       "      <td>10386.0</td>\n",
       "    </tr>\n",
       "    <tr>\n",
       "      <th>2</th>\n",
       "      <td>11/11/2020</td>\n",
       "      <td>34.0</td>\n",
       "      <td>11.0</td>\n",
       "      <td>11.0</td>\n",
       "      <td>2020</td>\n",
       "      <td>Wednesday</td>\n",
       "      <td>12475.0</td>\n",
       "    </tr>\n",
       "    <tr>\n",
       "      <th>3</th>\n",
       "      <td>12/11/2020</td>\n",
       "      <td>34.0</td>\n",
       "      <td>11.0</td>\n",
       "      <td>11.0</td>\n",
       "      <td>2020</td>\n",
       "      <td>Thursday</td>\n",
       "      <td>11712.0</td>\n",
       "    </tr>\n",
       "    <tr>\n",
       "      <th>4</th>\n",
       "      <td>13/11/2020</td>\n",
       "      <td>34.0</td>\n",
       "      <td>11.0</td>\n",
       "      <td>11.0</td>\n",
       "      <td>2020</td>\n",
       "      <td>Friday</td>\n",
       "      <td>10000.0</td>\n",
       "    </tr>\n",
       "  </tbody>\n",
       "</table>\n",
       "</div>"
      ],
      "text/plain": [
       "         Date  Week_ID  Month Number  Month_ID  Year   Day_Name  Revenue\n",
       "0  09/11/2020     34.0          11.0      11.0  2020     Monday    465.0\n",
       "1  10/11/2020     34.0          11.0      11.0  2020    Tuesday  10386.0\n",
       "2  11/11/2020     34.0          11.0      11.0  2020  Wednesday  12475.0\n",
       "3  12/11/2020     34.0          11.0      11.0  2020   Thursday  11712.0\n",
       "4  13/11/2020     34.0          11.0      11.0  2020     Friday  10000.0"
      ]
     },
     "execution_count": 11,
     "metadata": {},
     "output_type": "execute_result"
    }
   ],
   "source": [
    "REV1.head()"
   ]
  },
  {
   "cell_type": "code",
   "execution_count": 12,
   "id": "ab0f1b56",
   "metadata": {},
   "outputs": [
    {
     "data": {
      "text/html": [
       "<div>\n",
       "<style scoped>\n",
       "    .dataframe tbody tr th:only-of-type {\n",
       "        vertical-align: middle;\n",
       "    }\n",
       "\n",
       "    .dataframe tbody tr th {\n",
       "        vertical-align: top;\n",
       "    }\n",
       "\n",
       "    .dataframe thead th {\n",
       "        text-align: right;\n",
       "    }\n",
       "</style>\n",
       "<table border=\"1\" class=\"dataframe\">\n",
       "  <thead>\n",
       "    <tr style=\"text-align: right;\">\n",
       "      <th></th>\n",
       "      <th>Date</th>\n",
       "      <th>Week_ID</th>\n",
       "      <th>Month Number</th>\n",
       "      <th>Month_ID</th>\n",
       "      <th>Year</th>\n",
       "      <th>Day_Name</th>\n",
       "      <th>Revenue</th>\n",
       "    </tr>\n",
       "  </thead>\n",
       "  <tbody>\n",
       "    <tr>\n",
       "      <th>128</th>\n",
       "      <td>17/03/2021</td>\n",
       "      <td>53.0</td>\n",
       "      <td>3.0</td>\n",
       "      <td>15.0</td>\n",
       "      <td>2021</td>\n",
       "      <td>Wednesday</td>\n",
       "      <td>1245.0</td>\n",
       "    </tr>\n",
       "    <tr>\n",
       "      <th>129</th>\n",
       "      <td>18/03/2021</td>\n",
       "      <td>NaN</td>\n",
       "      <td>NaN</td>\n",
       "      <td>NaN</td>\n",
       "      <td>2021</td>\n",
       "      <td>NaN</td>\n",
       "      <td>NaN</td>\n",
       "    </tr>\n",
       "    <tr>\n",
       "      <th>130</th>\n",
       "      <td>19/03/2021</td>\n",
       "      <td>NaN</td>\n",
       "      <td>NaN</td>\n",
       "      <td>NaN</td>\n",
       "      <td>2021</td>\n",
       "      <td>NaN</td>\n",
       "      <td>NaN</td>\n",
       "    </tr>\n",
       "    <tr>\n",
       "      <th>131</th>\n",
       "      <td>20/03/2021</td>\n",
       "      <td>NaN</td>\n",
       "      <td>NaN</td>\n",
       "      <td>NaN</td>\n",
       "      <td>2021</td>\n",
       "      <td>NaN</td>\n",
       "      <td>NaN</td>\n",
       "    </tr>\n",
       "    <tr>\n",
       "      <th>132</th>\n",
       "      <td>21/03/2021</td>\n",
       "      <td>NaN</td>\n",
       "      <td>NaN</td>\n",
       "      <td>NaN</td>\n",
       "      <td>2021</td>\n",
       "      <td>NaN</td>\n",
       "      <td>NaN</td>\n",
       "    </tr>\n",
       "  </tbody>\n",
       "</table>\n",
       "</div>"
      ],
      "text/plain": [
       "           Date  Week_ID  Month Number  Month_ID  Year   Day_Name  Revenue\n",
       "128  17/03/2021     53.0           3.0      15.0  2021  Wednesday   1245.0\n",
       "129  18/03/2021      NaN           NaN       NaN  2021        NaN      NaN\n",
       "130  19/03/2021      NaN           NaN       NaN  2021        NaN      NaN\n",
       "131  20/03/2021      NaN           NaN       NaN  2021        NaN      NaN\n",
       "132  21/03/2021      NaN           NaN       NaN  2021        NaN      NaN"
      ]
     },
     "execution_count": 12,
     "metadata": {},
     "output_type": "execute_result"
    }
   ],
   "source": [
    "REV1.tail()#these had NANS,,so we drop the rows with NANS"
   ]
  },
  {
   "cell_type": "code",
   "execution_count": 13,
   "id": "d1b68357",
   "metadata": {},
   "outputs": [],
   "source": [
    "REV1.drop([129,130,131,132], axis=0, inplace=True)"
   ]
  },
  {
   "cell_type": "code",
   "execution_count": 14,
   "id": "34f5da58",
   "metadata": {},
   "outputs": [
    {
     "data": {
      "text/html": [
       "<div>\n",
       "<style scoped>\n",
       "    .dataframe tbody tr th:only-of-type {\n",
       "        vertical-align: middle;\n",
       "    }\n",
       "\n",
       "    .dataframe tbody tr th {\n",
       "        vertical-align: top;\n",
       "    }\n",
       "\n",
       "    .dataframe thead th {\n",
       "        text-align: right;\n",
       "    }\n",
       "</style>\n",
       "<table border=\"1\" class=\"dataframe\">\n",
       "  <thead>\n",
       "    <tr style=\"text-align: right;\">\n",
       "      <th></th>\n",
       "      <th>Date</th>\n",
       "      <th>Week_ID</th>\n",
       "      <th>Month Number</th>\n",
       "      <th>Month_ID</th>\n",
       "      <th>Year</th>\n",
       "      <th>Day_Name</th>\n",
       "      <th>Revenue</th>\n",
       "    </tr>\n",
       "  </thead>\n",
       "  <tbody>\n",
       "    <tr>\n",
       "      <th>124</th>\n",
       "      <td>13/03/2021</td>\n",
       "      <td>52.0</td>\n",
       "      <td>3.0</td>\n",
       "      <td>15.0</td>\n",
       "      <td>2021</td>\n",
       "      <td>Saturday</td>\n",
       "      <td>28196.0</td>\n",
       "    </tr>\n",
       "    <tr>\n",
       "      <th>125</th>\n",
       "      <td>14/03/2021</td>\n",
       "      <td>53.0</td>\n",
       "      <td>3.0</td>\n",
       "      <td>15.0</td>\n",
       "      <td>2021</td>\n",
       "      <td>Sunday</td>\n",
       "      <td>7878.0</td>\n",
       "    </tr>\n",
       "    <tr>\n",
       "      <th>126</th>\n",
       "      <td>15/03/2021</td>\n",
       "      <td>53.0</td>\n",
       "      <td>3.0</td>\n",
       "      <td>15.0</td>\n",
       "      <td>2021</td>\n",
       "      <td>Monday</td>\n",
       "      <td>3378.0</td>\n",
       "    </tr>\n",
       "    <tr>\n",
       "      <th>127</th>\n",
       "      <td>16/03/2021</td>\n",
       "      <td>53.0</td>\n",
       "      <td>3.0</td>\n",
       "      <td>15.0</td>\n",
       "      <td>2021</td>\n",
       "      <td>Tuesday</td>\n",
       "      <td>6047.0</td>\n",
       "    </tr>\n",
       "    <tr>\n",
       "      <th>128</th>\n",
       "      <td>17/03/2021</td>\n",
       "      <td>53.0</td>\n",
       "      <td>3.0</td>\n",
       "      <td>15.0</td>\n",
       "      <td>2021</td>\n",
       "      <td>Wednesday</td>\n",
       "      <td>1245.0</td>\n",
       "    </tr>\n",
       "  </tbody>\n",
       "</table>\n",
       "</div>"
      ],
      "text/plain": [
       "           Date  Week_ID  Month Number  Month_ID  Year   Day_Name  Revenue\n",
       "124  13/03/2021     52.0           3.0      15.0  2021   Saturday  28196.0\n",
       "125  14/03/2021     53.0           3.0      15.0  2021     Sunday   7878.0\n",
       "126  15/03/2021     53.0           3.0      15.0  2021     Monday   3378.0\n",
       "127  16/03/2021     53.0           3.0      15.0  2021    Tuesday   6047.0\n",
       "128  17/03/2021     53.0           3.0      15.0  2021  Wednesday   1245.0"
      ]
     },
     "execution_count": 14,
     "metadata": {},
     "output_type": "execute_result"
    }
   ],
   "source": [
    "REV1.tail() #the rows have been dropped"
   ]
  },
  {
   "cell_type": "code",
   "execution_count": 15,
   "id": "76560434",
   "metadata": {},
   "outputs": [
    {
     "data": {
      "text/html": [
       "<div>\n",
       "<style scoped>\n",
       "    .dataframe tbody tr th:only-of-type {\n",
       "        vertical-align: middle;\n",
       "    }\n",
       "\n",
       "    .dataframe tbody tr th {\n",
       "        vertical-align: top;\n",
       "    }\n",
       "\n",
       "    .dataframe thead th {\n",
       "        text-align: right;\n",
       "    }\n",
       "</style>\n",
       "<table border=\"1\" class=\"dataframe\">\n",
       "  <thead>\n",
       "    <tr style=\"text-align: right;\">\n",
       "      <th></th>\n",
       "      <th>Date</th>\n",
       "      <th>Week_ID</th>\n",
       "      <th>Month Number</th>\n",
       "      <th>Month_ID</th>\n",
       "      <th>Year</th>\n",
       "      <th>Day_Name</th>\n",
       "      <th>Revenue</th>\n",
       "    </tr>\n",
       "  </thead>\n",
       "  <tbody>\n",
       "    <tr>\n",
       "      <th>0</th>\n",
       "      <td>18/03/2021</td>\n",
       "      <td>53.0</td>\n",
       "      <td>3.0</td>\n",
       "      <td>15.0</td>\n",
       "      <td>2021.0</td>\n",
       "      <td>Thursday</td>\n",
       "      <td>14909.0</td>\n",
       "    </tr>\n",
       "    <tr>\n",
       "      <th>1</th>\n",
       "      <td>19/03/2021</td>\n",
       "      <td>53.0</td>\n",
       "      <td>3.0</td>\n",
       "      <td>15.0</td>\n",
       "      <td>2021.0</td>\n",
       "      <td>Friday</td>\n",
       "      <td>5903.0</td>\n",
       "    </tr>\n",
       "    <tr>\n",
       "      <th>2</th>\n",
       "      <td>20/03/2021</td>\n",
       "      <td>53.0</td>\n",
       "      <td>3.0</td>\n",
       "      <td>15.0</td>\n",
       "      <td>2021.0</td>\n",
       "      <td>Saturday</td>\n",
       "      <td>4169.0</td>\n",
       "    </tr>\n",
       "    <tr>\n",
       "      <th>3</th>\n",
       "      <td>21/03/2021</td>\n",
       "      <td>54.0</td>\n",
       "      <td>3.0</td>\n",
       "      <td>15.0</td>\n",
       "      <td>2021.0</td>\n",
       "      <td>Sunday</td>\n",
       "      <td>9486.0</td>\n",
       "    </tr>\n",
       "    <tr>\n",
       "      <th>4</th>\n",
       "      <td>22/03/2021</td>\n",
       "      <td>54.0</td>\n",
       "      <td>3.0</td>\n",
       "      <td>15.0</td>\n",
       "      <td>2021.0</td>\n",
       "      <td>Monday</td>\n",
       "      <td>9209.0</td>\n",
       "    </tr>\n",
       "  </tbody>\n",
       "</table>\n",
       "</div>"
      ],
      "text/plain": [
       "         Date  Week_ID  Month Number  Month_ID    Year  Day_Name  Revenue\n",
       "0  18/03/2021     53.0           3.0      15.0  2021.0  Thursday  14909.0\n",
       "1  19/03/2021     53.0           3.0      15.0  2021.0    Friday   5903.0\n",
       "2  20/03/2021     53.0           3.0      15.0  2021.0  Saturday   4169.0\n",
       "3  21/03/2021     54.0           3.0      15.0  2021.0    Sunday   9486.0\n",
       "4  22/03/2021     54.0           3.0      15.0  2021.0    Monday   9209.0"
      ]
     },
     "execution_count": 15,
     "metadata": {},
     "output_type": "execute_result"
    }
   ],
   "source": [
    "REV2.head()"
   ]
  },
  {
   "cell_type": "code",
   "execution_count": 16,
   "id": "1e1fd6c0",
   "metadata": {},
   "outputs": [
    {
     "data": {
      "text/html": [
       "<div>\n",
       "<style scoped>\n",
       "    .dataframe tbody tr th:only-of-type {\n",
       "        vertical-align: middle;\n",
       "    }\n",
       "\n",
       "    .dataframe tbody tr th {\n",
       "        vertical-align: top;\n",
       "    }\n",
       "\n",
       "    .dataframe thead th {\n",
       "        text-align: right;\n",
       "    }\n",
       "</style>\n",
       "<table border=\"1\" class=\"dataframe\">\n",
       "  <thead>\n",
       "    <tr style=\"text-align: right;\">\n",
       "      <th></th>\n",
       "      <th>Date</th>\n",
       "      <th>Week_ID</th>\n",
       "      <th>Month Number</th>\n",
       "      <th>Month_ID</th>\n",
       "      <th>Year</th>\n",
       "      <th>Day_Name</th>\n",
       "      <th>Revenue</th>\n",
       "    </tr>\n",
       "  </thead>\n",
       "  <tbody>\n",
       "    <tr>\n",
       "      <th>51</th>\n",
       "      <td>08/05/2021</td>\n",
       "      <td>60.0</td>\n",
       "      <td>5.0</td>\n",
       "      <td>17.0</td>\n",
       "      <td>2021.0</td>\n",
       "      <td>Saturday</td>\n",
       "      <td>5927.0</td>\n",
       "    </tr>\n",
       "    <tr>\n",
       "      <th>52</th>\n",
       "      <td>09/05/2021</td>\n",
       "      <td>61.0</td>\n",
       "      <td>5.0</td>\n",
       "      <td>17.0</td>\n",
       "      <td>2021.0</td>\n",
       "      <td>Sunday</td>\n",
       "      <td>3861.0</td>\n",
       "    </tr>\n",
       "    <tr>\n",
       "      <th>53</th>\n",
       "      <td>10/05/2021</td>\n",
       "      <td>NaN</td>\n",
       "      <td>NaN</td>\n",
       "      <td>NaN</td>\n",
       "      <td>NaN</td>\n",
       "      <td>NaN</td>\n",
       "      <td>NaN</td>\n",
       "    </tr>\n",
       "    <tr>\n",
       "      <th>54</th>\n",
       "      <td>11/05/2021</td>\n",
       "      <td>NaN</td>\n",
       "      <td>NaN</td>\n",
       "      <td>NaN</td>\n",
       "      <td>NaN</td>\n",
       "      <td>NaN</td>\n",
       "      <td>NaN</td>\n",
       "    </tr>\n",
       "    <tr>\n",
       "      <th>55</th>\n",
       "      <td>12/05/2021</td>\n",
       "      <td>NaN</td>\n",
       "      <td>NaN</td>\n",
       "      <td>NaN</td>\n",
       "      <td>NaN</td>\n",
       "      <td>NaN</td>\n",
       "      <td>NaN</td>\n",
       "    </tr>\n",
       "  </tbody>\n",
       "</table>\n",
       "</div>"
      ],
      "text/plain": [
       "          Date  Week_ID  Month Number  Month_ID    Year  Day_Name  Revenue\n",
       "51  08/05/2021     60.0           5.0      17.0  2021.0  Saturday   5927.0\n",
       "52  09/05/2021     61.0           5.0      17.0  2021.0    Sunday   3861.0\n",
       "53  10/05/2021      NaN           NaN       NaN     NaN       NaN      NaN\n",
       "54  11/05/2021      NaN           NaN       NaN     NaN       NaN      NaN\n",
       "55  12/05/2021      NaN           NaN       NaN     NaN       NaN      NaN"
      ]
     },
     "execution_count": 16,
     "metadata": {},
     "output_type": "execute_result"
    }
   ],
   "source": [
    "REV2.tail() #these had NANS"
   ]
  },
  {
   "cell_type": "markdown",
   "id": "4b97e0a2",
   "metadata": {},
   "source": [
    "since the revenue column have the same number of columns,we concatenate them row wise"
   ]
  },
  {
   "cell_type": "code",
   "execution_count": 17,
   "id": "69126b8e",
   "metadata": {},
   "outputs": [
    {
     "data": {
      "text/html": [
       "<div>\n",
       "<style scoped>\n",
       "    .dataframe tbody tr th:only-of-type {\n",
       "        vertical-align: middle;\n",
       "    }\n",
       "\n",
       "    .dataframe tbody tr th {\n",
       "        vertical-align: top;\n",
       "    }\n",
       "\n",
       "    .dataframe thead th {\n",
       "        text-align: right;\n",
       "    }\n",
       "</style>\n",
       "<table border=\"1\" class=\"dataframe\">\n",
       "  <thead>\n",
       "    <tr style=\"text-align: right;\">\n",
       "      <th></th>\n",
       "      <th>Date</th>\n",
       "      <th>Week_ID</th>\n",
       "      <th>Month Number</th>\n",
       "      <th>Month_ID</th>\n",
       "      <th>Year</th>\n",
       "      <th>Day_Name</th>\n",
       "      <th>Revenue</th>\n",
       "    </tr>\n",
       "  </thead>\n",
       "  <tbody>\n",
       "    <tr>\n",
       "      <th>0</th>\n",
       "      <td>09/11/2020</td>\n",
       "      <td>34.0</td>\n",
       "      <td>11.0</td>\n",
       "      <td>11.0</td>\n",
       "      <td>2020.0</td>\n",
       "      <td>Monday</td>\n",
       "      <td>465.0</td>\n",
       "    </tr>\n",
       "    <tr>\n",
       "      <th>1</th>\n",
       "      <td>10/11/2020</td>\n",
       "      <td>34.0</td>\n",
       "      <td>11.0</td>\n",
       "      <td>11.0</td>\n",
       "      <td>2020.0</td>\n",
       "      <td>Tuesday</td>\n",
       "      <td>10386.0</td>\n",
       "    </tr>\n",
       "    <tr>\n",
       "      <th>2</th>\n",
       "      <td>11/11/2020</td>\n",
       "      <td>34.0</td>\n",
       "      <td>11.0</td>\n",
       "      <td>11.0</td>\n",
       "      <td>2020.0</td>\n",
       "      <td>Wednesday</td>\n",
       "      <td>12475.0</td>\n",
       "    </tr>\n",
       "    <tr>\n",
       "      <th>3</th>\n",
       "      <td>12/11/2020</td>\n",
       "      <td>34.0</td>\n",
       "      <td>11.0</td>\n",
       "      <td>11.0</td>\n",
       "      <td>2020.0</td>\n",
       "      <td>Thursday</td>\n",
       "      <td>11712.0</td>\n",
       "    </tr>\n",
       "    <tr>\n",
       "      <th>4</th>\n",
       "      <td>13/11/2020</td>\n",
       "      <td>34.0</td>\n",
       "      <td>11.0</td>\n",
       "      <td>11.0</td>\n",
       "      <td>2020.0</td>\n",
       "      <td>Friday</td>\n",
       "      <td>10000.0</td>\n",
       "    </tr>\n",
       "    <tr>\n",
       "      <th>...</th>\n",
       "      <td>...</td>\n",
       "      <td>...</td>\n",
       "      <td>...</td>\n",
       "      <td>...</td>\n",
       "      <td>...</td>\n",
       "      <td>...</td>\n",
       "      <td>...</td>\n",
       "    </tr>\n",
       "    <tr>\n",
       "      <th>180</th>\n",
       "      <td>08/05/2021</td>\n",
       "      <td>60.0</td>\n",
       "      <td>5.0</td>\n",
       "      <td>17.0</td>\n",
       "      <td>2021.0</td>\n",
       "      <td>Saturday</td>\n",
       "      <td>5927.0</td>\n",
       "    </tr>\n",
       "    <tr>\n",
       "      <th>181</th>\n",
       "      <td>09/05/2021</td>\n",
       "      <td>61.0</td>\n",
       "      <td>5.0</td>\n",
       "      <td>17.0</td>\n",
       "      <td>2021.0</td>\n",
       "      <td>Sunday</td>\n",
       "      <td>3861.0</td>\n",
       "    </tr>\n",
       "    <tr>\n",
       "      <th>182</th>\n",
       "      <td>10/05/2021</td>\n",
       "      <td>NaN</td>\n",
       "      <td>NaN</td>\n",
       "      <td>NaN</td>\n",
       "      <td>NaN</td>\n",
       "      <td>NaN</td>\n",
       "      <td>NaN</td>\n",
       "    </tr>\n",
       "    <tr>\n",
       "      <th>183</th>\n",
       "      <td>11/05/2021</td>\n",
       "      <td>NaN</td>\n",
       "      <td>NaN</td>\n",
       "      <td>NaN</td>\n",
       "      <td>NaN</td>\n",
       "      <td>NaN</td>\n",
       "      <td>NaN</td>\n",
       "    </tr>\n",
       "    <tr>\n",
       "      <th>184</th>\n",
       "      <td>12/05/2021</td>\n",
       "      <td>NaN</td>\n",
       "      <td>NaN</td>\n",
       "      <td>NaN</td>\n",
       "      <td>NaN</td>\n",
       "      <td>NaN</td>\n",
       "      <td>NaN</td>\n",
       "    </tr>\n",
       "  </tbody>\n",
       "</table>\n",
       "<p>185 rows × 7 columns</p>\n",
       "</div>"
      ],
      "text/plain": [
       "           Date  Week_ID  Month Number  Month_ID    Year   Day_Name  Revenue\n",
       "0    09/11/2020     34.0          11.0      11.0  2020.0     Monday    465.0\n",
       "1    10/11/2020     34.0          11.0      11.0  2020.0    Tuesday  10386.0\n",
       "2    11/11/2020     34.0          11.0      11.0  2020.0  Wednesday  12475.0\n",
       "3    12/11/2020     34.0          11.0      11.0  2020.0   Thursday  11712.0\n",
       "4    13/11/2020     34.0          11.0      11.0  2020.0     Friday  10000.0\n",
       "..          ...      ...           ...       ...     ...        ...      ...\n",
       "180  08/05/2021     60.0           5.0      17.0  2021.0   Saturday   5927.0\n",
       "181  09/05/2021     61.0           5.0      17.0  2021.0     Sunday   3861.0\n",
       "182  10/05/2021      NaN           NaN       NaN     NaN        NaN      NaN\n",
       "183  11/05/2021      NaN           NaN       NaN     NaN        NaN      NaN\n",
       "184  12/05/2021      NaN           NaN       NaN     NaN        NaN      NaN\n",
       "\n",
       "[185 rows x 7 columns]"
      ]
     },
     "execution_count": 17,
     "metadata": {},
     "output_type": "execute_result"
    }
   ],
   "source": [
    "REV_concat=pd.concat([REV1,REV2], ignore_index = True) ##to concat the 2 revenue columns\n",
    "REV_concat"
   ]
  },
  {
   "cell_type": "code",
   "execution_count": 18,
   "id": "a3b7e492",
   "metadata": {},
   "outputs": [
    {
     "name": "stdout",
     "output_type": "stream",
     "text": [
      "<class 'pandas.core.frame.DataFrame'>\n",
      "RangeIndex: 185 entries, 0 to 184\n",
      "Data columns (total 7 columns):\n",
      " #   Column        Non-Null Count  Dtype  \n",
      "---  ------        --------------  -----  \n",
      " 0   Date          185 non-null    object \n",
      " 1   Week_ID       182 non-null    float64\n",
      " 2   Month Number  182 non-null    float64\n",
      " 3   Month_ID      182 non-null    float64\n",
      " 4   Year          182 non-null    float64\n",
      " 5   Day_Name      182 non-null    object \n",
      " 6   Revenue       178 non-null    float64\n",
      "dtypes: float64(5), object(2)\n",
      "memory usage: 10.2+ KB\n"
     ]
    }
   ],
   "source": [
    "REV_concat.info()  #to know the general overwiew"
   ]
  },
  {
   "cell_type": "code",
   "execution_count": 19,
   "id": "5153b021",
   "metadata": {},
   "outputs": [
    {
     "data": {
      "text/plain": [
       "(185, 7)"
      ]
     },
     "execution_count": 19,
     "metadata": {},
     "output_type": "execute_result"
    }
   ],
   "source": [
    "REV_concat.shape #to find out the new concatenated revenue rows and columns"
   ]
  },
  {
   "cell_type": "code",
   "execution_count": 20,
   "id": "3213f09f",
   "metadata": {},
   "outputs": [
    {
     "data": {
      "text/html": [
       "<div>\n",
       "<style scoped>\n",
       "    .dataframe tbody tr th:only-of-type {\n",
       "        vertical-align: middle;\n",
       "    }\n",
       "\n",
       "    .dataframe tbody tr th {\n",
       "        vertical-align: top;\n",
       "    }\n",
       "\n",
       "    .dataframe thead th {\n",
       "        text-align: right;\n",
       "    }\n",
       "</style>\n",
       "<table border=\"1\" class=\"dataframe\">\n",
       "  <thead>\n",
       "    <tr style=\"text-align: right;\">\n",
       "      <th></th>\n",
       "      <th>Date</th>\n",
       "      <th>Visitors</th>\n",
       "    </tr>\n",
       "  </thead>\n",
       "  <tbody>\n",
       "    <tr>\n",
       "      <th>0</th>\n",
       "      <td>2020-11-09</td>\n",
       "      <td>707.0</td>\n",
       "    </tr>\n",
       "    <tr>\n",
       "      <th>1</th>\n",
       "      <td>2020-11-10</td>\n",
       "      <td>1455.0</td>\n",
       "    </tr>\n",
       "    <tr>\n",
       "      <th>2</th>\n",
       "      <td>2020-11-11</td>\n",
       "      <td>1520.0</td>\n",
       "    </tr>\n",
       "    <tr>\n",
       "      <th>3</th>\n",
       "      <td>2020-11-12</td>\n",
       "      <td>1726.0</td>\n",
       "    </tr>\n",
       "    <tr>\n",
       "      <th>4</th>\n",
       "      <td>2020-11-13</td>\n",
       "      <td>2134.0</td>\n",
       "    </tr>\n",
       "  </tbody>\n",
       "</table>\n",
       "</div>"
      ],
      "text/plain": [
       "        Date  Visitors\n",
       "0 2020-11-09     707.0\n",
       "1 2020-11-10    1455.0\n",
       "2 2020-11-11    1520.0\n",
       "3 2020-11-12    1726.0\n",
       "4 2020-11-13    2134.0"
      ]
     },
     "execution_count": 20,
     "metadata": {},
     "output_type": "execute_result"
    }
   ],
   "source": [
    "visitors.head()  #to view the first 5 rows of visitors dataset"
   ]
  },
  {
   "cell_type": "code",
   "execution_count": 21,
   "id": "42f6ffcb",
   "metadata": {},
   "outputs": [
    {
     "data": {
      "text/html": [
       "<div>\n",
       "<style scoped>\n",
       "    .dataframe tbody tr th:only-of-type {\n",
       "        vertical-align: middle;\n",
       "    }\n",
       "\n",
       "    .dataframe tbody tr th {\n",
       "        vertical-align: top;\n",
       "    }\n",
       "\n",
       "    .dataframe thead th {\n",
       "        text-align: right;\n",
       "    }\n",
       "</style>\n",
       "<table border=\"1\" class=\"dataframe\">\n",
       "  <thead>\n",
       "    <tr style=\"text-align: right;\">\n",
       "      <th></th>\n",
       "      <th>Date</th>\n",
       "      <th>Visitors</th>\n",
       "    </tr>\n",
       "  </thead>\n",
       "  <tbody>\n",
       "    <tr>\n",
       "      <th>180</th>\n",
       "      <td>2021-05-08</td>\n",
       "      <td>1483.0</td>\n",
       "    </tr>\n",
       "    <tr>\n",
       "      <th>181</th>\n",
       "      <td>2021-05-09</td>\n",
       "      <td>1303.0</td>\n",
       "    </tr>\n",
       "    <tr>\n",
       "      <th>182</th>\n",
       "      <td>2021-05-10</td>\n",
       "      <td>NaN</td>\n",
       "    </tr>\n",
       "    <tr>\n",
       "      <th>183</th>\n",
       "      <td>2021-05-11</td>\n",
       "      <td>NaN</td>\n",
       "    </tr>\n",
       "    <tr>\n",
       "      <th>184</th>\n",
       "      <td>2021-05-12</td>\n",
       "      <td>NaN</td>\n",
       "    </tr>\n",
       "  </tbody>\n",
       "</table>\n",
       "</div>"
      ],
      "text/plain": [
       "          Date  Visitors\n",
       "180 2021-05-08    1483.0\n",
       "181 2021-05-09    1303.0\n",
       "182 2021-05-10       NaN\n",
       "183 2021-05-11       NaN\n",
       "184 2021-05-12       NaN"
      ]
     },
     "execution_count": 21,
     "metadata": {},
     "output_type": "execute_result"
    }
   ],
   "source": [
    "visitors.tail()#to view the last 5 rows of visitors dataset"
   ]
  },
  {
   "cell_type": "code",
   "execution_count": 22,
   "id": "787999d0",
   "metadata": {},
   "outputs": [
    {
     "data": {
      "text/html": [
       "<div>\n",
       "<style scoped>\n",
       "    .dataframe tbody tr th:only-of-type {\n",
       "        vertical-align: middle;\n",
       "    }\n",
       "\n",
       "    .dataframe tbody tr th {\n",
       "        vertical-align: top;\n",
       "    }\n",
       "\n",
       "    .dataframe thead th {\n",
       "        text-align: right;\n",
       "    }\n",
       "</style>\n",
       "<table border=\"1\" class=\"dataframe\">\n",
       "  <thead>\n",
       "    <tr style=\"text-align: right;\">\n",
       "      <th></th>\n",
       "      <th>Date</th>\n",
       "      <th>Week_ID</th>\n",
       "      <th>Month Number</th>\n",
       "      <th>Month_ID</th>\n",
       "      <th>Year</th>\n",
       "      <th>Day_Name</th>\n",
       "      <th>Revenue</th>\n",
       "      <th>Marketing Spend</th>\n",
       "      <th>Promo</th>\n",
       "    </tr>\n",
       "  </thead>\n",
       "  <tbody>\n",
       "    <tr>\n",
       "      <th>0</th>\n",
       "      <td>09/11/2020</td>\n",
       "      <td>34.0</td>\n",
       "      <td>11.0</td>\n",
       "      <td>11.0</td>\n",
       "      <td>2020.0</td>\n",
       "      <td>Monday</td>\n",
       "      <td>465.0</td>\n",
       "      <td>651.375</td>\n",
       "      <td>No Promo</td>\n",
       "    </tr>\n",
       "    <tr>\n",
       "      <th>1</th>\n",
       "      <td>10/11/2020</td>\n",
       "      <td>34.0</td>\n",
       "      <td>11.0</td>\n",
       "      <td>11.0</td>\n",
       "      <td>2020.0</td>\n",
       "      <td>Tuesday</td>\n",
       "      <td>10386.0</td>\n",
       "      <td>1298.250</td>\n",
       "      <td>Promotion Red</td>\n",
       "    </tr>\n",
       "    <tr>\n",
       "      <th>2</th>\n",
       "      <td>11/11/2020</td>\n",
       "      <td>34.0</td>\n",
       "      <td>11.0</td>\n",
       "      <td>11.0</td>\n",
       "      <td>2020.0</td>\n",
       "      <td>Wednesday</td>\n",
       "      <td>12475.0</td>\n",
       "      <td>1559.375</td>\n",
       "      <td>Promotion Blue</td>\n",
       "    </tr>\n",
       "    <tr>\n",
       "      <th>3</th>\n",
       "      <td>12/11/2020</td>\n",
       "      <td>34.0</td>\n",
       "      <td>11.0</td>\n",
       "      <td>11.0</td>\n",
       "      <td>2020.0</td>\n",
       "      <td>Thursday</td>\n",
       "      <td>11712.0</td>\n",
       "      <td>1801.750</td>\n",
       "      <td>No Promo</td>\n",
       "    </tr>\n",
       "    <tr>\n",
       "      <th>4</th>\n",
       "      <td>13/11/2020</td>\n",
       "      <td>34.0</td>\n",
       "      <td>11.0</td>\n",
       "      <td>11.0</td>\n",
       "      <td>2020.0</td>\n",
       "      <td>Friday</td>\n",
       "      <td>10000.0</td>\n",
       "      <td>2614.500</td>\n",
       "      <td>No Promo</td>\n",
       "    </tr>\n",
       "  </tbody>\n",
       "</table>\n",
       "</div>"
      ],
      "text/plain": [
       "         Date  Week_ID  Month Number  Month_ID    Year   Day_Name  Revenue  \\\n",
       "0  09/11/2020     34.0          11.0      11.0  2020.0     Monday    465.0   \n",
       "1  10/11/2020     34.0          11.0      11.0  2020.0    Tuesday  10386.0   \n",
       "2  11/11/2020     34.0          11.0      11.0  2020.0  Wednesday  12475.0   \n",
       "3  12/11/2020     34.0          11.0      11.0  2020.0   Thursday  11712.0   \n",
       "4  13/11/2020     34.0          11.0      11.0  2020.0     Friday  10000.0   \n",
       "\n",
       "   Marketing Spend           Promo  \n",
       "0          651.375        No Promo  \n",
       "1         1298.250   Promotion Red  \n",
       "2         1559.375  Promotion Blue  \n",
       "3         1801.750        No Promo  \n",
       "4         2614.500        No Promo  "
      ]
     },
     "execution_count": 22,
     "metadata": {},
     "output_type": "execute_result"
    }
   ],
   "source": [
    "rev_mar_merged=REV_concat.merge(D1, how='outer')\n",
    "rev_mar_merged.head()                                          #merging datasets with siimilar datatypes i.e D1 and REV_concat"
   ]
  },
  {
   "cell_type": "code",
   "execution_count": 23,
   "id": "9733e80c",
   "metadata": {},
   "outputs": [
    {
     "data": {
      "text/plain": [
       "(185, 9)"
      ]
     },
     "execution_count": 23,
     "metadata": {},
     "output_type": "execute_result"
    }
   ],
   "source": [
    "rev_mar_merged.shape  #to kee tabs on the total number of rows and columns to avoid data skewness"
   ]
  },
  {
   "cell_type": "code",
   "execution_count": 24,
   "id": "7659b342",
   "metadata": {},
   "outputs": [
    {
     "name": "stdout",
     "output_type": "stream",
     "text": [
      "<class 'pandas.core.frame.DataFrame'>\n",
      "Int64Index: 185 entries, 0 to 184\n",
      "Data columns (total 9 columns):\n",
      " #   Column           Non-Null Count  Dtype  \n",
      "---  ------           --------------  -----  \n",
      " 0   Date             185 non-null    object \n",
      " 1   Week_ID          182 non-null    float64\n",
      " 2   Month Number     182 non-null    float64\n",
      " 3   Month_ID         182 non-null    float64\n",
      " 4   Year             182 non-null    float64\n",
      " 5   Day_Name         182 non-null    object \n",
      " 6   Revenue          178 non-null    float64\n",
      " 7   Marketing Spend  178 non-null    float64\n",
      " 8   Promo            182 non-null    object \n",
      "dtypes: float64(6), object(3)\n",
      "memory usage: 14.5+ KB\n"
     ]
    }
   ],
   "source": [
    "rev_mar_merged.info()"
   ]
  },
  {
   "cell_type": "markdown",
   "id": "a7ab5e76",
   "metadata": {},
   "source": [
    "it is noticed that the 'DATE' column of marketting(D1) and the concatenated REVENUE (REV_concat) are of the same datatype, they will be merged and changed to the correct format which is datetime."
   ]
  },
  {
   "cell_type": "code",
   "execution_count": 25,
   "id": "e3baf0c2",
   "metadata": {},
   "outputs": [
    {
     "data": {
      "text/plain": [
       "dtype('<M8[ns]')"
      ]
     },
     "execution_count": 25,
     "metadata": {},
     "output_type": "execute_result"
    }
   ],
   "source": [
    "rev_mar_merged['Date'] = pd.to_datetime(rev_mar_merged['Date'], format='%d/%m/%Y')\n",
    "\n",
    "rev_mar_merged['Date'].dtype"
   ]
  },
  {
   "cell_type": "markdown",
   "id": "af79d65a",
   "metadata": {},
   "source": [
    "we then merge the whole data sets to make a single dataset, since they all have correctdatatye of  \"DATE COLUMN\" unique to each of them, we merge on the date column"
   ]
  },
  {
   "cell_type": "code",
   "execution_count": 26,
   "id": "9a7b9ded",
   "metadata": {},
   "outputs": [
    {
     "data": {
      "text/html": [
       "<div>\n",
       "<style scoped>\n",
       "    .dataframe tbody tr th:only-of-type {\n",
       "        vertical-align: middle;\n",
       "    }\n",
       "\n",
       "    .dataframe tbody tr th {\n",
       "        vertical-align: top;\n",
       "    }\n",
       "\n",
       "    .dataframe thead th {\n",
       "        text-align: right;\n",
       "    }\n",
       "</style>\n",
       "<table border=\"1\" class=\"dataframe\">\n",
       "  <thead>\n",
       "    <tr style=\"text-align: right;\">\n",
       "      <th></th>\n",
       "      <th>Date</th>\n",
       "      <th>Week_ID</th>\n",
       "      <th>Month Number</th>\n",
       "      <th>Month_ID</th>\n",
       "      <th>Year</th>\n",
       "      <th>Day_Name</th>\n",
       "      <th>Revenue</th>\n",
       "      <th>Marketing Spend</th>\n",
       "      <th>Promo</th>\n",
       "      <th>Visitors</th>\n",
       "    </tr>\n",
       "  </thead>\n",
       "  <tbody>\n",
       "    <tr>\n",
       "      <th>0</th>\n",
       "      <td>2020-11-09</td>\n",
       "      <td>34.0</td>\n",
       "      <td>11.0</td>\n",
       "      <td>11.0</td>\n",
       "      <td>2020.0</td>\n",
       "      <td>Monday</td>\n",
       "      <td>465.0</td>\n",
       "      <td>651.375</td>\n",
       "      <td>No Promo</td>\n",
       "      <td>707.0</td>\n",
       "    </tr>\n",
       "    <tr>\n",
       "      <th>1</th>\n",
       "      <td>2020-11-10</td>\n",
       "      <td>34.0</td>\n",
       "      <td>11.0</td>\n",
       "      <td>11.0</td>\n",
       "      <td>2020.0</td>\n",
       "      <td>Tuesday</td>\n",
       "      <td>10386.0</td>\n",
       "      <td>1298.250</td>\n",
       "      <td>Promotion Red</td>\n",
       "      <td>1455.0</td>\n",
       "    </tr>\n",
       "    <tr>\n",
       "      <th>2</th>\n",
       "      <td>2020-11-11</td>\n",
       "      <td>34.0</td>\n",
       "      <td>11.0</td>\n",
       "      <td>11.0</td>\n",
       "      <td>2020.0</td>\n",
       "      <td>Wednesday</td>\n",
       "      <td>12475.0</td>\n",
       "      <td>1559.375</td>\n",
       "      <td>Promotion Blue</td>\n",
       "      <td>1520.0</td>\n",
       "    </tr>\n",
       "    <tr>\n",
       "      <th>3</th>\n",
       "      <td>2020-11-12</td>\n",
       "      <td>34.0</td>\n",
       "      <td>11.0</td>\n",
       "      <td>11.0</td>\n",
       "      <td>2020.0</td>\n",
       "      <td>Thursday</td>\n",
       "      <td>11712.0</td>\n",
       "      <td>1801.750</td>\n",
       "      <td>No Promo</td>\n",
       "      <td>1726.0</td>\n",
       "    </tr>\n",
       "    <tr>\n",
       "      <th>4</th>\n",
       "      <td>2020-11-13</td>\n",
       "      <td>34.0</td>\n",
       "      <td>11.0</td>\n",
       "      <td>11.0</td>\n",
       "      <td>2020.0</td>\n",
       "      <td>Friday</td>\n",
       "      <td>10000.0</td>\n",
       "      <td>2614.500</td>\n",
       "      <td>No Promo</td>\n",
       "      <td>2134.0</td>\n",
       "    </tr>\n",
       "  </tbody>\n",
       "</table>\n",
       "</div>"
      ],
      "text/plain": [
       "        Date  Week_ID  Month Number  Month_ID    Year   Day_Name  Revenue  \\\n",
       "0 2020-11-09     34.0          11.0      11.0  2020.0     Monday    465.0   \n",
       "1 2020-11-10     34.0          11.0      11.0  2020.0    Tuesday  10386.0   \n",
       "2 2020-11-11     34.0          11.0      11.0  2020.0  Wednesday  12475.0   \n",
       "3 2020-11-12     34.0          11.0      11.0  2020.0   Thursday  11712.0   \n",
       "4 2020-11-13     34.0          11.0      11.0  2020.0     Friday  10000.0   \n",
       "\n",
       "   Marketing Spend           Promo  Visitors  \n",
       "0          651.375        No Promo     707.0  \n",
       "1         1298.250   Promotion Red    1455.0  \n",
       "2         1559.375  Promotion Blue    1520.0  \n",
       "3         1801.750        No Promo    1726.0  \n",
       "4         2614.500        No Promo    2134.0  "
      ]
     },
     "execution_count": 26,
     "metadata": {},
     "output_type": "execute_result"
    }
   ],
   "source": [
    "final_merged= rev_mar_merged.merge(visitors,on='Date') #merging to form one dataset\n",
    "final_merged.head() #to check the first 5 rows"
   ]
  },
  {
   "cell_type": "code",
   "execution_count": 27,
   "id": "6003655b",
   "metadata": {},
   "outputs": [
    {
     "data": {
      "text/html": [
       "<div>\n",
       "<style scoped>\n",
       "    .dataframe tbody tr th:only-of-type {\n",
       "        vertical-align: middle;\n",
       "    }\n",
       "\n",
       "    .dataframe tbody tr th {\n",
       "        vertical-align: top;\n",
       "    }\n",
       "\n",
       "    .dataframe thead th {\n",
       "        text-align: right;\n",
       "    }\n",
       "</style>\n",
       "<table border=\"1\" class=\"dataframe\">\n",
       "  <thead>\n",
       "    <tr style=\"text-align: right;\">\n",
       "      <th></th>\n",
       "      <th>Date</th>\n",
       "      <th>Week_ID</th>\n",
       "      <th>Month Number</th>\n",
       "      <th>Month_ID</th>\n",
       "      <th>Year</th>\n",
       "      <th>Day_Name</th>\n",
       "      <th>Revenue</th>\n",
       "      <th>Marketing Spend</th>\n",
       "      <th>Promo</th>\n",
       "      <th>Visitors</th>\n",
       "    </tr>\n",
       "  </thead>\n",
       "  <tbody>\n",
       "    <tr>\n",
       "      <th>180</th>\n",
       "      <td>2021-05-08</td>\n",
       "      <td>60.0</td>\n",
       "      <td>5.0</td>\n",
       "      <td>17.0</td>\n",
       "      <td>2021.0</td>\n",
       "      <td>Saturday</td>\n",
       "      <td>5927.0</td>\n",
       "      <td>1121.875</td>\n",
       "      <td>No Promo</td>\n",
       "      <td>1483.0</td>\n",
       "    </tr>\n",
       "    <tr>\n",
       "      <th>181</th>\n",
       "      <td>2021-05-09</td>\n",
       "      <td>61.0</td>\n",
       "      <td>5.0</td>\n",
       "      <td>17.0</td>\n",
       "      <td>2021.0</td>\n",
       "      <td>Sunday</td>\n",
       "      <td>3861.0</td>\n",
       "      <td>871.000</td>\n",
       "      <td>No Promo</td>\n",
       "      <td>1303.0</td>\n",
       "    </tr>\n",
       "    <tr>\n",
       "      <th>182</th>\n",
       "      <td>2021-05-10</td>\n",
       "      <td>NaN</td>\n",
       "      <td>NaN</td>\n",
       "      <td>NaN</td>\n",
       "      <td>NaN</td>\n",
       "      <td>NaN</td>\n",
       "      <td>NaN</td>\n",
       "      <td>NaN</td>\n",
       "      <td>NaN</td>\n",
       "      <td>NaN</td>\n",
       "    </tr>\n",
       "    <tr>\n",
       "      <th>183</th>\n",
       "      <td>2021-05-11</td>\n",
       "      <td>NaN</td>\n",
       "      <td>NaN</td>\n",
       "      <td>NaN</td>\n",
       "      <td>NaN</td>\n",
       "      <td>NaN</td>\n",
       "      <td>NaN</td>\n",
       "      <td>NaN</td>\n",
       "      <td>NaN</td>\n",
       "      <td>NaN</td>\n",
       "    </tr>\n",
       "    <tr>\n",
       "      <th>184</th>\n",
       "      <td>2021-05-12</td>\n",
       "      <td>NaN</td>\n",
       "      <td>NaN</td>\n",
       "      <td>NaN</td>\n",
       "      <td>NaN</td>\n",
       "      <td>NaN</td>\n",
       "      <td>NaN</td>\n",
       "      <td>NaN</td>\n",
       "      <td>NaN</td>\n",
       "      <td>NaN</td>\n",
       "    </tr>\n",
       "  </tbody>\n",
       "</table>\n",
       "</div>"
      ],
      "text/plain": [
       "          Date  Week_ID  Month Number  Month_ID    Year  Day_Name  Revenue  \\\n",
       "180 2021-05-08     60.0           5.0      17.0  2021.0  Saturday   5927.0   \n",
       "181 2021-05-09     61.0           5.0      17.0  2021.0    Sunday   3861.0   \n",
       "182 2021-05-10      NaN           NaN       NaN     NaN       NaN      NaN   \n",
       "183 2021-05-11      NaN           NaN       NaN     NaN       NaN      NaN   \n",
       "184 2021-05-12      NaN           NaN       NaN     NaN       NaN      NaN   \n",
       "\n",
       "     Marketing Spend     Promo  Visitors  \n",
       "180         1121.875  No Promo    1483.0  \n",
       "181          871.000  No Promo    1303.0  \n",
       "182              NaN       NaN       NaN  \n",
       "183              NaN       NaN       NaN  \n",
       "184              NaN       NaN       NaN  "
      ]
     },
     "execution_count": 27,
     "metadata": {},
     "output_type": "execute_result"
    }
   ],
   "source": [
    "final_merged.tail() #to check the last 5 rows,there are still NANS which need to be removed"
   ]
  },
  {
   "cell_type": "code",
   "execution_count": 28,
   "id": "a7ea856f",
   "metadata": {},
   "outputs": [
    {
     "data": {
      "text/html": [
       "<div>\n",
       "<style scoped>\n",
       "    .dataframe tbody tr th:only-of-type {\n",
       "        vertical-align: middle;\n",
       "    }\n",
       "\n",
       "    .dataframe tbody tr th {\n",
       "        vertical-align: top;\n",
       "    }\n",
       "\n",
       "    .dataframe thead th {\n",
       "        text-align: right;\n",
       "    }\n",
       "</style>\n",
       "<table border=\"1\" class=\"dataframe\">\n",
       "  <thead>\n",
       "    <tr style=\"text-align: right;\">\n",
       "      <th></th>\n",
       "      <th>Date</th>\n",
       "      <th>Week_ID</th>\n",
       "      <th>Month Number</th>\n",
       "      <th>Month_ID</th>\n",
       "      <th>Year</th>\n",
       "      <th>Day_Name</th>\n",
       "      <th>Revenue</th>\n",
       "      <th>Marketing Spend</th>\n",
       "      <th>Promo</th>\n",
       "      <th>Visitors</th>\n",
       "    </tr>\n",
       "  </thead>\n",
       "  <tbody>\n",
       "    <tr>\n",
       "      <th>177</th>\n",
       "      <td>2021-05-05</td>\n",
       "      <td>60.0</td>\n",
       "      <td>5.0</td>\n",
       "      <td>17.0</td>\n",
       "      <td>2021.0</td>\n",
       "      <td>Wednesday</td>\n",
       "      <td>7284.0</td>\n",
       "      <td>1119.600000</td>\n",
       "      <td>No Promo</td>\n",
       "      <td>1400.0</td>\n",
       "    </tr>\n",
       "    <tr>\n",
       "      <th>178</th>\n",
       "      <td>2021-05-06</td>\n",
       "      <td>60.0</td>\n",
       "      <td>5.0</td>\n",
       "      <td>17.0</td>\n",
       "      <td>2021.0</td>\n",
       "      <td>Thursday</td>\n",
       "      <td>13021.0</td>\n",
       "      <td>2067.888889</td>\n",
       "      <td>Promotion Red</td>\n",
       "      <td>2244.0</td>\n",
       "    </tr>\n",
       "    <tr>\n",
       "      <th>179</th>\n",
       "      <td>2021-05-07</td>\n",
       "      <td>60.0</td>\n",
       "      <td>5.0</td>\n",
       "      <td>17.0</td>\n",
       "      <td>2021.0</td>\n",
       "      <td>Friday</td>\n",
       "      <td>4587.0</td>\n",
       "      <td>NaN</td>\n",
       "      <td>No Promo</td>\n",
       "      <td>2023.0</td>\n",
       "    </tr>\n",
       "    <tr>\n",
       "      <th>180</th>\n",
       "      <td>2021-05-08</td>\n",
       "      <td>60.0</td>\n",
       "      <td>5.0</td>\n",
       "      <td>17.0</td>\n",
       "      <td>2021.0</td>\n",
       "      <td>Saturday</td>\n",
       "      <td>5927.0</td>\n",
       "      <td>1121.875000</td>\n",
       "      <td>No Promo</td>\n",
       "      <td>1483.0</td>\n",
       "    </tr>\n",
       "    <tr>\n",
       "      <th>181</th>\n",
       "      <td>2021-05-09</td>\n",
       "      <td>61.0</td>\n",
       "      <td>5.0</td>\n",
       "      <td>17.0</td>\n",
       "      <td>2021.0</td>\n",
       "      <td>Sunday</td>\n",
       "      <td>3861.0</td>\n",
       "      <td>871.000000</td>\n",
       "      <td>No Promo</td>\n",
       "      <td>1303.0</td>\n",
       "    </tr>\n",
       "  </tbody>\n",
       "</table>\n",
       "</div>"
      ],
      "text/plain": [
       "          Date  Week_ID  Month Number  Month_ID    Year   Day_Name  Revenue  \\\n",
       "177 2021-05-05     60.0           5.0      17.0  2021.0  Wednesday   7284.0   \n",
       "178 2021-05-06     60.0           5.0      17.0  2021.0   Thursday  13021.0   \n",
       "179 2021-05-07     60.0           5.0      17.0  2021.0     Friday   4587.0   \n",
       "180 2021-05-08     60.0           5.0      17.0  2021.0   Saturday   5927.0   \n",
       "181 2021-05-09     61.0           5.0      17.0  2021.0     Sunday   3861.0   \n",
       "\n",
       "     Marketing Spend          Promo  Visitors  \n",
       "177      1119.600000       No Promo    1400.0  \n",
       "178      2067.888889  Promotion Red    2244.0  \n",
       "179              NaN       No Promo    2023.0  \n",
       "180      1121.875000       No Promo    1483.0  \n",
       "181       871.000000       No Promo    1303.0  "
      ]
     },
     "execution_count": 28,
     "metadata": {},
     "output_type": "execute_result"
    }
   ],
   "source": [
    "final_merged.drop([182,183,184],axis=0, inplace=True)  #dropping the rows that are empty and filled with NANS\n",
    "final_merged.tail()"
   ]
  },
  {
   "cell_type": "code",
   "execution_count": 29,
   "id": "318c0331",
   "metadata": {},
   "outputs": [
    {
     "data": {
      "text/plain": [
       "(182, 10)"
      ]
     },
     "execution_count": 29,
     "metadata": {},
     "output_type": "execute_result"
    }
   ],
   "source": [
    "final_merged.shape #checking the overview of the merged dataset"
   ]
  },
  {
   "cell_type": "code",
   "execution_count": 30,
   "id": "8dc26d17",
   "metadata": {},
   "outputs": [
    {
     "name": "stdout",
     "output_type": "stream",
     "text": [
      "<class 'pandas.core.frame.DataFrame'>\n",
      "Int64Index: 182 entries, 0 to 181\n",
      "Data columns (total 10 columns):\n",
      " #   Column           Non-Null Count  Dtype         \n",
      "---  ------           --------------  -----         \n",
      " 0   Date             182 non-null    datetime64[ns]\n",
      " 1   Week_ID          182 non-null    float64       \n",
      " 2   Month Number     182 non-null    float64       \n",
      " 3   Month_ID         182 non-null    float64       \n",
      " 4   Year             182 non-null    float64       \n",
      " 5   Day_Name         182 non-null    object        \n",
      " 6   Revenue          178 non-null    float64       \n",
      " 7   Marketing Spend  178 non-null    float64       \n",
      " 8   Promo            182 non-null    object        \n",
      " 9   Visitors         177 non-null    float64       \n",
      "dtypes: datetime64[ns](1), float64(7), object(2)\n",
      "memory usage: 15.6+ KB\n"
     ]
    }
   ],
   "source": [
    "final_merged.info() #checking the overview of the merged dataset"
   ]
  },
  {
   "cell_type": "code",
   "execution_count": 31,
   "id": "9b2747b2",
   "metadata": {},
   "outputs": [
    {
     "data": {
      "text/plain": [
       "Date               0\n",
       "Week_ID            0\n",
       "Month Number       0\n",
       "Month_ID           0\n",
       "Year               0\n",
       "Day_Name           0\n",
       "Revenue            4\n",
       "Marketing Spend    4\n",
       "Promo              0\n",
       "Visitors           5\n",
       "dtype: int64"
      ]
     },
     "execution_count": 31,
     "metadata": {},
     "output_type": "execute_result"
    }
   ],
   "source": [
    "final_merged.isna().sum() #to check for missing values count in each rows"
   ]
  },
  {
   "cell_type": "code",
   "execution_count": 32,
   "id": "b43c8cb8",
   "metadata": {},
   "outputs": [
    {
     "data": {
      "text/plain": [
       "array([  465., 10386., 12475., 11712., 10000., 12996., 11929.,  5359.,\n",
       "       12016.,  7441.,  8000., 15188.,  3926., 14012.,    nan, 18650.,\n",
       "        5574., 12425., 14760.,  8091., 10647.,  7290.,  4587., 12154.,\n",
       "        8400., 20607.,  3525., 10075.,  6908., 12740., 15288.,  6654.,\n",
       "        9097.,  8802., 11679., 11952.,  4873.,  8516., 18161.,  8800.,\n",
       "        7655., 12038., 10245., 11817., 15991., 21031., 36283., 23014.,\n",
       "        5100.,  7793.,  9180.,  9125., 21428.,  9062.,  9952.,  4714.,\n",
       "        9418., 16325.,  6254.,  7215., 11249., 12129.,  4581.,  8702.,\n",
       "        5937., 14568., 21245., 11699.,  9602.,  8633.,  7287.,  4403.,\n",
       "        3021., 24417.,  6837., 12445., 10925.,   292.,  4085., 11156.,\n",
       "       10485.,  4225.,  4953., 10479., 12783., 18678., 13281., 14356.,\n",
       "        9095.,  7264.,  5263., 20860., 13602.,  5519.,  8741.,  2184.,\n",
       "        5772.,  9987.,  5966.,  4910., 24247.,  3025.,  2409.,  5171.,\n",
       "        9135., 13719., 20237., 26608., 12789.,  7222., 13212.,  4376.,\n",
       "        8223., 16727., 15474., 12850.,  3470.,  3589.,  5187., 13201.,\n",
       "       25704.,  6523., 28196.,  7878.,  3378.,  6047.,  1245., 14909.,\n",
       "        5903.,  4169.,  9486.,  9209., 11494., 15190., 11524., 22587.,\n",
       "        3181., 14587.,  9262.,  5478., 14957., 23368.,  1201., 12027.,\n",
       "        6388.,  8396.,  8828., 16777., 12548., 23870.,  7596., 11221.,\n",
       "       10027., 11484., 16347.,  2546.,  8456.,  5274.,  9645.,  4020.,\n",
       "        2491., 24506.,  3251.,  9360., 11650.,  3884.,  8046.,  9540.,\n",
       "       22655., 16542.,  7445., 12111., 11273.,  3215.,  7284., 13021.,\n",
       "        5927.,  3861.])"
      ]
     },
     "execution_count": 32,
     "metadata": {},
     "output_type": "execute_result"
    }
   ],
   "source": [
    "final_merged['Revenue'].unique() #toknow the unique value in each column, still having missing missing numbers"
   ]
  },
  {
   "cell_type": "code",
   "execution_count": 33,
   "id": "45d9b832",
   "metadata": {},
   "outputs": [
    {
     "data": {
      "text/plain": [
       "array([ 707., 1455., 1520., 1726., 2134., 1316., 1287., 1548., 1448.,\n",
       "         nan, 2321., 1819., 1180., 2138., 2632., 1752.,  627., 2105.,\n",
       "       1671., 1105., 1698., 1541., 1245., 2171., 1975., 1186., 1822.,\n",
       "       1584., 1961., 2464., 2394., 1322., 1167., 1163., 1772., 1740.,\n",
       "       1317., 2330., 2056., 1191., 1828., 1605., 1571., 1288., 2556.,\n",
       "       2152., 2020., 1480., 1226., 1328., 2295., 2032., 1030., 1442.,\n",
       "       1476., 1272., 2054., 4139., 2286., 1371., 1484., 1454., 1243.,\n",
       "       2753., 2312., 1414., 1524., 1469., 1302., 1659., 2120., 2482.,\n",
       "       1820., 1628., 1430.,  488., 1084., 1844., 1065., 1582., 1407.,\n",
       "       1496., 2176., 2010., 2015., 1488., 1608., 1337., 2266., 1925.,\n",
       "        826., 1387.,  599.,  968., 1482., 1420., 1171., 2395., 2029.,\n",
       "       1047., 1464., 1428., 1154., 1841., 2248., 2553., 1797., 1912.,\n",
       "       1786., 1096., 1068., 1976., 1806., 1621., 1001., 1477., 1401.,\n",
       "       2190., 2439., 2220., 2732.,  967., 1544., 2194., 1923.,  685.,\n",
       "        543., 1472., 1368., 2080., 2611., 2434., 1437., 1642., 1320.,\n",
       "       1363., 2068., 2311., 2091., 1532., 1406., 1244., 1812., 2273.,\n",
       "       2158., 1625., 1485., 1499., 1511., 1803., 2101., 1915., 1509.,\n",
       "       1399., 1648., 1122., 2302., 1942., 1345., 1166., 1256., 1236.,\n",
       "       2139., 1836., 1423., 1382., 1400., 2244., 2023., 1483., 1303.])"
      ]
     },
     "execution_count": 33,
     "metadata": {},
     "output_type": "execute_result"
    }
   ],
   "source": [
    "final_merged['Visitors'].unique()"
   ]
  },
  {
   "cell_type": "code",
   "execution_count": 34,
   "id": "8bf1e4f7",
   "metadata": {},
   "outputs": [
    {
     "data": {
      "text/plain": [
       "array([ 651.375    , 1298.25     , 1559.375    , 1801.75     ,\n",
       "       2614.5      , 1444.       , 1325.444444 , 1119.111111 ,\n",
       "       1092.363636 ,  906.7      , 1605.454545 , 1687.555556 ,\n",
       "        710.2727273, 2745.375    , 4284.75     , 1695.454545 ,\n",
       "        696.75     , 1572.181818 ,          nan,  899.       ,\n",
       "       1330.875    , 1016.       ,  923.       , 1425.4      ,\n",
       "       1664.4      , 2575.875    ,  776.5      ,  915.9090909,\n",
       "        961.2      , 1450.125    , 1811.111111 , 1971.111111 ,\n",
       "       1267.5      , 1010.777778 , 1297.666667 , 1086.545455 ,\n",
       "       1023.666667 , 1601.636364 , 2270.125    ,  880.       ,\n",
       "       1304.111111 , 1203.8      , 1024.5      , 1181.7      ,\n",
       "       1955.       , 2336.777778 , 4535.375    , 2557.111111 ,\n",
       "        782.8181818,  779.3      ,  918.       , 2410.       ,\n",
       "       1948.       , 1006.888889 , 1244.       , 1070.375    ,\n",
       "        856.1818182, 2862.888889 , 3014.6      , 1596.2      ,\n",
       "       1406.125    , 1516.125    ,  912.5      ,  870.2      ,\n",
       "        834.3333333, 2072.454545 , 2655.625    , 1169.9      ,\n",
       "        960.2      ,  784.8181818,  728.7      ,  841.9090909,\n",
       "       1641.111111 , 2713.       , 1029.909091 , 1244.5      ,\n",
       "       1365.625    ,  322.       ,  881.125    , 1425.777778 ,\n",
       "       1447.111111 ,  786.       , 1035.111111 , 1047.9      ,\n",
       "       1162.090909 , 1698.       , 1336.       , 2207.625    ,\n",
       "        909.5      ,  836.2727273,  929.4      , 2317.777778 ,\n",
       "       1511.333333 ,  818.25     ,  937.2727273,  424.       ,\n",
       "        524.7272727,  907.9090909,  935.7777778,  780.9      ,\n",
       "       3030.875    , 1336.909091 ,  803.375    ,  829.1111111,\n",
       "        837.1      , 1015.       , 1371.9      , 2529.625    ,\n",
       "       2418.909091 , 1278.9      , 1337.333333 , 1468.       ,\n",
       "        615.5      ,  822.3      , 1672.7      , 1719.333333 ,\n",
       "       1427.777778 ,  668.1      ,  926.4444444,  779.       ,\n",
       "       1613.818182 , 2570.4      , 1912.75     , 3524.5      ,\n",
       "        787.8      ,  734.8181818,  939.75     , 1826.       ,\n",
       "       1490.9      ,  590.3      ,  521.125    ,  862.3636364,\n",
       "       1151.125    , 1277.111111 , 2837.625    , 2258.7      ,\n",
       "        868.8888889, 1620.777778 ,  842.       ,  866.       ,\n",
       "       1869.625    , 2921.       , 1972.75     , 1336.333333 ,\n",
       "        754.5      ,  763.2727273,  882.8      , 1677.7      ,\n",
       "       1803.909091 , 2652.222222 , 1043.1      , 1020.090909 ,\n",
       "       1114.111111 , 1148.4      , 1634.7      , 1758.666667 ,\n",
       "       1337.636364 ,  865.4545455, 1531.375    ,  964.5      ,\n",
       "        784.2222222,  732.3333333, 2227.818182 , 1595.333333 ,\n",
       "        850.9090909, 1059.090909 ,  843.8      ,  731.4545455,\n",
       "       1060.       , 2059.545455 , 1916.7      ,  805.6363636,\n",
       "       1513.875    , 1024.818182 , 1533.888889 , 1119.6      ,\n",
       "       2067.888889 , 1121.875    ,  871.       ])"
      ]
     },
     "execution_count": 34,
     "metadata": {},
     "output_type": "execute_result"
    }
   ],
   "source": [
    "final_merged['Marketing Spend'].unique()"
   ]
  },
  {
   "cell_type": "code",
   "execution_count": 35,
   "id": "930fb84a",
   "metadata": {},
   "outputs": [
    {
     "data": {
      "text/plain": [
       "array(['Monday', 'Tuesday', 'Wednesday', 'Thursday', 'Friday', 'Saturday',\n",
       "       'Sunday'], dtype=object)"
      ]
     },
     "execution_count": 35,
     "metadata": {},
     "output_type": "execute_result"
    }
   ],
   "source": [
    "final_merged['Day_Name'].unique()"
   ]
  },
  {
   "cell_type": "code",
   "execution_count": 36,
   "id": "493823dd",
   "metadata": {},
   "outputs": [
    {
     "data": {
      "text/plain": [
       "array(['No Promo', 'Promotion Red', 'Promotion Blue'], dtype=object)"
      ]
     },
     "execution_count": 36,
     "metadata": {},
     "output_type": "execute_result"
    }
   ],
   "source": [
    "final_merged['Promo'].unique()"
   ]
  },
  {
   "cell_type": "code",
   "execution_count": 37,
   "id": "5af44e08",
   "metadata": {},
   "outputs": [
    {
     "data": {
      "text/plain": [
       "array([2020., 2021.])"
      ]
     },
     "execution_count": 37,
     "metadata": {},
     "output_type": "execute_result"
    }
   ],
   "source": [
    "final_merged['Year'].unique()"
   ]
  },
  {
   "cell_type": "code",
   "execution_count": 38,
   "id": "460edc22",
   "metadata": {},
   "outputs": [
    {
     "data": {
      "text/plain": [
       "array([11., 12.,  1.,  2.,  3.,  4.,  5.])"
      ]
     },
     "execution_count": 38,
     "metadata": {},
     "output_type": "execute_result"
    }
   ],
   "source": [
    "final_merged['Month Number'].unique()"
   ]
  },
  {
   "cell_type": "code",
   "execution_count": 39,
   "id": "b6a940a7",
   "metadata": {},
   "outputs": [
    {
     "data": {
      "text/plain": [
       "array([34., 35., 36., 37., 38., 39., 40., 41., 42., 43., 44., 45., 46.,\n",
       "       47., 48., 49., 50., 51., 52., 53., 54., 55., 56., 57., 58., 59.,\n",
       "       60., 61.])"
      ]
     },
     "execution_count": 39,
     "metadata": {},
     "output_type": "execute_result"
    }
   ],
   "source": [
    "final_merged['Week_ID'].unique()"
   ]
  },
  {
   "cell_type": "code",
   "execution_count": 40,
   "id": "7ceb9a25",
   "metadata": {},
   "outputs": [
    {
     "data": {
      "text/html": [
       "<div>\n",
       "<style scoped>\n",
       "    .dataframe tbody tr th:only-of-type {\n",
       "        vertical-align: middle;\n",
       "    }\n",
       "\n",
       "    .dataframe tbody tr th {\n",
       "        vertical-align: top;\n",
       "    }\n",
       "\n",
       "    .dataframe thead th {\n",
       "        text-align: right;\n",
       "    }\n",
       "</style>\n",
       "<table border=\"1\" class=\"dataframe\">\n",
       "  <thead>\n",
       "    <tr style=\"text-align: right;\">\n",
       "      <th></th>\n",
       "      <th>Date</th>\n",
       "      <th>Week_ID</th>\n",
       "      <th>Month Number</th>\n",
       "      <th>Month_ID</th>\n",
       "      <th>Year</th>\n",
       "      <th>Day_Name</th>\n",
       "      <th>Revenue</th>\n",
       "      <th>Marketing Spend</th>\n",
       "      <th>Promo</th>\n",
       "      <th>Visitors</th>\n",
       "    </tr>\n",
       "  </thead>\n",
       "  <tbody>\n",
       "    <tr>\n",
       "      <th>159</th>\n",
       "      <td>2021-04-17</td>\n",
       "      <td>57.0</td>\n",
       "      <td>4.0</td>\n",
       "      <td>16.0</td>\n",
       "      <td>2021.0</td>\n",
       "      <td>Saturday</td>\n",
       "      <td>5274.0</td>\n",
       "      <td>865.454545</td>\n",
       "      <td>No Promo</td>\n",
       "      <td>1509.0</td>\n",
       "    </tr>\n",
       "    <tr>\n",
       "      <th>111</th>\n",
       "      <td>2021-02-28</td>\n",
       "      <td>51.0</td>\n",
       "      <td>2.0</td>\n",
       "      <td>14.0</td>\n",
       "      <td>2021.0</td>\n",
       "      <td>Sunday</td>\n",
       "      <td>7222.0</td>\n",
       "      <td>1337.333333</td>\n",
       "      <td>No Promo</td>\n",
       "      <td>1912.0</td>\n",
       "    </tr>\n",
       "    <tr>\n",
       "      <th>81</th>\n",
       "      <td>2021-01-29</td>\n",
       "      <td>46.0</td>\n",
       "      <td>1.0</td>\n",
       "      <td>13.0</td>\n",
       "      <td>2021.0</td>\n",
       "      <td>Friday</td>\n",
       "      <td>10485.0</td>\n",
       "      <td>1447.111111</td>\n",
       "      <td>No Promo</td>\n",
       "      <td>1844.0</td>\n",
       "    </tr>\n",
       "    <tr>\n",
       "      <th>20</th>\n",
       "      <td>2020-11-29</td>\n",
       "      <td>37.0</td>\n",
       "      <td>11.0</td>\n",
       "      <td>11.0</td>\n",
       "      <td>2020.0</td>\n",
       "      <td>Sunday</td>\n",
       "      <td>10647.0</td>\n",
       "      <td>1330.875000</td>\n",
       "      <td>Promotion Red</td>\n",
       "      <td>1698.0</td>\n",
       "    </tr>\n",
       "    <tr>\n",
       "      <th>45</th>\n",
       "      <td>2020-12-24</td>\n",
       "      <td>40.0</td>\n",
       "      <td>12.0</td>\n",
       "      <td>12.0</td>\n",
       "      <td>2020.0</td>\n",
       "      <td>Thursday</td>\n",
       "      <td>15991.0</td>\n",
       "      <td>1955.000000</td>\n",
       "      <td>No Promo</td>\n",
       "      <td>2556.0</td>\n",
       "    </tr>\n",
       "  </tbody>\n",
       "</table>\n",
       "</div>"
      ],
      "text/plain": [
       "          Date  Week_ID  Month Number  Month_ID    Year  Day_Name  Revenue  \\\n",
       "159 2021-04-17     57.0           4.0      16.0  2021.0  Saturday   5274.0   \n",
       "111 2021-02-28     51.0           2.0      14.0  2021.0    Sunday   7222.0   \n",
       "81  2021-01-29     46.0           1.0      13.0  2021.0    Friday  10485.0   \n",
       "20  2020-11-29     37.0          11.0      11.0  2020.0    Sunday  10647.0   \n",
       "45  2020-12-24     40.0          12.0      12.0  2020.0  Thursday  15991.0   \n",
       "\n",
       "     Marketing Spend          Promo  Visitors  \n",
       "159       865.454545       No Promo    1509.0  \n",
       "111      1337.333333       No Promo    1912.0  \n",
       "81       1447.111111       No Promo    1844.0  \n",
       "20       1330.875000  Promotion Red    1698.0  \n",
       "45       1955.000000       No Promo    2556.0  "
      ]
     },
     "execution_count": 40,
     "metadata": {},
     "output_type": "execute_result"
    }
   ],
   "source": [
    "final_merged.sample(n=5) #to get a random view of the data"
   ]
  },
  {
   "cell_type": "markdown",
   "id": "da2bb91e",
   "metadata": {},
   "source": [
    "# EXLORATORY DATA ANALYSIS"
   ]
  },
  {
   "cell_type": "code",
   "execution_count": 41,
   "id": "add92812",
   "metadata": {},
   "outputs": [
    {
     "data": {
      "text/plain": [
       "<AxesSubplot:>"
      ]
     },
     "execution_count": 41,
     "metadata": {},
     "output_type": "execute_result"
    },
    {
     "data": {
      "image/png": "[encoded data removed]",
      "text/plain": [
       "<Figure size 864x576 with 2 Axes>"
      ]
     },
     "metadata": {
      "needs_background": "light"
     },
     "output_type": "display_data"
    }
   ],
   "source": [
    "#to show corelation among various parameters in the dataset and also between our target variable with others\n",
    "corr = final_merged.corr().round(2)\n",
    "plt.figure(figsize=(12,8))\n",
    "sns.heatmap(corr, annot=True)"
   ]
  },
  {
   "cell_type": "markdown",
   "id": "5e2fee7a",
   "metadata": {},
   "source": [
    "revenue(our target variable) had a strong positive relationship with marketting spend and visitors.\n",
    "while marketing spend has a strong relationship with visitors."
   ]
  },
  {
   "cell_type": "code",
   "execution_count": 42,
   "id": "854f6d6a",
   "metadata": {},
   "outputs": [
    {
     "data": {
      "text/html": [
       "<div>\n",
       "<style scoped>\n",
       "    .dataframe tbody tr th:only-of-type {\n",
       "        vertical-align: middle;\n",
       "    }\n",
       "\n",
       "    .dataframe tbody tr th {\n",
       "        vertical-align: top;\n",
       "    }\n",
       "\n",
       "    .dataframe thead th {\n",
       "        text-align: right;\n",
       "    }\n",
       "</style>\n",
       "<table border=\"1\" class=\"dataframe\">\n",
       "  <thead>\n",
       "    <tr style=\"text-align: right;\">\n",
       "      <th></th>\n",
       "      <th>Week_ID</th>\n",
       "      <th>Month Number</th>\n",
       "      <th>Month_ID</th>\n",
       "      <th>Year</th>\n",
       "      <th>Revenue</th>\n",
       "      <th>Marketing Spend</th>\n",
       "      <th>Visitors</th>\n",
       "    </tr>\n",
       "  </thead>\n",
       "  <tbody>\n",
       "    <tr>\n",
       "      <th>count</th>\n",
       "      <td>182.000000</td>\n",
       "      <td>182.000000</td>\n",
       "      <td>182.000000</td>\n",
       "      <td>182.000000</td>\n",
       "      <td>178.000000</td>\n",
       "      <td>178.000000</td>\n",
       "      <td>177.000000</td>\n",
       "    </tr>\n",
       "    <tr>\n",
       "      <th>mean</th>\n",
       "      <td>47.351648</td>\n",
       "      <td>5.269231</td>\n",
       "      <td>13.774725</td>\n",
       "      <td>2020.708791</td>\n",
       "      <td>10471.134831</td>\n",
       "      <td>1395.744352</td>\n",
       "      <td>1661.615819</td>\n",
       "    </tr>\n",
       "    <tr>\n",
       "      <th>std</th>\n",
       "      <td>7.892053</td>\n",
       "      <td>4.204580</td>\n",
       "      <td>1.783540</td>\n",
       "      <td>0.455573</td>\n",
       "      <td>6101.145100</td>\n",
       "      <td>697.677618</td>\n",
       "      <td>503.208139</td>\n",
       "    </tr>\n",
       "    <tr>\n",
       "      <th>min</th>\n",
       "      <td>34.000000</td>\n",
       "      <td>1.000000</td>\n",
       "      <td>11.000000</td>\n",
       "      <td>2020.000000</td>\n",
       "      <td>292.000000</td>\n",
       "      <td>322.000000</td>\n",
       "      <td>488.000000</td>\n",
       "    </tr>\n",
       "    <tr>\n",
       "      <th>25%</th>\n",
       "      <td>40.000000</td>\n",
       "      <td>2.000000</td>\n",
       "      <td>12.000000</td>\n",
       "      <td>2020.000000</td>\n",
       "      <td>5929.500000</td>\n",
       "      <td>880.281250</td>\n",
       "      <td>1328.000000</td>\n",
       "    </tr>\n",
       "    <tr>\n",
       "      <th>50%</th>\n",
       "      <td>48.000000</td>\n",
       "      <td>4.000000</td>\n",
       "      <td>14.000000</td>\n",
       "      <td>2021.000000</td>\n",
       "      <td>9389.000000</td>\n",
       "      <td>1192.750000</td>\n",
       "      <td>1544.000000</td>\n",
       "    </tr>\n",
       "    <tr>\n",
       "      <th>75%</th>\n",
       "      <td>54.000000</td>\n",
       "      <td>11.000000</td>\n",
       "      <td>15.000000</td>\n",
       "      <td>2021.000000</td>\n",
       "      <td>12959.500000</td>\n",
       "      <td>1676.450000</td>\n",
       "      <td>2029.000000</td>\n",
       "    </tr>\n",
       "    <tr>\n",
       "      <th>max</th>\n",
       "      <td>61.000000</td>\n",
       "      <td>12.000000</td>\n",
       "      <td>17.000000</td>\n",
       "      <td>2021.000000</td>\n",
       "      <td>36283.000000</td>\n",
       "      <td>4535.375000</td>\n",
       "      <td>4139.000000</td>\n",
       "    </tr>\n",
       "  </tbody>\n",
       "</table>\n",
       "</div>"
      ],
      "text/plain": [
       "          Week_ID  Month Number    Month_ID         Year       Revenue  \\\n",
       "count  182.000000    182.000000  182.000000   182.000000    178.000000   \n",
       "mean    47.351648      5.269231   13.774725  2020.708791  10471.134831   \n",
       "std      7.892053      4.204580    1.783540     0.455573   6101.145100   \n",
       "min     34.000000      1.000000   11.000000  2020.000000    292.000000   \n",
       "25%     40.000000      2.000000   12.000000  2020.000000   5929.500000   \n",
       "50%     48.000000      4.000000   14.000000  2021.000000   9389.000000   \n",
       "75%     54.000000     11.000000   15.000000  2021.000000  12959.500000   \n",
       "max     61.000000     12.000000   17.000000  2021.000000  36283.000000   \n",
       "\n",
       "       Marketing Spend     Visitors  \n",
       "count       178.000000   177.000000  \n",
       "mean       1395.744352  1661.615819  \n",
       "std         697.677618   503.208139  \n",
       "min         322.000000   488.000000  \n",
       "25%         880.281250  1328.000000  \n",
       "50%        1192.750000  1544.000000  \n",
       "75%        1676.450000  2029.000000  \n",
       "max        4535.375000  4139.000000  "
      ]
     },
     "execution_count": 42,
     "metadata": {},
     "output_type": "execute_result"
    }
   ],
   "source": [
    "final_merged.describe() #a bit of understudy of the composition of the final dataset"
   ]
  },
  {
   "cell_type": "code",
   "execution_count": 43,
   "id": "f23eded8",
   "metadata": {},
   "outputs": [
    {
     "data": {
      "text/html": [
       "<div>\n",
       "<style scoped>\n",
       "    .dataframe tbody tr th:only-of-type {\n",
       "        vertical-align: middle;\n",
       "    }\n",
       "\n",
       "    .dataframe tbody tr th {\n",
       "        vertical-align: top;\n",
       "    }\n",
       "\n",
       "    .dataframe thead th {\n",
       "        text-align: right;\n",
       "    }\n",
       "</style>\n",
       "<table border=\"1\" class=\"dataframe\">\n",
       "  <thead>\n",
       "    <tr style=\"text-align: right;\">\n",
       "      <th></th>\n",
       "      <th>high_pro</th>\n",
       "      <th>counts</th>\n",
       "    </tr>\n",
       "  </thead>\n",
       "  <tbody>\n",
       "    <tr>\n",
       "      <th>0</th>\n",
       "      <td>No Promo</td>\n",
       "      <td>74</td>\n",
       "    </tr>\n",
       "    <tr>\n",
       "      <th>1</th>\n",
       "      <td>Promotion Red</td>\n",
       "      <td>54</td>\n",
       "    </tr>\n",
       "    <tr>\n",
       "      <th>2</th>\n",
       "      <td>Promotion Blue</td>\n",
       "      <td>54</td>\n",
       "    </tr>\n",
       "  </tbody>\n",
       "</table>\n",
       "</div>"
      ],
      "text/plain": [
       "         high_pro  counts\n",
       "0        No Promo      74\n",
       "1   Promotion Red      54\n",
       "2  Promotion Blue      54"
      ]
     },
     "execution_count": 43,
     "metadata": {},
     "output_type": "execute_result"
    }
   ],
   "source": [
    "#to show the number of  occuring Promos in the dataset\n",
    "\n",
    "high_pro = final_merged ['Promo'].value_counts().to_frame().reset_index()\n",
    "#value_counts count the number of values of each value in the column\n",
    "#to.frame puts them in a table\n",
    "#reset_index resets the index of the table to one and twos.\n",
    "\n",
    "high_pro.columns = ['high_pro', 'counts']\n",
    "#specifies the columns in the table\n",
    "\n",
    "high_pro"
   ]
  },
  {
   "cell_type": "code",
   "execution_count": 44,
   "id": "28e16d6b",
   "metadata": {},
   "outputs": [
    {
     "data": {
      "text/plain": [
       "<AxesSubplot:xlabel='Promo', ylabel='count'>"
      ]
     },
     "execution_count": 44,
     "metadata": {},
     "output_type": "execute_result"
    },
    {
     "data": {
      "image/png": "[encoded data removed]",
      "text/plain": [
       "<Figure size 432x288 with 1 Axes>"
      ]
     },
     "metadata": {
      "needs_background": "light"
     },
     "output_type": "display_data"
    }
   ],
   "source": [
    "#count  by Promo and Year \n",
    "sns.countplot(x='Promo', hue='Year', data=final_merged)"
   ]
  },
  {
   "cell_type": "code",
   "execution_count": 45,
   "id": "e8bfdcb0",
   "metadata": {},
   "outputs": [],
   "source": [
    "x = high_pro['high_pro'] # to know the highest promo count,they did not initiate any promo on time\n",
    "y = high_pro['counts']"
   ]
  },
  {
   "cell_type": "code",
   "execution_count": 46,
   "id": "5d1bc801",
   "metadata": {},
   "outputs": [
    {
     "data": {
      "image/png": "[encoded data removed]",
      "text/plain": [
       "<Figure size 432x288 with 1 Axes>"
      ]
     },
     "metadata": {
      "needs_background": "light"
     },
     "output_type": "display_data"
    }
   ],
   "source": [
    "plt.barh(x, y, color = (0.5, 0.5, 0.5, 0.5,), edgecolor = 'r')\n",
    "\n",
    "plt.grid() #it shows that 2 of the promos had same number of counts"
   ]
  },
  {
   "cell_type": "code",
   "execution_count": 47,
   "id": "536e51ef",
   "metadata": {},
   "outputs": [
    {
     "data": {
      "text/html": [
       "<div>\n",
       "<style scoped>\n",
       "    .dataframe tbody tr th:only-of-type {\n",
       "        vertical-align: middle;\n",
       "    }\n",
       "\n",
       "    .dataframe tbody tr th {\n",
       "        vertical-align: top;\n",
       "    }\n",
       "\n",
       "    .dataframe thead th {\n",
       "        text-align: right;\n",
       "    }\n",
       "</style>\n",
       "<table border=\"1\" class=\"dataframe\">\n",
       "  <thead>\n",
       "    <tr style=\"text-align: right;\">\n",
       "      <th></th>\n",
       "      <th>Promo</th>\n",
       "      <th>Marketing Spend</th>\n",
       "    </tr>\n",
       "  </thead>\n",
       "  <tbody>\n",
       "    <tr>\n",
       "      <th>0</th>\n",
       "      <td>No Promo</td>\n",
       "      <td>1172.917199</td>\n",
       "    </tr>\n",
       "    <tr>\n",
       "      <th>1</th>\n",
       "      <td>Promotion Blue</td>\n",
       "      <td>1847.647113</td>\n",
       "    </tr>\n",
       "    <tr>\n",
       "      <th>2</th>\n",
       "      <td>Promotion Red</td>\n",
       "      <td>1247.966196</td>\n",
       "    </tr>\n",
       "  </tbody>\n",
       "</table>\n",
       "</div>"
      ],
      "text/plain": [
       "            Promo  Marketing Spend\n",
       "0        No Promo      1172.917199\n",
       "1  Promotion Blue      1847.647113\n",
       "2   Promotion Red      1247.966196"
      ]
     },
     "execution_count": 47,
     "metadata": {},
     "output_type": "execute_result"
    }
   ],
   "source": [
    "avrg_amt_spend = final_merged.groupby('Promo')['Marketing Spend'].mean().to_frame().reset_index()\n",
    "avrg_amt_spend\n",
    "\n",
    "##to show the average amount spend on each promo, it shows that Promotion Blue had the highest average amount spend"
   ]
  },
  {
   "cell_type": "code",
   "execution_count": 48,
   "id": "343e54be",
   "metadata": {},
   "outputs": [],
   "source": [
    "x = avrg_amt_spend['Promo'] # to know the highest promo count\n",
    "y = avrg_amt_spend['Marketing Spend']"
   ]
  },
  {
   "cell_type": "code",
   "execution_count": 49,
   "id": "92545421",
   "metadata": {},
   "outputs": [
    {
     "data": {
      "image/png": "[encoded data removed]",
      "text/plain": [
       "<Figure size 360x216 with 1 Axes>"
      ]
     },
     "metadata": {
      "needs_background": "light"
     },
     "output_type": "display_data"
    }
   ],
   "source": [
    "plt.figure(figsize=(5,3))\n",
    "plt.bar(avrg_amt_spend['Promo'],avrg_amt_spend['Marketing Spend'], color='blue')\n",
    "plt.xlabel(\"type\",fontsize=10 )\n",
    "plt.ylabel(\"count\", fontsize=10)\n",
    "plt.xticks(c='red', fontsize=10)\n",
    "plt.yticks(c=\"red\", fontsize=10)\n",
    "plt.title(\"average amount spend on each promo\", fontsize=20)\n",
    "\n",
    "plt.show()  "
   ]
  },
  {
   "cell_type": "markdown",
   "id": "676875ac",
   "metadata": {},
   "source": [
    "obviously promo blue had the highest amount spend on"
   ]
  },
  {
   "cell_type": "code",
   "execution_count": 50,
   "id": "715387c8",
   "metadata": {},
   "outputs": [
    {
     "data": {
      "text/html": [
       "<div>\n",
       "<style scoped>\n",
       "    .dataframe tbody tr th:only-of-type {\n",
       "        vertical-align: middle;\n",
       "    }\n",
       "\n",
       "    .dataframe tbody tr th {\n",
       "        vertical-align: top;\n",
       "    }\n",
       "\n",
       "    .dataframe thead th {\n",
       "        text-align: right;\n",
       "    }\n",
       "</style>\n",
       "<table border=\"1\" class=\"dataframe\">\n",
       "  <thead>\n",
       "    <tr style=\"text-align: right;\">\n",
       "      <th></th>\n",
       "      <th>Month Number</th>\n",
       "      <th>Visitors</th>\n",
       "    </tr>\n",
       "  </thead>\n",
       "  <tbody>\n",
       "    <tr>\n",
       "      <th>0</th>\n",
       "      <td>1.0</td>\n",
       "      <td>50830.0</td>\n",
       "    </tr>\n",
       "    <tr>\n",
       "      <th>1</th>\n",
       "      <td>2.0</td>\n",
       "      <td>45449.0</td>\n",
       "    </tr>\n",
       "    <tr>\n",
       "      <th>2</th>\n",
       "      <td>3.0</td>\n",
       "      <td>51373.0</td>\n",
       "    </tr>\n",
       "    <tr>\n",
       "      <th>3</th>\n",
       "      <td>4.0</td>\n",
       "      <td>49105.0</td>\n",
       "    </tr>\n",
       "    <tr>\n",
       "      <th>4</th>\n",
       "      <td>5.0</td>\n",
       "      <td>13410.0</td>\n",
       "    </tr>\n",
       "    <tr>\n",
       "      <th>5</th>\n",
       "      <td>11.0</td>\n",
       "      <td>33730.0</td>\n",
       "    </tr>\n",
       "    <tr>\n",
       "      <th>6</th>\n",
       "      <td>12.0</td>\n",
       "      <td>50209.0</td>\n",
       "    </tr>\n",
       "  </tbody>\n",
       "</table>\n",
       "</div>"
      ],
      "text/plain": [
       "   Month Number  Visitors\n",
       "0           1.0   50830.0\n",
       "1           2.0   45449.0\n",
       "2           3.0   51373.0\n",
       "3           4.0   49105.0\n",
       "4           5.0   13410.0\n",
       "5          11.0   33730.0\n",
       "6          12.0   50209.0"
      ]
     },
     "execution_count": 50,
     "metadata": {},
     "output_type": "execute_result"
    }
   ],
   "source": [
    "final_merged.groupby('Month Number')['Visitors'].sum().to_frame().reset_index() #months with the highest visitors is month no 3"
   ]
  },
  {
   "cell_type": "code",
   "execution_count": 51,
   "id": "e1c74d36",
   "metadata": {},
   "outputs": [
    {
     "data": {
      "image/png": "[encoded data removed]",
      "text/plain": [
       "<Figure size 432x288 with 1 Axes>"
      ]
     },
     "metadata": {
      "needs_background": "light"
     },
     "output_type": "display_data"
    }
   ],
   "source": [
    "sns.lineplot(x='Month Number', y='Visitors', data=final_merged) #line graph showing the month with the highest visitors\n",
    "plt.show()"
   ]
  },
  {
   "cell_type": "code",
   "execution_count": 52,
   "id": "0bad65e4",
   "metadata": {},
   "outputs": [
    {
     "data": {
      "text/plain": [
       "Index(['Date', 'Week_ID', 'Month Number', 'Month_ID', 'Year', 'Day_Name',\n",
       "       'Revenue', 'Marketing Spend', 'Promo', 'Visitors'],\n",
       "      dtype='object')"
      ]
     },
     "execution_count": 52,
     "metadata": {},
     "output_type": "execute_result"
    }
   ],
   "source": [
    "final_merged.columns  #the columns found in the dataset"
   ]
  },
  {
   "cell_type": "code",
   "execution_count": 53,
   "id": "eb358641",
   "metadata": {},
   "outputs": [
    {
     "data": {
      "text/plain": [
       "2021.0    129\n",
       "2020.0     53\n",
       "Name: Year, dtype: int64"
      ]
     },
     "execution_count": 53,
     "metadata": {},
     "output_type": "execute_result"
    }
   ],
   "source": [
    "year_activ = final_merged ['Year'].value_counts()  #to indicate the year that had the most count.\n",
    "year_activ.columns = ['Year', 'counts']\n",
    "\n",
    "year_activ"
   ]
  },
  {
   "cell_type": "code",
   "execution_count": 54,
   "id": "28321904",
   "metadata": {},
   "outputs": [
    {
     "data": {
      "image/png": "[encoded data removed]",
      "text/plain": [
       "<Figure size 576x576 with 1 Axes>"
      ]
     },
     "metadata": {},
     "output_type": "display_data"
    }
   ],
   "source": [
    "plt.subplots(figsize = (8,8))\n",
    "year_activ.plot.pie(explode = [0.00, 0.05], shadow = True, autopct = '%1.1f%%', cmap = 'afmhot_r')\n",
    "\n",
    "\n",
    "plt.legend(title = 'year count:')\n",
    "\n",
    "plt.show()"
   ]
  },
  {
   "cell_type": "markdown",
   "id": "aecd0ae5",
   "metadata": {},
   "source": [
    "year 2020 had less count,but year 2021 had more than one third counts,(piechart above)hence generated more revenue,as compared to year 2020."
   ]
  },
  {
   "cell_type": "code",
   "execution_count": 55,
   "id": "bc63cdcc",
   "metadata": {},
   "outputs": [
    {
     "data": {
      "text/plain": [
       "Year\n",
       "2020.0     53\n",
       "2021.0    129\n",
       "Name: Visitors, dtype: int64"
      ]
     },
     "execution_count": 55,
     "metadata": {},
     "output_type": "execute_result"
    }
   ],
   "source": [
    "grouped = final_merged.groupby('Year')\n",
    "grouped['Visitors'].agg(np.size)  #the  year with the highest visitors is 2021"
   ]
  },
  {
   "cell_type": "code",
   "execution_count": 56,
   "id": "00efe084",
   "metadata": {},
   "outputs": [
    {
     "data": {
      "text/plain": [
       "<AxesSubplot:ylabel='Year'>"
      ]
     },
     "execution_count": 56,
     "metadata": {},
     "output_type": "execute_result"
    },
    {
     "data": {
      "image/png": "[encoded data removed]",
      "text/plain": [
       "<Figure size 1152x432 with 1 Axes>"
      ]
     },
     "metadata": {
      "needs_background": "light"
     },
     "output_type": "display_data"
    }
   ],
   "source": [
    "grouped['Visitors'].agg(np.size).plot(kind='barh', stacked=True, figsize=[16,6], colormap='winter') #the  year with the highest visitors is 2021"
   ]
  },
  {
   "cell_type": "code",
   "execution_count": 57,
   "id": "d56a1511",
   "metadata": {},
   "outputs": [
    {
     "data": {
      "text/html": [
       "<div>\n",
       "<style scoped>\n",
       "    .dataframe tbody tr th:only-of-type {\n",
       "        vertical-align: middle;\n",
       "    }\n",
       "\n",
       "    .dataframe tbody tr th {\n",
       "        vertical-align: top;\n",
       "    }\n",
       "\n",
       "    .dataframe thead th {\n",
       "        text-align: right;\n",
       "    }\n",
       "</style>\n",
       "<table border=\"1\" class=\"dataframe\">\n",
       "  <thead>\n",
       "    <tr style=\"text-align: right;\">\n",
       "      <th>Revenue</th>\n",
       "      <th>292.0</th>\n",
       "      <th>465.0</th>\n",
       "      <th>1201.0</th>\n",
       "      <th>1245.0</th>\n",
       "      <th>2184.0</th>\n",
       "      <th>2409.0</th>\n",
       "      <th>2491.0</th>\n",
       "      <th>2546.0</th>\n",
       "      <th>3021.0</th>\n",
       "      <th>3025.0</th>\n",
       "      <th>...</th>\n",
       "      <th>23014.0</th>\n",
       "      <th>23368.0</th>\n",
       "      <th>23870.0</th>\n",
       "      <th>24247.0</th>\n",
       "      <th>24417.0</th>\n",
       "      <th>24506.0</th>\n",
       "      <th>25704.0</th>\n",
       "      <th>26608.0</th>\n",
       "      <th>28196.0</th>\n",
       "      <th>36283.0</th>\n",
       "    </tr>\n",
       "  </thead>\n",
       "  <tbody>\n",
       "    <tr>\n",
       "      <th>Marketing Spend</th>\n",
       "      <td>322.0</td>\n",
       "      <td>651.375</td>\n",
       "      <td>1972.75</td>\n",
       "      <td>1826.0</td>\n",
       "      <td>424.0</td>\n",
       "      <td>803.375</td>\n",
       "      <td>732.333333</td>\n",
       "      <td>1758.666667</td>\n",
       "      <td>1641.111111</td>\n",
       "      <td>1336.909091</td>\n",
       "      <td>...</td>\n",
       "      <td>2557.111111</td>\n",
       "      <td>2921.0</td>\n",
       "      <td>2652.222222</td>\n",
       "      <td>3030.875</td>\n",
       "      <td>2713.0</td>\n",
       "      <td>2227.818182</td>\n",
       "      <td>2570.4</td>\n",
       "      <td>2418.909091</td>\n",
       "      <td>3524.5</td>\n",
       "      <td>4535.375</td>\n",
       "    </tr>\n",
       "    <tr>\n",
       "      <th>Month Number</th>\n",
       "      <td>1.0</td>\n",
       "      <td>11.000</td>\n",
       "      <td>4.00</td>\n",
       "      <td>3.0</td>\n",
       "      <td>2.0</td>\n",
       "      <td>2.000</td>\n",
       "      <td>4.000000</td>\n",
       "      <td>4.000000</td>\n",
       "      <td>1.000000</td>\n",
       "      <td>2.000000</td>\n",
       "      <td>...</td>\n",
       "      <td>12.000000</td>\n",
       "      <td>4.0</td>\n",
       "      <td>4.000000</td>\n",
       "      <td>2.000</td>\n",
       "      <td>1.0</td>\n",
       "      <td>4.000000</td>\n",
       "      <td>3.0</td>\n",
       "      <td>2.000000</td>\n",
       "      <td>3.0</td>\n",
       "      <td>12.000</td>\n",
       "    </tr>\n",
       "    <tr>\n",
       "      <th>Month_ID</th>\n",
       "      <td>13.0</td>\n",
       "      <td>11.000</td>\n",
       "      <td>16.00</td>\n",
       "      <td>15.0</td>\n",
       "      <td>14.0</td>\n",
       "      <td>14.000</td>\n",
       "      <td>16.000000</td>\n",
       "      <td>16.000000</td>\n",
       "      <td>13.000000</td>\n",
       "      <td>14.000000</td>\n",
       "      <td>...</td>\n",
       "      <td>12.000000</td>\n",
       "      <td>16.0</td>\n",
       "      <td>16.000000</td>\n",
       "      <td>14.000</td>\n",
       "      <td>13.0</td>\n",
       "      <td>16.000000</td>\n",
       "      <td>15.0</td>\n",
       "      <td>14.000000</td>\n",
       "      <td>15.0</td>\n",
       "      <td>12.000</td>\n",
       "    </tr>\n",
       "    <tr>\n",
       "      <th>Visitors</th>\n",
       "      <td>488.0</td>\n",
       "      <td>707.000</td>\n",
       "      <td>2091.00</td>\n",
       "      <td>2194.0</td>\n",
       "      <td>599.0</td>\n",
       "      <td>1047.000</td>\n",
       "      <td>1122.000000</td>\n",
       "      <td>2101.000000</td>\n",
       "      <td>2120.000000</td>\n",
       "      <td>2029.000000</td>\n",
       "      <td>...</td>\n",
       "      <td>2020.000000</td>\n",
       "      <td>2311.0</td>\n",
       "      <td>2158.000000</td>\n",
       "      <td>2395.000</td>\n",
       "      <td>2482.0</td>\n",
       "      <td>2302.000000</td>\n",
       "      <td>2439.0</td>\n",
       "      <td>2553.000000</td>\n",
       "      <td>2732.0</td>\n",
       "      <td>NaN</td>\n",
       "    </tr>\n",
       "    <tr>\n",
       "      <th>Week_ID</th>\n",
       "      <td>46.0</td>\n",
       "      <td>34.000</td>\n",
       "      <td>55.00</td>\n",
       "      <td>53.0</td>\n",
       "      <td>48.0</td>\n",
       "      <td>49.000</td>\n",
       "      <td>58.000000</td>\n",
       "      <td>57.000000</td>\n",
       "      <td>45.000000</td>\n",
       "      <td>49.000000</td>\n",
       "      <td>...</td>\n",
       "      <td>41.000000</td>\n",
       "      <td>55.0</td>\n",
       "      <td>56.000000</td>\n",
       "      <td>49.000</td>\n",
       "      <td>45.0</td>\n",
       "      <td>58.000000</td>\n",
       "      <td>52.0</td>\n",
       "      <td>50.000000</td>\n",
       "      <td>52.0</td>\n",
       "      <td>40.000</td>\n",
       "    </tr>\n",
       "    <tr>\n",
       "      <th>Year</th>\n",
       "      <td>2021.0</td>\n",
       "      <td>2020.000</td>\n",
       "      <td>2021.00</td>\n",
       "      <td>2021.0</td>\n",
       "      <td>2021.0</td>\n",
       "      <td>2021.000</td>\n",
       "      <td>2021.000000</td>\n",
       "      <td>2021.000000</td>\n",
       "      <td>2021.000000</td>\n",
       "      <td>2021.000000</td>\n",
       "      <td>...</td>\n",
       "      <td>2020.000000</td>\n",
       "      <td>2021.0</td>\n",
       "      <td>2021.000000</td>\n",
       "      <td>2021.000</td>\n",
       "      <td>2021.0</td>\n",
       "      <td>2021.000000</td>\n",
       "      <td>2021.0</td>\n",
       "      <td>2021.000000</td>\n",
       "      <td>2021.0</td>\n",
       "      <td>2020.000</td>\n",
       "    </tr>\n",
       "  </tbody>\n",
       "</table>\n",
       "<p>6 rows × 177 columns</p>\n",
       "</div>"
      ],
      "text/plain": [
       "Revenue          292.0     465.0    1201.0   1245.0   2184.0    2409.0   \\\n",
       "Marketing Spend    322.0   651.375  1972.75   1826.0    424.0   803.375   \n",
       "Month Number         1.0    11.000     4.00      3.0      2.0     2.000   \n",
       "Month_ID            13.0    11.000    16.00     15.0     14.0    14.000   \n",
       "Visitors           488.0   707.000  2091.00   2194.0    599.0  1047.000   \n",
       "Week_ID             46.0    34.000    55.00     53.0     48.0    49.000   \n",
       "Year              2021.0  2020.000  2021.00   2021.0   2021.0  2021.000   \n",
       "\n",
       "Revenue              2491.0       2546.0       3021.0       3025.0   ...  \\\n",
       "Marketing Spend   732.333333  1758.666667  1641.111111  1336.909091  ...   \n",
       "Month Number        4.000000     4.000000     1.000000     2.000000  ...   \n",
       "Month_ID           16.000000    16.000000    13.000000    14.000000  ...   \n",
       "Visitors         1122.000000  2101.000000  2120.000000  2029.000000  ...   \n",
       "Week_ID            58.000000    57.000000    45.000000    49.000000  ...   \n",
       "Year             2021.000000  2021.000000  2021.000000  2021.000000  ...   \n",
       "\n",
       "Revenue              23014.0  23368.0      23870.0   24247.0  24417.0  \\\n",
       "Marketing Spend  2557.111111   2921.0  2652.222222  3030.875   2713.0   \n",
       "Month Number       12.000000      4.0     4.000000     2.000      1.0   \n",
       "Month_ID           12.000000     16.0    16.000000    14.000     13.0   \n",
       "Visitors         2020.000000   2311.0  2158.000000  2395.000   2482.0   \n",
       "Week_ID            41.000000     55.0    56.000000    49.000     45.0   \n",
       "Year             2020.000000   2021.0  2021.000000  2021.000   2021.0   \n",
       "\n",
       "Revenue              24506.0  25704.0      26608.0  28196.0   36283.0  \n",
       "Marketing Spend  2227.818182   2570.4  2418.909091   3524.5  4535.375  \n",
       "Month Number        4.000000      3.0     2.000000      3.0    12.000  \n",
       "Month_ID           16.000000     15.0    14.000000     15.0    12.000  \n",
       "Visitors         2302.000000   2439.0  2553.000000   2732.0       NaN  \n",
       "Week_ID            58.000000     52.0    50.000000     52.0    40.000  \n",
       "Year             2021.000000   2021.0  2021.000000   2021.0  2020.000  \n",
       "\n",
       "[6 rows x 177 columns]"
      ]
     },
     "execution_count": 57,
     "metadata": {},
     "output_type": "execute_result"
    }
   ],
   "source": [
    "final_merged.pivot_table(columns='Revenue')"
   ]
  },
  {
   "cell_type": "code",
   "execution_count": 58,
   "id": "58745f16",
   "metadata": {},
   "outputs": [
    {
     "data": {
      "text/html": [
       "<div>\n",
       "<style scoped>\n",
       "    .dataframe tbody tr th:only-of-type {\n",
       "        vertical-align: middle;\n",
       "    }\n",
       "\n",
       "    .dataframe tbody tr th {\n",
       "        vertical-align: top;\n",
       "    }\n",
       "\n",
       "    .dataframe thead th {\n",
       "        text-align: right;\n",
       "    }\n",
       "</style>\n",
       "<table border=\"1\" class=\"dataframe\">\n",
       "  <thead>\n",
       "    <tr style=\"text-align: right;\">\n",
       "      <th></th>\n",
       "      <th>Date</th>\n",
       "      <th>Week_ID</th>\n",
       "      <th>Month Number</th>\n",
       "      <th>Month_ID</th>\n",
       "      <th>Year</th>\n",
       "      <th>Day_Name</th>\n",
       "      <th>Revenue</th>\n",
       "      <th>Marketing Spend</th>\n",
       "      <th>Promo</th>\n",
       "      <th>Visitors</th>\n",
       "    </tr>\n",
       "  </thead>\n",
       "  <tbody>\n",
       "    <tr>\n",
       "      <th>47</th>\n",
       "      <td>2020-12-26</td>\n",
       "      <td>40.0</td>\n",
       "      <td>12.0</td>\n",
       "      <td>12.0</td>\n",
       "      <td>2020.0</td>\n",
       "      <td>Saturday</td>\n",
       "      <td>36283.0</td>\n",
       "      <td>4535.375000</td>\n",
       "      <td>Promotion Blue</td>\n",
       "      <td>NaN</td>\n",
       "    </tr>\n",
       "    <tr>\n",
       "      <th>124</th>\n",
       "      <td>2021-03-13</td>\n",
       "      <td>52.0</td>\n",
       "      <td>3.0</td>\n",
       "      <td>15.0</td>\n",
       "      <td>2021.0</td>\n",
       "      <td>Saturday</td>\n",
       "      <td>28196.0</td>\n",
       "      <td>3524.500000</td>\n",
       "      <td>Promotion Blue</td>\n",
       "      <td>2732.0</td>\n",
       "    </tr>\n",
       "    <tr>\n",
       "      <th>109</th>\n",
       "      <td>2021-02-26</td>\n",
       "      <td>50.0</td>\n",
       "      <td>2.0</td>\n",
       "      <td>14.0</td>\n",
       "      <td>2021.0</td>\n",
       "      <td>Friday</td>\n",
       "      <td>26608.0</td>\n",
       "      <td>2418.909091</td>\n",
       "      <td>Promotion Blue</td>\n",
       "      <td>2553.0</td>\n",
       "    </tr>\n",
       "    <tr>\n",
       "      <th>122</th>\n",
       "      <td>2021-03-11</td>\n",
       "      <td>52.0</td>\n",
       "      <td>3.0</td>\n",
       "      <td>15.0</td>\n",
       "      <td>2021.0</td>\n",
       "      <td>Thursday</td>\n",
       "      <td>25704.0</td>\n",
       "      <td>2570.400000</td>\n",
       "      <td>Promotion Blue</td>\n",
       "      <td>2439.0</td>\n",
       "    </tr>\n",
       "    <tr>\n",
       "      <th>164</th>\n",
       "      <td>2021-04-22</td>\n",
       "      <td>58.0</td>\n",
       "      <td>4.0</td>\n",
       "      <td>16.0</td>\n",
       "      <td>2021.0</td>\n",
       "      <td>Thursday</td>\n",
       "      <td>24506.0</td>\n",
       "      <td>2227.818182</td>\n",
       "      <td>Promotion Blue</td>\n",
       "      <td>2302.0</td>\n",
       "    </tr>\n",
       "    <tr>\n",
       "      <th>...</th>\n",
       "      <td>...</td>\n",
       "      <td>...</td>\n",
       "      <td>...</td>\n",
       "      <td>...</td>\n",
       "      <td>...</td>\n",
       "      <td>...</td>\n",
       "      <td>...</td>\n",
       "      <td>...</td>\n",
       "      <td>...</td>\n",
       "      <td>...</td>\n",
       "    </tr>\n",
       "    <tr>\n",
       "      <th>78</th>\n",
       "      <td>2021-01-26</td>\n",
       "      <td>46.0</td>\n",
       "      <td>1.0</td>\n",
       "      <td>13.0</td>\n",
       "      <td>2021.0</td>\n",
       "      <td>Tuesday</td>\n",
       "      <td>292.0</td>\n",
       "      <td>322.000000</td>\n",
       "      <td>No Promo</td>\n",
       "      <td>488.0</td>\n",
       "    </tr>\n",
       "    <tr>\n",
       "      <th>14</th>\n",
       "      <td>2020-11-23</td>\n",
       "      <td>36.0</td>\n",
       "      <td>11.0</td>\n",
       "      <td>11.0</td>\n",
       "      <td>2020.0</td>\n",
       "      <td>Monday</td>\n",
       "      <td>NaN</td>\n",
       "      <td>4284.750000</td>\n",
       "      <td>Promotion Blue</td>\n",
       "      <td>2632.0</td>\n",
       "    </tr>\n",
       "    <tr>\n",
       "      <th>28</th>\n",
       "      <td>2020-12-07</td>\n",
       "      <td>38.0</td>\n",
       "      <td>12.0</td>\n",
       "      <td>12.0</td>\n",
       "      <td>2020.0</td>\n",
       "      <td>Monday</td>\n",
       "      <td>NaN</td>\n",
       "      <td>961.200000</td>\n",
       "      <td>Promotion Red</td>\n",
       "      <td>1584.0</td>\n",
       "    </tr>\n",
       "    <tr>\n",
       "      <th>105</th>\n",
       "      <td>2021-02-22</td>\n",
       "      <td>50.0</td>\n",
       "      <td>2.0</td>\n",
       "      <td>14.0</td>\n",
       "      <td>2021.0</td>\n",
       "      <td>Monday</td>\n",
       "      <td>NaN</td>\n",
       "      <td>837.100000</td>\n",
       "      <td>No Promo</td>\n",
       "      <td>1428.0</td>\n",
       "    </tr>\n",
       "    <tr>\n",
       "      <th>160</th>\n",
       "      <td>2021-04-18</td>\n",
       "      <td>58.0</td>\n",
       "      <td>4.0</td>\n",
       "      <td>16.0</td>\n",
       "      <td>2021.0</td>\n",
       "      <td>Sunday</td>\n",
       "      <td>NaN</td>\n",
       "      <td>1531.375000</td>\n",
       "      <td>Promotion Blue</td>\n",
       "      <td>1399.0</td>\n",
       "    </tr>\n",
       "  </tbody>\n",
       "</table>\n",
       "<p>182 rows × 10 columns</p>\n",
       "</div>"
      ],
      "text/plain": [
       "          Date  Week_ID  Month Number  Month_ID    Year  Day_Name  Revenue  \\\n",
       "47  2020-12-26     40.0          12.0      12.0  2020.0  Saturday  36283.0   \n",
       "124 2021-03-13     52.0           3.0      15.0  2021.0  Saturday  28196.0   \n",
       "109 2021-02-26     50.0           2.0      14.0  2021.0    Friday  26608.0   \n",
       "122 2021-03-11     52.0           3.0      15.0  2021.0  Thursday  25704.0   \n",
       "164 2021-04-22     58.0           4.0      16.0  2021.0  Thursday  24506.0   \n",
       "..         ...      ...           ...       ...     ...       ...      ...   \n",
       "78  2021-01-26     46.0           1.0      13.0  2021.0   Tuesday    292.0   \n",
       "14  2020-11-23     36.0          11.0      11.0  2020.0    Monday      NaN   \n",
       "28  2020-12-07     38.0          12.0      12.0  2020.0    Monday      NaN   \n",
       "105 2021-02-22     50.0           2.0      14.0  2021.0    Monday      NaN   \n",
       "160 2021-04-18     58.0           4.0      16.0  2021.0    Sunday      NaN   \n",
       "\n",
       "     Marketing Spend           Promo  Visitors  \n",
       "47       4535.375000  Promotion Blue       NaN  \n",
       "124      3524.500000  Promotion Blue    2732.0  \n",
       "109      2418.909091  Promotion Blue    2553.0  \n",
       "122      2570.400000  Promotion Blue    2439.0  \n",
       "164      2227.818182  Promotion Blue    2302.0  \n",
       "..               ...             ...       ...  \n",
       "78        322.000000        No Promo     488.0  \n",
       "14       4284.750000  Promotion Blue    2632.0  \n",
       "28        961.200000   Promotion Red    1584.0  \n",
       "105       837.100000        No Promo    1428.0  \n",
       "160      1531.375000  Promotion Blue    1399.0  \n",
       "\n",
       "[182 rows x 10 columns]"
      ]
     },
     "execution_count": 58,
     "metadata": {},
     "output_type": "execute_result"
    }
   ],
   "source": [
    "final_merged.sort_values(by='Revenue', ascending=False) ###this could likely be an outlier which will be addressed later "
   ]
  },
  {
   "cell_type": "code",
   "execution_count": 59,
   "id": "78b265c8",
   "metadata": {},
   "outputs": [
    {
     "data": {
      "text/html": [
       "<div>\n",
       "<style scoped>\n",
       "    .dataframe tbody tr th:only-of-type {\n",
       "        vertical-align: middle;\n",
       "    }\n",
       "\n",
       "    .dataframe tbody tr th {\n",
       "        vertical-align: top;\n",
       "    }\n",
       "\n",
       "    .dataframe thead th {\n",
       "        text-align: right;\n",
       "    }\n",
       "</style>\n",
       "<table border=\"1\" class=\"dataframe\">\n",
       "  <thead>\n",
       "    <tr style=\"text-align: right;\">\n",
       "      <th></th>\n",
       "      <th>Day_Name</th>\n",
       "      <th>Revenue</th>\n",
       "    </tr>\n",
       "  </thead>\n",
       "  <tbody>\n",
       "    <tr>\n",
       "      <th>0</th>\n",
       "      <td>Friday</td>\n",
       "      <td>352315.0</td>\n",
       "    </tr>\n",
       "    <tr>\n",
       "      <th>1</th>\n",
       "      <td>Monday</td>\n",
       "      <td>178388.0</td>\n",
       "    </tr>\n",
       "    <tr>\n",
       "      <th>2</th>\n",
       "      <td>Saturday</td>\n",
       "      <td>248292.0</td>\n",
       "    </tr>\n",
       "    <tr>\n",
       "      <th>3</th>\n",
       "      <td>Sunday</td>\n",
       "      <td>241296.0</td>\n",
       "    </tr>\n",
       "    <tr>\n",
       "      <th>4</th>\n",
       "      <td>Thursday</td>\n",
       "      <td>355248.0</td>\n",
       "    </tr>\n",
       "    <tr>\n",
       "      <th>5</th>\n",
       "      <td>Tuesday</td>\n",
       "      <td>225155.0</td>\n",
       "    </tr>\n",
       "    <tr>\n",
       "      <th>6</th>\n",
       "      <td>Wednesday</td>\n",
       "      <td>263168.0</td>\n",
       "    </tr>\n",
       "  </tbody>\n",
       "</table>\n",
       "</div>"
      ],
      "text/plain": [
       "    Day_Name   Revenue\n",
       "0     Friday  352315.0\n",
       "1     Monday  178388.0\n",
       "2   Saturday  248292.0\n",
       "3     Sunday  241296.0\n",
       "4   Thursday  355248.0\n",
       "5    Tuesday  225155.0\n",
       "6  Wednesday  263168.0"
      ]
     },
     "execution_count": 59,
     "metadata": {},
     "output_type": "execute_result"
    }
   ],
   "source": [
    "final_merged.groupby('Day_Name')['Revenue'].sum().to_frame().reset_index() #the week day that brings in highest revenue is thursday,maybe due to the fact that its a weekend and eole might be stocking up"
   ]
  },
  {
   "cell_type": "code",
   "execution_count": 60,
   "id": "c601933f",
   "metadata": {},
   "outputs": [
    {
     "data": {
      "text/plain": [
       "<AxesSubplot:xlabel='Day_Name', ylabel='Revenue'>"
      ]
     },
     "execution_count": 60,
     "metadata": {},
     "output_type": "execute_result"
    },
    {
     "data": {
      "image/png": "[encoded data removed]",
      "text/plain": [
       "<Figure size 432x288 with 1 Axes>"
      ]
     },
     "metadata": {
      "needs_background": "light"
     },
     "output_type": "display_data"
    }
   ],
   "source": [
    "sns.barplot(x='Day_Name' ,y='Revenue', hue='Day_Name', data=final_merged) #monday had the least revenue,maybe because individuals are trying to be more frugal as its the begining of a working week"
   ]
  },
  {
   "cell_type": "code",
   "execution_count": 61,
   "id": "c1e7b9e3",
   "metadata": {},
   "outputs": [
    {
     "data": {
      "text/html": [
       "<div>\n",
       "<style scoped>\n",
       "    .dataframe tbody tr th:only-of-type {\n",
       "        vertical-align: middle;\n",
       "    }\n",
       "\n",
       "    .dataframe tbody tr th {\n",
       "        vertical-align: top;\n",
       "    }\n",
       "\n",
       "    .dataframe thead th {\n",
       "        text-align: right;\n",
       "    }\n",
       "</style>\n",
       "<table border=\"1\" class=\"dataframe\">\n",
       "  <thead>\n",
       "    <tr style=\"text-align: right;\">\n",
       "      <th></th>\n",
       "      <th>Promo</th>\n",
       "      <th>Visitors</th>\n",
       "    </tr>\n",
       "  </thead>\n",
       "  <tbody>\n",
       "    <tr>\n",
       "      <th>0</th>\n",
       "      <td>No Promo</td>\n",
       "      <td>115840.0</td>\n",
       "    </tr>\n",
       "    <tr>\n",
       "      <th>1</th>\n",
       "      <td>Promotion Blue</td>\n",
       "      <td>94031.0</td>\n",
       "    </tr>\n",
       "    <tr>\n",
       "      <th>2</th>\n",
       "      <td>Promotion Red</td>\n",
       "      <td>84235.0</td>\n",
       "    </tr>\n",
       "  </tbody>\n",
       "</table>\n",
       "</div>"
      ],
      "text/plain": [
       "            Promo  Visitors\n",
       "0        No Promo  115840.0\n",
       "1  Promotion Blue   94031.0\n",
       "2   Promotion Red   84235.0"
      ]
     },
     "execution_count": 61,
     "metadata": {},
     "output_type": "execute_result"
    }
   ],
   "source": [
    "final_merged.groupby('Promo')['Visitors'].sum().to_frame().reset_index() #no promo yielded more visitors who probably came for window shopping , as the buying crowd was from promotion blue!!!"
   ]
  },
  {
   "cell_type": "code",
   "execution_count": 62,
   "id": "8b7ef6a6",
   "metadata": {},
   "outputs": [
    {
     "data": {
      "text/html": [
       "<div>\n",
       "<style scoped>\n",
       "    .dataframe tbody tr th:only-of-type {\n",
       "        vertical-align: middle;\n",
       "    }\n",
       "\n",
       "    .dataframe tbody tr th {\n",
       "        vertical-align: top;\n",
       "    }\n",
       "\n",
       "    .dataframe thead th {\n",
       "        text-align: right;\n",
       "    }\n",
       "</style>\n",
       "<table border=\"1\" class=\"dataframe\">\n",
       "  <thead>\n",
       "    <tr style=\"text-align: right;\">\n",
       "      <th></th>\n",
       "      <th>Year</th>\n",
       "      <th>Revenue</th>\n",
       "    </tr>\n",
       "    <tr>\n",
       "      <th>Promo</th>\n",
       "      <th></th>\n",
       "      <th></th>\n",
       "    </tr>\n",
       "  </thead>\n",
       "  <tbody>\n",
       "    <tr>\n",
       "      <th>No Promo</th>\n",
       "      <td>2020.0</td>\n",
       "      <td>163555.0</td>\n",
       "    </tr>\n",
       "    <tr>\n",
       "      <th>Promotion Blue</th>\n",
       "      <td>2020.0</td>\n",
       "      <td>234490.0</td>\n",
       "    </tr>\n",
       "    <tr>\n",
       "      <th>Promotion Red</th>\n",
       "      <td>2020.0</td>\n",
       "      <td>167387.0</td>\n",
       "    </tr>\n",
       "    <tr>\n",
       "      <th>No Promo</th>\n",
       "      <td>2021.0</td>\n",
       "      <td>269013.0</td>\n",
       "    </tr>\n",
       "    <tr>\n",
       "      <th>Promotion Blue</th>\n",
       "      <td>2021.0</td>\n",
       "      <td>621082.0</td>\n",
       "    </tr>\n",
       "    <tr>\n",
       "      <th>Promotion Red</th>\n",
       "      <td>2021.0</td>\n",
       "      <td>408335.0</td>\n",
       "    </tr>\n",
       "  </tbody>\n",
       "</table>\n",
       "</div>"
      ],
      "text/plain": [
       "                  Year   Revenue\n",
       "Promo                           \n",
       "No Promo        2020.0  163555.0\n",
       "Promotion Blue  2020.0  234490.0\n",
       "Promotion Red   2020.0  167387.0\n",
       "No Promo        2021.0  269013.0\n",
       "Promotion Blue  2021.0  621082.0\n",
       "Promotion Red   2021.0  408335.0"
      ]
     },
     "execution_count": 62,
     "metadata": {},
     "output_type": "execute_result"
    }
   ],
   "source": [
    "final_merged.groupby(by=['Year', 'Promo'])['Revenue'].sum().to_frame().reset_index(0)"
   ]
  },
  {
   "cell_type": "markdown",
   "id": "e6728892",
   "metadata": {},
   "source": [
    "in 2020 Promotion Blue, returned the highest revenue\n",
    "in 2021 Promotion Blue, returned the highest revenue"
   ]
  },
  {
   "cell_type": "code",
   "execution_count": 63,
   "id": "2654a7fc",
   "metadata": {},
   "outputs": [
    {
     "data": {
      "text/plain": [
       "Promo\n",
       "No Promo          432568.0\n",
       "Promotion Blue    855572.0\n",
       "Promotion Red     575722.0\n",
       "Name: Revenue, dtype: float64"
      ]
     },
     "execution_count": 63,
     "metadata": {},
     "output_type": "execute_result"
    }
   ],
   "source": [
    "Total_Rev=final_merged.groupby('Promo')['Revenue'].sum() #the total revenue generated by each Promo\n",
    "Total_Rev"
   ]
  },
  {
   "cell_type": "code",
   "execution_count": 64,
   "id": "eeeea6f4",
   "metadata": {},
   "outputs": [
    {
     "data": {
      "text/plain": [
       "<AxesSubplot:xlabel='Revenue', ylabel='Count'>"
      ]
     },
     "execution_count": 64,
     "metadata": {},
     "output_type": "execute_result"
    },
    {
     "data": {
      "image/png": "[encoded data removed]",
      "text/plain": [
       "<Figure size 432x288 with 1 Axes>"
      ]
     },
     "metadata": {
      "needs_background": "light"
     },
     "output_type": "display_data"
    }
   ],
   "source": [
    "sns.histplot(data=final_merged, x=\"Revenue\", hue=\"Year\", multiple=\"stack\")  #the year that returned the most revenue"
   ]
  },
  {
   "cell_type": "code",
   "execution_count": 65,
   "id": "c97a3dd5",
   "metadata": {},
   "outputs": [
    {
     "data": {
      "text/html": [
       "<div>\n",
       "<style scoped>\n",
       "    .dataframe tbody tr th:only-of-type {\n",
       "        vertical-align: middle;\n",
       "    }\n",
       "\n",
       "    .dataframe tbody tr th {\n",
       "        vertical-align: top;\n",
       "    }\n",
       "\n",
       "    .dataframe thead th {\n",
       "        text-align: right;\n",
       "    }\n",
       "</style>\n",
       "<table border=\"1\" class=\"dataframe\">\n",
       "  <thead>\n",
       "    <tr style=\"text-align: right;\">\n",
       "      <th></th>\n",
       "      <th>Revenue</th>\n",
       "    </tr>\n",
       "    <tr>\n",
       "      <th>Month Number</th>\n",
       "      <th></th>\n",
       "    </tr>\n",
       "  </thead>\n",
       "  <tbody>\n",
       "    <tr>\n",
       "      <th>1.0</th>\n",
       "      <td>297244.0</td>\n",
       "    </tr>\n",
       "    <tr>\n",
       "      <th>2.0</th>\n",
       "      <td>293302.0</td>\n",
       "    </tr>\n",
       "    <tr>\n",
       "      <th>3.0</th>\n",
       "      <td>327216.0</td>\n",
       "    </tr>\n",
       "    <tr>\n",
       "      <th>4.0</th>\n",
       "      <td>311944.0</td>\n",
       "    </tr>\n",
       "    <tr>\n",
       "      <th>5.0</th>\n",
       "      <td>68724.0</td>\n",
       "    </tr>\n",
       "    <tr>\n",
       "      <th>11.0</th>\n",
       "      <td>213342.0</td>\n",
       "    </tr>\n",
       "    <tr>\n",
       "      <th>12.0</th>\n",
       "      <td>352090.0</td>\n",
       "    </tr>\n",
       "  </tbody>\n",
       "</table>\n",
       "</div>"
      ],
      "text/plain": [
       "               Revenue\n",
       "Month Number          \n",
       "1.0           297244.0\n",
       "2.0           293302.0\n",
       "3.0           327216.0\n",
       "4.0           311944.0\n",
       "5.0            68724.0\n",
       "11.0          213342.0\n",
       "12.0          352090.0"
      ]
     },
     "execution_count": 65,
     "metadata": {},
     "output_type": "execute_result"
    }
   ],
   "source": [
    "final_merged.groupby('Month Number')['Revenue'].sum().to_frame() #the month that generated the highest rev\n"
   ]
  },
  {
   "cell_type": "code",
   "execution_count": 66,
   "id": "a4844e9c",
   "metadata": {},
   "outputs": [
    {
     "data": {
      "image/png": "[encoded data removed]",
      "text/plain": [
       "<Figure size 576x576 with 1 Axes>"
      ]
     },
     "metadata": {},
     "output_type": "display_data"
    }
   ],
   "source": [
    "plt.subplots(figsize=(8,8))\n",
    "final_merged.groupby('Month Number')['Revenue'].sum().plot.pie(shadow=True,explode=[0.01,0.01,0.01,0.01,0.01,0.01,0.15], autopct='%1.1f%%')\n",
    "plt.legend(title='highest revenue')\n",
    "plt.show()"
   ]
  },
  {
   "cell_type": "markdown",
   "id": "be08cfa2",
   "metadata": {},
   "source": [
    "showing the month with highest revenue using the 'explode'"
   ]
  },
  {
   "cell_type": "code",
   "execution_count": 67,
   "id": "7b1609e8",
   "metadata": {},
   "outputs": [
    {
     "data": {
      "text/html": [
       "<div>\n",
       "<style scoped>\n",
       "    .dataframe tbody tr th:only-of-type {\n",
       "        vertical-align: middle;\n",
       "    }\n",
       "\n",
       "    .dataframe tbody tr th {\n",
       "        vertical-align: top;\n",
       "    }\n",
       "\n",
       "    .dataframe thead th {\n",
       "        text-align: right;\n",
       "    }\n",
       "</style>\n",
       "<table border=\"1\" class=\"dataframe\">\n",
       "  <thead>\n",
       "    <tr style=\"text-align: right;\">\n",
       "      <th></th>\n",
       "      <th>Year</th>\n",
       "      <th>Revenue</th>\n",
       "    </tr>\n",
       "    <tr>\n",
       "      <th>Month Number</th>\n",
       "      <th></th>\n",
       "      <th></th>\n",
       "    </tr>\n",
       "  </thead>\n",
       "  <tbody>\n",
       "    <tr>\n",
       "      <th>11.0</th>\n",
       "      <td>2020.0</td>\n",
       "      <td>213342.0</td>\n",
       "    </tr>\n",
       "    <tr>\n",
       "      <th>12.0</th>\n",
       "      <td>2020.0</td>\n",
       "      <td>352090.0</td>\n",
       "    </tr>\n",
       "    <tr>\n",
       "      <th>1.0</th>\n",
       "      <td>2021.0</td>\n",
       "      <td>297244.0</td>\n",
       "    </tr>\n",
       "    <tr>\n",
       "      <th>2.0</th>\n",
       "      <td>2021.0</td>\n",
       "      <td>293302.0</td>\n",
       "    </tr>\n",
       "    <tr>\n",
       "      <th>3.0</th>\n",
       "      <td>2021.0</td>\n",
       "      <td>327216.0</td>\n",
       "    </tr>\n",
       "    <tr>\n",
       "      <th>4.0</th>\n",
       "      <td>2021.0</td>\n",
       "      <td>311944.0</td>\n",
       "    </tr>\n",
       "    <tr>\n",
       "      <th>5.0</th>\n",
       "      <td>2021.0</td>\n",
       "      <td>68724.0</td>\n",
       "    </tr>\n",
       "  </tbody>\n",
       "</table>\n",
       "</div>"
      ],
      "text/plain": [
       "                Year   Revenue\n",
       "Month Number                  \n",
       "11.0          2020.0  213342.0\n",
       "12.0          2020.0  352090.0\n",
       "1.0           2021.0  297244.0\n",
       "2.0           2021.0  293302.0\n",
       "3.0           2021.0  327216.0\n",
       "4.0           2021.0  311944.0\n",
       "5.0           2021.0   68724.0"
      ]
     },
     "execution_count": 67,
     "metadata": {},
     "output_type": "execute_result"
    }
   ],
   "source": [
    "final_merged.groupby(by=['Year', 'Month Number'])['Revenue'].sum().to_frame().reset_index(0) #the 12th month in the year 2020 generated the highest revenue"
   ]
  },
  {
   "cell_type": "code",
   "execution_count": 68,
   "id": "e6733601",
   "metadata": {},
   "outputs": [
    {
     "data": {
      "text/plain": [
       "<AxesSubplot:xlabel='Month Number', ylabel='Revenue'>"
      ]
     },
     "execution_count": 68,
     "metadata": {},
     "output_type": "execute_result"
    },
    {
     "data": {
      "image/png": "[encoded data removed]",
      "text/plain": [
       "<Figure size 432x288 with 1 Axes>"
      ]
     },
     "metadata": {
      "needs_background": "light"
     },
     "output_type": "display_data"
    }
   ],
   "source": [
    "sns.barplot(x='Month Number', y='Revenue', data=final_merged) #the 12th month generated the most revenue,maybe due to some festivities"
   ]
  },
  {
   "cell_type": "code",
   "execution_count": 69,
   "id": "77e99c08",
   "metadata": {},
   "outputs": [
    {
     "data": {
      "text/plain": [
       "<AxesSubplot:ylabel='Marketing Spend'>"
      ]
     },
     "execution_count": 69,
     "metadata": {},
     "output_type": "execute_result"
    },
    {
     "data": {
      "image/png": "[encoded data removed]",
      "text/plain": [
       "<Figure size 432x288 with 1 Axes>"
      ]
     },
     "metadata": {
      "needs_background": "light"
     },
     "output_type": "display_data"
    }
   ],
   "source": [
    "#outliers for Marketing Spend, it shows some outliers\n",
    "sns.boxplot(y='Marketing Spend', data=final_merged)"
   ]
  },
  {
   "cell_type": "code",
   "execution_count": 70,
   "id": "985e4f7c",
   "metadata": {},
   "outputs": [
    {
     "data": {
      "text/plain": [
       "<AxesSubplot:ylabel='Visitors'>"
      ]
     },
     "execution_count": 70,
     "metadata": {},
     "output_type": "execute_result"
    },
    {
     "data": {
      "image/png": "[encoded data removed]",
      "text/plain": [
       "<Figure size 432x288 with 1 Axes>"
      ]
     },
     "metadata": {
      "needs_background": "light"
     },
     "output_type": "display_data"
    }
   ],
   "source": [
    "#outliers for Visitors it shows some outliers\n",
    "sns.boxplot(y='Visitors', data=final_merged)"
   ]
  },
  {
   "cell_type": "code",
   "execution_count": 71,
   "id": "d39cd030",
   "metadata": {},
   "outputs": [
    {
     "data": {
      "text/plain": [
       "<AxesSubplot:ylabel='Revenue'>"
      ]
     },
     "execution_count": 71,
     "metadata": {},
     "output_type": "execute_result"
    },
    {
     "data": {
      "image/png": "[encoded data removed]",
      "text/plain": [
       "<Figure size 432x288 with 1 Axes>"
      ]
     },
     "metadata": {
      "needs_background": "light"
     },
     "output_type": "display_data"
    }
   ],
   "source": [
    "#outliers for Revenue it shows some outliers\n",
    "sns.boxplot(y='Revenue', data=final_merged)"
   ]
  },
  {
   "cell_type": "code",
   "execution_count": 72,
   "id": "f9fe67f1",
   "metadata": {},
   "outputs": [],
   "source": [
    "## Outlier treatment to handle extreme values\n",
    "\n",
    "def find_outliers_IQR(df):\n",
    "    q1=df.quantile(0.25)\n",
    "    q3=df.quantile(0.75)\n",
    "    IQR=q3-q1\n",
    "    \n",
    "    lower_limit = q1-1.5*IQR\n",
    "    upper_limit = q3+1.5*IQR\n",
    "    outliers = df[((df<lower_limit) | (df>upper_limit))]\n",
    "    \n",
    "    df[df > upper_limit] = upper_limit\n",
    "    df[df < lower_limit] = lower_limit\n",
    "        \n",
    "    return lower_limit,upper_limit,outliers "
   ]
  },
  {
   "cell_type": "code",
   "execution_count": 73,
   "id": "dac2adc6",
   "metadata": {},
   "outputs": [
    {
     "name": "stderr",
     "output_type": "stream",
     "text": [
      "C:\\Users\\bobby\\AppData\\Local\\Temp/ipykernel_7608/1327109790.py:12: SettingWithCopyWarning: \n",
      "A value is trying to be set on a copy of a slice from a DataFrame\n",
      "\n",
      "See the caveats in the documentation: https://pandas.pydata.org/pandas-docs/stable/user_guide/indexing.html#returning-a-view-versus-a-copy\n",
      "  df[df > upper_limit] = upper_limit\n",
      "C:\\Users\\bobby\\AppData\\Local\\Temp/ipykernel_7608/1327109790.py:13: SettingWithCopyWarning: \n",
      "A value is trying to be set on a copy of a slice from a DataFrame\n",
      "\n",
      "See the caveats in the documentation: https://pandas.pydata.org/pandas-docs/stable/user_guide/indexing.html#returning-a-view-versus-a-copy\n",
      "  df[df < lower_limit] = lower_limit\n"
     ]
    },
    {
     "data": {
      "text/plain": [
       "(-4615.5,\n",
       " 23504.5,\n",
       " 47     36283.0\n",
       " 74     24417.0\n",
       " 101    24247.0\n",
       " 109    26608.0\n",
       " 122    25704.0\n",
       " 124    28196.0\n",
       " 151    23870.0\n",
       " 164    24506.0\n",
       " Name: Revenue, dtype: float64)"
      ]
     },
     "metadata": {},
     "output_type": "display_data"
    },
    {
     "data": {
      "text/plain": [
       "(276.5,\n",
       " 3080.5,\n",
       " 59    4139.0\n",
       " Name: Visitors, dtype: float64)"
      ]
     },
     "metadata": {},
     "output_type": "display_data"
    }
   ],
   "source": [
    "display(find_outliers_IQR(final_merged['Revenue']),\n",
    "find_outliers_IQR(final_merged.Visitors))"
   ]
  },
  {
   "cell_type": "markdown",
   "id": "982555c7",
   "metadata": {},
   "source": [
    "# Machine learning"
   ]
  },
  {
   "cell_type": "code",
   "execution_count": 74,
   "id": "aa0b7ae7",
   "metadata": {},
   "outputs": [],
   "source": [
    "from sklearn.impute import KNNImputer\n",
    "from sklearn.preprocessing import OneHotEncoder\n",
    "from sklearn.model_selection import train_test_split\n",
    "enc=OneHotEncoder(handle_unknown='ignore')"
   ]
  },
  {
   "cell_type": "code",
   "execution_count": 75,
   "id": "c756e9b7",
   "metadata": {},
   "outputs": [
    {
     "data": {
      "text/plain": [
       "['Day_Name', 'Promo']"
      ]
     },
     "execution_count": 75,
     "metadata": {},
     "output_type": "execute_result"
    }
   ],
   "source": [
    "mod1=[col for col in final_merged.columns if final_merged[col].dtypes=='O'] #to find the categorical columns and get then ready for conversion\n",
    "mod1"
   ]
  },
  {
   "cell_type": "code",
   "execution_count": 76,
   "id": "820b0ebc",
   "metadata": {},
   "outputs": [
    {
     "name": "stdout",
     "output_type": "stream",
     "text": [
      "Day_Name\n",
      "['Monday' 'Tuesday' 'Wednesday' 'Thursday' 'Friday' 'Saturday' 'Sunday']\n",
      "7\n",
      "\n",
      "\n",
      "Promo\n",
      "['No Promo' 'Promotion Red' 'Promotion Blue']\n",
      "3\n",
      "\n",
      "\n"
     ]
    }
   ],
   "source": [
    "for col in mod1:\n",
    "    print(col)\n",
    "    print(final_merged[col].unique())\n",
    "    print(final_merged[col].nunique())   \n",
    "    print('\\n')"
   ]
  },
  {
   "cell_type": "code",
   "execution_count": 77,
   "id": "80655ae2",
   "metadata": {},
   "outputs": [],
   "source": [
    "final_merge_encode=pd.DataFrame(enc.fit_transform(final_merged[['Day_Name', 'Promo']]).toarray()) #because they are categorical"
   ]
  },
  {
   "cell_type": "code",
   "execution_count": 78,
   "id": "458f59bd",
   "metadata": {},
   "outputs": [
    {
     "data": {
      "text/html": [
       "<div>\n",
       "<style scoped>\n",
       "    .dataframe tbody tr th:only-of-type {\n",
       "        vertical-align: middle;\n",
       "    }\n",
       "\n",
       "    .dataframe tbody tr th {\n",
       "        vertical-align: top;\n",
       "    }\n",
       "\n",
       "    .dataframe thead th {\n",
       "        text-align: right;\n",
       "    }\n",
       "</style>\n",
       "<table border=\"1\" class=\"dataframe\">\n",
       "  <thead>\n",
       "    <tr style=\"text-align: right;\">\n",
       "      <th></th>\n",
       "      <th>0</th>\n",
       "      <th>1</th>\n",
       "      <th>2</th>\n",
       "      <th>3</th>\n",
       "      <th>4</th>\n",
       "      <th>5</th>\n",
       "      <th>6</th>\n",
       "      <th>7</th>\n",
       "      <th>8</th>\n",
       "      <th>9</th>\n",
       "    </tr>\n",
       "  </thead>\n",
       "  <tbody>\n",
       "    <tr>\n",
       "      <th>0</th>\n",
       "      <td>0.0</td>\n",
       "      <td>1.0</td>\n",
       "      <td>0.0</td>\n",
       "      <td>0.0</td>\n",
       "      <td>0.0</td>\n",
       "      <td>0.0</td>\n",
       "      <td>0.0</td>\n",
       "      <td>1.0</td>\n",
       "      <td>0.0</td>\n",
       "      <td>0.0</td>\n",
       "    </tr>\n",
       "    <tr>\n",
       "      <th>1</th>\n",
       "      <td>0.0</td>\n",
       "      <td>0.0</td>\n",
       "      <td>0.0</td>\n",
       "      <td>0.0</td>\n",
       "      <td>0.0</td>\n",
       "      <td>1.0</td>\n",
       "      <td>0.0</td>\n",
       "      <td>0.0</td>\n",
       "      <td>0.0</td>\n",
       "      <td>1.0</td>\n",
       "    </tr>\n",
       "    <tr>\n",
       "      <th>2</th>\n",
       "      <td>0.0</td>\n",
       "      <td>0.0</td>\n",
       "      <td>0.0</td>\n",
       "      <td>0.0</td>\n",
       "      <td>0.0</td>\n",
       "      <td>0.0</td>\n",
       "      <td>1.0</td>\n",
       "      <td>0.0</td>\n",
       "      <td>1.0</td>\n",
       "      <td>0.0</td>\n",
       "    </tr>\n",
       "    <tr>\n",
       "      <th>3</th>\n",
       "      <td>0.0</td>\n",
       "      <td>0.0</td>\n",
       "      <td>0.0</td>\n",
       "      <td>0.0</td>\n",
       "      <td>1.0</td>\n",
       "      <td>0.0</td>\n",
       "      <td>0.0</td>\n",
       "      <td>1.0</td>\n",
       "      <td>0.0</td>\n",
       "      <td>0.0</td>\n",
       "    </tr>\n",
       "    <tr>\n",
       "      <th>4</th>\n",
       "      <td>1.0</td>\n",
       "      <td>0.0</td>\n",
       "      <td>0.0</td>\n",
       "      <td>0.0</td>\n",
       "      <td>0.0</td>\n",
       "      <td>0.0</td>\n",
       "      <td>0.0</td>\n",
       "      <td>1.0</td>\n",
       "      <td>0.0</td>\n",
       "      <td>0.0</td>\n",
       "    </tr>\n",
       "  </tbody>\n",
       "</table>\n",
       "</div>"
      ],
      "text/plain": [
       "     0    1    2    3    4    5    6    7    8    9\n",
       "0  0.0  1.0  0.0  0.0  0.0  0.0  0.0  1.0  0.0  0.0\n",
       "1  0.0  0.0  0.0  0.0  0.0  1.0  0.0  0.0  0.0  1.0\n",
       "2  0.0  0.0  0.0  0.0  0.0  0.0  1.0  0.0  1.0  0.0\n",
       "3  0.0  0.0  0.0  0.0  1.0  0.0  0.0  1.0  0.0  0.0\n",
       "4  1.0  0.0  0.0  0.0  0.0  0.0  0.0  1.0  0.0  0.0"
      ]
     },
     "execution_count": 78,
     "metadata": {},
     "output_type": "execute_result"
    }
   ],
   "source": [
    "final_merge_encode.head() #to view the first 5 rows"
   ]
  },
  {
   "cell_type": "code",
   "execution_count": 79,
   "id": "41c8c3c9",
   "metadata": {},
   "outputs": [
    {
     "data": {
      "text/plain": [
       "(182, 10)"
      ]
     },
     "execution_count": 79,
     "metadata": {},
     "output_type": "execute_result"
    }
   ],
   "source": [
    "final_merge_encode.shape #to find the shape of the encoded data array"
   ]
  },
  {
   "cell_type": "code",
   "execution_count": 80,
   "id": "40cfd2ec",
   "metadata": {},
   "outputs": [
    {
     "data": {
      "text/html": [
       "<div>\n",
       "<style scoped>\n",
       "    .dataframe tbody tr th:only-of-type {\n",
       "        vertical-align: middle;\n",
       "    }\n",
       "\n",
       "    .dataframe tbody tr th {\n",
       "        vertical-align: top;\n",
       "    }\n",
       "\n",
       "    .dataframe thead th {\n",
       "        text-align: right;\n",
       "    }\n",
       "</style>\n",
       "<table border=\"1\" class=\"dataframe\">\n",
       "  <thead>\n",
       "    <tr style=\"text-align: right;\">\n",
       "      <th></th>\n",
       "      <th>Date</th>\n",
       "      <th>Week_ID</th>\n",
       "      <th>Month Number</th>\n",
       "      <th>Month_ID</th>\n",
       "      <th>Year</th>\n",
       "      <th>Day_Name</th>\n",
       "      <th>Revenue</th>\n",
       "      <th>Marketing Spend</th>\n",
       "      <th>Promo</th>\n",
       "      <th>Visitors</th>\n",
       "      <th>0</th>\n",
       "      <th>1</th>\n",
       "      <th>2</th>\n",
       "      <th>3</th>\n",
       "      <th>4</th>\n",
       "      <th>5</th>\n",
       "      <th>6</th>\n",
       "      <th>7</th>\n",
       "      <th>8</th>\n",
       "      <th>9</th>\n",
       "    </tr>\n",
       "  </thead>\n",
       "  <tbody>\n",
       "    <tr>\n",
       "      <th>0</th>\n",
       "      <td>2020-11-09</td>\n",
       "      <td>34.0</td>\n",
       "      <td>11.0</td>\n",
       "      <td>11.0</td>\n",
       "      <td>2020.0</td>\n",
       "      <td>Monday</td>\n",
       "      <td>465.0</td>\n",
       "      <td>651.375</td>\n",
       "      <td>No Promo</td>\n",
       "      <td>707.0</td>\n",
       "      <td>0.0</td>\n",
       "      <td>1.0</td>\n",
       "      <td>0.0</td>\n",
       "      <td>0.0</td>\n",
       "      <td>0.0</td>\n",
       "      <td>0.0</td>\n",
       "      <td>0.0</td>\n",
       "      <td>1.0</td>\n",
       "      <td>0.0</td>\n",
       "      <td>0.0</td>\n",
       "    </tr>\n",
       "    <tr>\n",
       "      <th>1</th>\n",
       "      <td>2020-11-10</td>\n",
       "      <td>34.0</td>\n",
       "      <td>11.0</td>\n",
       "      <td>11.0</td>\n",
       "      <td>2020.0</td>\n",
       "      <td>Tuesday</td>\n",
       "      <td>10386.0</td>\n",
       "      <td>1298.250</td>\n",
       "      <td>Promotion Red</td>\n",
       "      <td>1455.0</td>\n",
       "      <td>0.0</td>\n",
       "      <td>0.0</td>\n",
       "      <td>0.0</td>\n",
       "      <td>0.0</td>\n",
       "      <td>0.0</td>\n",
       "      <td>1.0</td>\n",
       "      <td>0.0</td>\n",
       "      <td>0.0</td>\n",
       "      <td>0.0</td>\n",
       "      <td>1.0</td>\n",
       "    </tr>\n",
       "    <tr>\n",
       "      <th>2</th>\n",
       "      <td>2020-11-11</td>\n",
       "      <td>34.0</td>\n",
       "      <td>11.0</td>\n",
       "      <td>11.0</td>\n",
       "      <td>2020.0</td>\n",
       "      <td>Wednesday</td>\n",
       "      <td>12475.0</td>\n",
       "      <td>1559.375</td>\n",
       "      <td>Promotion Blue</td>\n",
       "      <td>1520.0</td>\n",
       "      <td>0.0</td>\n",
       "      <td>0.0</td>\n",
       "      <td>0.0</td>\n",
       "      <td>0.0</td>\n",
       "      <td>0.0</td>\n",
       "      <td>0.0</td>\n",
       "      <td>1.0</td>\n",
       "      <td>0.0</td>\n",
       "      <td>1.0</td>\n",
       "      <td>0.0</td>\n",
       "    </tr>\n",
       "    <tr>\n",
       "      <th>3</th>\n",
       "      <td>2020-11-12</td>\n",
       "      <td>34.0</td>\n",
       "      <td>11.0</td>\n",
       "      <td>11.0</td>\n",
       "      <td>2020.0</td>\n",
       "      <td>Thursday</td>\n",
       "      <td>11712.0</td>\n",
       "      <td>1801.750</td>\n",
       "      <td>No Promo</td>\n",
       "      <td>1726.0</td>\n",
       "      <td>0.0</td>\n",
       "      <td>0.0</td>\n",
       "      <td>0.0</td>\n",
       "      <td>0.0</td>\n",
       "      <td>1.0</td>\n",
       "      <td>0.0</td>\n",
       "      <td>0.0</td>\n",
       "      <td>1.0</td>\n",
       "      <td>0.0</td>\n",
       "      <td>0.0</td>\n",
       "    </tr>\n",
       "    <tr>\n",
       "      <th>4</th>\n",
       "      <td>2020-11-13</td>\n",
       "      <td>34.0</td>\n",
       "      <td>11.0</td>\n",
       "      <td>11.0</td>\n",
       "      <td>2020.0</td>\n",
       "      <td>Friday</td>\n",
       "      <td>10000.0</td>\n",
       "      <td>2614.500</td>\n",
       "      <td>No Promo</td>\n",
       "      <td>2134.0</td>\n",
       "      <td>1.0</td>\n",
       "      <td>0.0</td>\n",
       "      <td>0.0</td>\n",
       "      <td>0.0</td>\n",
       "      <td>0.0</td>\n",
       "      <td>0.0</td>\n",
       "      <td>0.0</td>\n",
       "      <td>1.0</td>\n",
       "      <td>0.0</td>\n",
       "      <td>0.0</td>\n",
       "    </tr>\n",
       "  </tbody>\n",
       "</table>\n",
       "</div>"
      ],
      "text/plain": [
       "        Date  Week_ID  Month Number  Month_ID    Year   Day_Name  Revenue  \\\n",
       "0 2020-11-09     34.0          11.0      11.0  2020.0     Monday    465.0   \n",
       "1 2020-11-10     34.0          11.0      11.0  2020.0    Tuesday  10386.0   \n",
       "2 2020-11-11     34.0          11.0      11.0  2020.0  Wednesday  12475.0   \n",
       "3 2020-11-12     34.0          11.0      11.0  2020.0   Thursday  11712.0   \n",
       "4 2020-11-13     34.0          11.0      11.0  2020.0     Friday  10000.0   \n",
       "\n",
       "   Marketing Spend           Promo  Visitors    0    1    2    3    4    5  \\\n",
       "0          651.375        No Promo     707.0  0.0  1.0  0.0  0.0  0.0  0.0   \n",
       "1         1298.250   Promotion Red    1455.0  0.0  0.0  0.0  0.0  0.0  1.0   \n",
       "2         1559.375  Promotion Blue    1520.0  0.0  0.0  0.0  0.0  0.0  0.0   \n",
       "3         1801.750        No Promo    1726.0  0.0  0.0  0.0  0.0  1.0  0.0   \n",
       "4         2614.500        No Promo    2134.0  1.0  0.0  0.0  0.0  0.0  0.0   \n",
       "\n",
       "     6    7    8    9  \n",
       "0  0.0  1.0  0.0  0.0  \n",
       "1  0.0  0.0  0.0  1.0  \n",
       "2  1.0  0.0  1.0  0.0  \n",
       "3  0.0  1.0  0.0  0.0  \n",
       "4  0.0  1.0  0.0  0.0  "
      ]
     },
     "execution_count": 80,
     "metadata": {},
     "output_type": "execute_result"
    }
   ],
   "source": [
    "E_merged=final_merged.join(final_merge_encode)     #merging the original dataset with the new encoded array\n",
    "E_merged.head()"
   ]
  },
  {
   "cell_type": "code",
   "execution_count": 81,
   "id": "de153d80",
   "metadata": {},
   "outputs": [],
   "source": [
    "E_merged.drop(['Day_Name', 'Promo'], axis=1, inplace=True) #we then drop the columns with the categorical variables,since they have been encoded\n"
   ]
  },
  {
   "cell_type": "code",
   "execution_count": 82,
   "id": "f3ef7cfc",
   "metadata": {},
   "outputs": [
    {
     "data": {
      "text/html": [
       "<div>\n",
       "<style scoped>\n",
       "    .dataframe tbody tr th:only-of-type {\n",
       "        vertical-align: middle;\n",
       "    }\n",
       "\n",
       "    .dataframe tbody tr th {\n",
       "        vertical-align: top;\n",
       "    }\n",
       "\n",
       "    .dataframe thead th {\n",
       "        text-align: right;\n",
       "    }\n",
       "</style>\n",
       "<table border=\"1\" class=\"dataframe\">\n",
       "  <thead>\n",
       "    <tr style=\"text-align: right;\">\n",
       "      <th></th>\n",
       "      <th>Date</th>\n",
       "      <th>Week_ID</th>\n",
       "      <th>Month Number</th>\n",
       "      <th>Month_ID</th>\n",
       "      <th>Year</th>\n",
       "      <th>Revenue</th>\n",
       "      <th>Marketing Spend</th>\n",
       "      <th>Visitors</th>\n",
       "      <th>0</th>\n",
       "      <th>1</th>\n",
       "      <th>2</th>\n",
       "      <th>3</th>\n",
       "      <th>4</th>\n",
       "      <th>5</th>\n",
       "      <th>6</th>\n",
       "      <th>7</th>\n",
       "      <th>8</th>\n",
       "      <th>9</th>\n",
       "    </tr>\n",
       "  </thead>\n",
       "  <tbody>\n",
       "    <tr>\n",
       "      <th>0</th>\n",
       "      <td>2020-11-09</td>\n",
       "      <td>34.0</td>\n",
       "      <td>11.0</td>\n",
       "      <td>11.0</td>\n",
       "      <td>2020.0</td>\n",
       "      <td>465.0</td>\n",
       "      <td>651.375000</td>\n",
       "      <td>707.0</td>\n",
       "      <td>0.0</td>\n",
       "      <td>1.0</td>\n",
       "      <td>0.0</td>\n",
       "      <td>0.0</td>\n",
       "      <td>0.0</td>\n",
       "      <td>0.0</td>\n",
       "      <td>0.0</td>\n",
       "      <td>1.0</td>\n",
       "      <td>0.0</td>\n",
       "      <td>0.0</td>\n",
       "    </tr>\n",
       "    <tr>\n",
       "      <th>1</th>\n",
       "      <td>2020-11-10</td>\n",
       "      <td>34.0</td>\n",
       "      <td>11.0</td>\n",
       "      <td>11.0</td>\n",
       "      <td>2020.0</td>\n",
       "      <td>10386.0</td>\n",
       "      <td>1298.250000</td>\n",
       "      <td>1455.0</td>\n",
       "      <td>0.0</td>\n",
       "      <td>0.0</td>\n",
       "      <td>0.0</td>\n",
       "      <td>0.0</td>\n",
       "      <td>0.0</td>\n",
       "      <td>1.0</td>\n",
       "      <td>0.0</td>\n",
       "      <td>0.0</td>\n",
       "      <td>0.0</td>\n",
       "      <td>1.0</td>\n",
       "    </tr>\n",
       "    <tr>\n",
       "      <th>2</th>\n",
       "      <td>2020-11-11</td>\n",
       "      <td>34.0</td>\n",
       "      <td>11.0</td>\n",
       "      <td>11.0</td>\n",
       "      <td>2020.0</td>\n",
       "      <td>12475.0</td>\n",
       "      <td>1559.375000</td>\n",
       "      <td>1520.0</td>\n",
       "      <td>0.0</td>\n",
       "      <td>0.0</td>\n",
       "      <td>0.0</td>\n",
       "      <td>0.0</td>\n",
       "      <td>0.0</td>\n",
       "      <td>0.0</td>\n",
       "      <td>1.0</td>\n",
       "      <td>0.0</td>\n",
       "      <td>1.0</td>\n",
       "      <td>0.0</td>\n",
       "    </tr>\n",
       "    <tr>\n",
       "      <th>3</th>\n",
       "      <td>2020-11-12</td>\n",
       "      <td>34.0</td>\n",
       "      <td>11.0</td>\n",
       "      <td>11.0</td>\n",
       "      <td>2020.0</td>\n",
       "      <td>11712.0</td>\n",
       "      <td>1801.750000</td>\n",
       "      <td>1726.0</td>\n",
       "      <td>0.0</td>\n",
       "      <td>0.0</td>\n",
       "      <td>0.0</td>\n",
       "      <td>0.0</td>\n",
       "      <td>1.0</td>\n",
       "      <td>0.0</td>\n",
       "      <td>0.0</td>\n",
       "      <td>1.0</td>\n",
       "      <td>0.0</td>\n",
       "      <td>0.0</td>\n",
       "    </tr>\n",
       "    <tr>\n",
       "      <th>4</th>\n",
       "      <td>2020-11-13</td>\n",
       "      <td>34.0</td>\n",
       "      <td>11.0</td>\n",
       "      <td>11.0</td>\n",
       "      <td>2020.0</td>\n",
       "      <td>10000.0</td>\n",
       "      <td>2614.500000</td>\n",
       "      <td>2134.0</td>\n",
       "      <td>1.0</td>\n",
       "      <td>0.0</td>\n",
       "      <td>0.0</td>\n",
       "      <td>0.0</td>\n",
       "      <td>0.0</td>\n",
       "      <td>0.0</td>\n",
       "      <td>0.0</td>\n",
       "      <td>1.0</td>\n",
       "      <td>0.0</td>\n",
       "      <td>0.0</td>\n",
       "    </tr>\n",
       "    <tr>\n",
       "      <th>...</th>\n",
       "      <td>...</td>\n",
       "      <td>...</td>\n",
       "      <td>...</td>\n",
       "      <td>...</td>\n",
       "      <td>...</td>\n",
       "      <td>...</td>\n",
       "      <td>...</td>\n",
       "      <td>...</td>\n",
       "      <td>...</td>\n",
       "      <td>...</td>\n",
       "      <td>...</td>\n",
       "      <td>...</td>\n",
       "      <td>...</td>\n",
       "      <td>...</td>\n",
       "      <td>...</td>\n",
       "      <td>...</td>\n",
       "      <td>...</td>\n",
       "      <td>...</td>\n",
       "    </tr>\n",
       "    <tr>\n",
       "      <th>177</th>\n",
       "      <td>2021-05-05</td>\n",
       "      <td>60.0</td>\n",
       "      <td>5.0</td>\n",
       "      <td>17.0</td>\n",
       "      <td>2021.0</td>\n",
       "      <td>7284.0</td>\n",
       "      <td>1119.600000</td>\n",
       "      <td>1400.0</td>\n",
       "      <td>0.0</td>\n",
       "      <td>0.0</td>\n",
       "      <td>0.0</td>\n",
       "      <td>0.0</td>\n",
       "      <td>0.0</td>\n",
       "      <td>0.0</td>\n",
       "      <td>1.0</td>\n",
       "      <td>1.0</td>\n",
       "      <td>0.0</td>\n",
       "      <td>0.0</td>\n",
       "    </tr>\n",
       "    <tr>\n",
       "      <th>178</th>\n",
       "      <td>2021-05-06</td>\n",
       "      <td>60.0</td>\n",
       "      <td>5.0</td>\n",
       "      <td>17.0</td>\n",
       "      <td>2021.0</td>\n",
       "      <td>13021.0</td>\n",
       "      <td>2067.888889</td>\n",
       "      <td>2244.0</td>\n",
       "      <td>0.0</td>\n",
       "      <td>0.0</td>\n",
       "      <td>0.0</td>\n",
       "      <td>0.0</td>\n",
       "      <td>1.0</td>\n",
       "      <td>0.0</td>\n",
       "      <td>0.0</td>\n",
       "      <td>0.0</td>\n",
       "      <td>0.0</td>\n",
       "      <td>1.0</td>\n",
       "    </tr>\n",
       "    <tr>\n",
       "      <th>179</th>\n",
       "      <td>2021-05-07</td>\n",
       "      <td>60.0</td>\n",
       "      <td>5.0</td>\n",
       "      <td>17.0</td>\n",
       "      <td>2021.0</td>\n",
       "      <td>4587.0</td>\n",
       "      <td>NaN</td>\n",
       "      <td>2023.0</td>\n",
       "      <td>1.0</td>\n",
       "      <td>0.0</td>\n",
       "      <td>0.0</td>\n",
       "      <td>0.0</td>\n",
       "      <td>0.0</td>\n",
       "      <td>0.0</td>\n",
       "      <td>0.0</td>\n",
       "      <td>1.0</td>\n",
       "      <td>0.0</td>\n",
       "      <td>0.0</td>\n",
       "    </tr>\n",
       "    <tr>\n",
       "      <th>180</th>\n",
       "      <td>2021-05-08</td>\n",
       "      <td>60.0</td>\n",
       "      <td>5.0</td>\n",
       "      <td>17.0</td>\n",
       "      <td>2021.0</td>\n",
       "      <td>5927.0</td>\n",
       "      <td>1121.875000</td>\n",
       "      <td>1483.0</td>\n",
       "      <td>0.0</td>\n",
       "      <td>0.0</td>\n",
       "      <td>1.0</td>\n",
       "      <td>0.0</td>\n",
       "      <td>0.0</td>\n",
       "      <td>0.0</td>\n",
       "      <td>0.0</td>\n",
       "      <td>1.0</td>\n",
       "      <td>0.0</td>\n",
       "      <td>0.0</td>\n",
       "    </tr>\n",
       "    <tr>\n",
       "      <th>181</th>\n",
       "      <td>2021-05-09</td>\n",
       "      <td>61.0</td>\n",
       "      <td>5.0</td>\n",
       "      <td>17.0</td>\n",
       "      <td>2021.0</td>\n",
       "      <td>3861.0</td>\n",
       "      <td>871.000000</td>\n",
       "      <td>1303.0</td>\n",
       "      <td>0.0</td>\n",
       "      <td>0.0</td>\n",
       "      <td>0.0</td>\n",
       "      <td>1.0</td>\n",
       "      <td>0.0</td>\n",
       "      <td>0.0</td>\n",
       "      <td>0.0</td>\n",
       "      <td>1.0</td>\n",
       "      <td>0.0</td>\n",
       "      <td>0.0</td>\n",
       "    </tr>\n",
       "  </tbody>\n",
       "</table>\n",
       "<p>182 rows × 18 columns</p>\n",
       "</div>"
      ],
      "text/plain": [
       "          Date  Week_ID  Month Number  Month_ID    Year  Revenue  \\\n",
       "0   2020-11-09     34.0          11.0      11.0  2020.0    465.0   \n",
       "1   2020-11-10     34.0          11.0      11.0  2020.0  10386.0   \n",
       "2   2020-11-11     34.0          11.0      11.0  2020.0  12475.0   \n",
       "3   2020-11-12     34.0          11.0      11.0  2020.0  11712.0   \n",
       "4   2020-11-13     34.0          11.0      11.0  2020.0  10000.0   \n",
       "..         ...      ...           ...       ...     ...      ...   \n",
       "177 2021-05-05     60.0           5.0      17.0  2021.0   7284.0   \n",
       "178 2021-05-06     60.0           5.0      17.0  2021.0  13021.0   \n",
       "179 2021-05-07     60.0           5.0      17.0  2021.0   4587.0   \n",
       "180 2021-05-08     60.0           5.0      17.0  2021.0   5927.0   \n",
       "181 2021-05-09     61.0           5.0      17.0  2021.0   3861.0   \n",
       "\n",
       "     Marketing Spend  Visitors    0    1    2    3    4    5    6    7    8  \\\n",
       "0         651.375000     707.0  0.0  1.0  0.0  0.0  0.0  0.0  0.0  1.0  0.0   \n",
       "1        1298.250000    1455.0  0.0  0.0  0.0  0.0  0.0  1.0  0.0  0.0  0.0   \n",
       "2        1559.375000    1520.0  0.0  0.0  0.0  0.0  0.0  0.0  1.0  0.0  1.0   \n",
       "3        1801.750000    1726.0  0.0  0.0  0.0  0.0  1.0  0.0  0.0  1.0  0.0   \n",
       "4        2614.500000    2134.0  1.0  0.0  0.0  0.0  0.0  0.0  0.0  1.0  0.0   \n",
       "..               ...       ...  ...  ...  ...  ...  ...  ...  ...  ...  ...   \n",
       "177      1119.600000    1400.0  0.0  0.0  0.0  0.0  0.0  0.0  1.0  1.0  0.0   \n",
       "178      2067.888889    2244.0  0.0  0.0  0.0  0.0  1.0  0.0  0.0  0.0  0.0   \n",
       "179              NaN    2023.0  1.0  0.0  0.0  0.0  0.0  0.0  0.0  1.0  0.0   \n",
       "180      1121.875000    1483.0  0.0  0.0  1.0  0.0  0.0  0.0  0.0  1.0  0.0   \n",
       "181       871.000000    1303.0  0.0  0.0  0.0  1.0  0.0  0.0  0.0  1.0  0.0   \n",
       "\n",
       "       9  \n",
       "0    0.0  \n",
       "1    1.0  \n",
       "2    0.0  \n",
       "3    0.0  \n",
       "4    0.0  \n",
       "..   ...  \n",
       "177  0.0  \n",
       "178  1.0  \n",
       "179  0.0  \n",
       "180  0.0  \n",
       "181  0.0  \n",
       "\n",
       "[182 rows x 18 columns]"
      ]
     },
     "execution_count": 82,
     "metadata": {},
     "output_type": "execute_result"
    }
   ],
   "source": [
    "E_merged"
   ]
  },
  {
   "cell_type": "markdown",
   "id": "2ed69b26",
   "metadata": {},
   "source": [
    "Multi Colinearity to check for other tyes of relationship among other columns"
   ]
  },
  {
   "cell_type": "code",
   "execution_count": 83,
   "id": "9ef97a42",
   "metadata": {},
   "outputs": [
    {
     "data": {
      "text/html": [
       "<div>\n",
       "<style scoped>\n",
       "    .dataframe tbody tr th:only-of-type {\n",
       "        vertical-align: middle;\n",
       "    }\n",
       "\n",
       "    .dataframe tbody tr th {\n",
       "        vertical-align: top;\n",
       "    }\n",
       "\n",
       "    .dataframe thead th {\n",
       "        text-align: right;\n",
       "    }\n",
       "</style>\n",
       "<table border=\"1\" class=\"dataframe\">\n",
       "  <thead>\n",
       "    <tr style=\"text-align: right;\">\n",
       "      <th></th>\n",
       "      <th>Week_ID</th>\n",
       "      <th>Month Number</th>\n",
       "      <th>Month_ID</th>\n",
       "      <th>Year</th>\n",
       "      <th>Revenue</th>\n",
       "      <th>Marketing Spend</th>\n",
       "      <th>Visitors</th>\n",
       "      <th>0</th>\n",
       "      <th>1</th>\n",
       "      <th>2</th>\n",
       "      <th>3</th>\n",
       "      <th>4</th>\n",
       "      <th>5</th>\n",
       "      <th>6</th>\n",
       "      <th>7</th>\n",
       "      <th>8</th>\n",
       "      <th>9</th>\n",
       "    </tr>\n",
       "  </thead>\n",
       "  <tbody>\n",
       "    <tr>\n",
       "      <th>Week_ID</th>\n",
       "      <td>1.000000</td>\n",
       "      <td>-0.631898</td>\n",
       "      <td>0.986144</td>\n",
       "      <td>0.807718</td>\n",
       "      <td>-0.045494</td>\n",
       "      <td>-0.107220</td>\n",
       "      <td>-0.026669</td>\n",
       "      <td>-0.006270</td>\n",
       "      <td>-0.008265</td>\n",
       "      <td>-0.006270</td>\n",
       "      <td>0.045602</td>\n",
       "      <td>-0.008265</td>\n",
       "      <td>-0.008265</td>\n",
       "      <td>-0.008265</td>\n",
       "      <td>-0.001453</td>\n",
       "      <td>-0.021379</td>\n",
       "      <td>0.022941</td>\n",
       "    </tr>\n",
       "    <tr>\n",
       "      <th>Month Number</th>\n",
       "      <td>-0.631898</td>\n",
       "      <td>1.000000</td>\n",
       "      <td>-0.601891</td>\n",
       "      <td>-0.965465</td>\n",
       "      <td>0.056311</td>\n",
       "      <td>0.116264</td>\n",
       "      <td>0.033913</td>\n",
       "      <td>-0.022469</td>\n",
       "      <td>0.011234</td>\n",
       "      <td>-0.018724</td>\n",
       "      <td>-0.018724</td>\n",
       "      <td>0.018724</td>\n",
       "      <td>0.014979</td>\n",
       "      <td>0.014979</td>\n",
       "      <td>-0.015801</td>\n",
       "      <td>0.001324</td>\n",
       "      <td>0.015667</td>\n",
       "    </tr>\n",
       "    <tr>\n",
       "      <th>Month_ID</th>\n",
       "      <td>0.986144</td>\n",
       "      <td>-0.601891</td>\n",
       "      <td>1.000000</td>\n",
       "      <td>0.789160</td>\n",
       "      <td>-0.041908</td>\n",
       "      <td>-0.096467</td>\n",
       "      <td>-0.013159</td>\n",
       "      <td>0.007567</td>\n",
       "      <td>-0.018917</td>\n",
       "      <td>0.016395</td>\n",
       "      <td>0.016395</td>\n",
       "      <td>-0.001261</td>\n",
       "      <td>-0.010089</td>\n",
       "      <td>-0.010089</td>\n",
       "      <td>0.004216</td>\n",
       "      <td>-0.019173</td>\n",
       "      <td>0.014640</td>\n",
       "    </tr>\n",
       "    <tr>\n",
       "      <th>Year</th>\n",
       "      <td>0.807718</td>\n",
       "      <td>-0.965465</td>\n",
       "      <td>0.789160</td>\n",
       "      <td>1.000000</td>\n",
       "      <td>-0.057075</td>\n",
       "      <td>-0.120995</td>\n",
       "      <td>-0.030383</td>\n",
       "      <td>0.019749</td>\n",
       "      <td>-0.014812</td>\n",
       "      <td>0.019749</td>\n",
       "      <td>0.019749</td>\n",
       "      <td>-0.014812</td>\n",
       "      <td>-0.014812</td>\n",
       "      <td>-0.014812</td>\n",
       "      <td>0.013528</td>\n",
       "      <td>-0.007273</td>\n",
       "      <td>-0.007273</td>\n",
       "    </tr>\n",
       "    <tr>\n",
       "      <th>Revenue</th>\n",
       "      <td>-0.045494</td>\n",
       "      <td>0.056311</td>\n",
       "      <td>-0.041908</td>\n",
       "      <td>-0.057075</td>\n",
       "      <td>1.000000</td>\n",
       "      <td>0.740480</td>\n",
       "      <td>0.578666</td>\n",
       "      <td>0.223141</td>\n",
       "      <td>-0.174804</td>\n",
       "      <td>-0.105767</td>\n",
       "      <td>-0.048130</td>\n",
       "      <td>0.232608</td>\n",
       "      <td>-0.121683</td>\n",
       "      <td>-0.014924</td>\n",
       "      <td>-0.647836</td>\n",
       "      <td>0.638687</td>\n",
       "      <td>0.061674</td>\n",
       "    </tr>\n",
       "    <tr>\n",
       "      <th>Marketing Spend</th>\n",
       "      <td>-0.107220</td>\n",
       "      <td>0.116264</td>\n",
       "      <td>-0.096467</td>\n",
       "      <td>-0.120995</td>\n",
       "      <td>0.740480</td>\n",
       "      <td>1.000000</td>\n",
       "      <td>0.845126</td>\n",
       "      <td>0.294848</td>\n",
       "      <td>-0.166547</td>\n",
       "      <td>-0.110966</td>\n",
       "      <td>-0.104548</td>\n",
       "      <td>0.356029</td>\n",
       "      <td>-0.209757</td>\n",
       "      <td>-0.051884</td>\n",
       "      <td>-0.267057</td>\n",
       "      <td>0.422957</td>\n",
       "      <td>-0.136457</td>\n",
       "    </tr>\n",
       "    <tr>\n",
       "      <th>Visitors</th>\n",
       "      <td>-0.026669</td>\n",
       "      <td>0.033913</td>\n",
       "      <td>-0.013159</td>\n",
       "      <td>-0.030383</td>\n",
       "      <td>0.578666</td>\n",
       "      <td>0.845126</td>\n",
       "      <td>1.000000</td>\n",
       "      <td>0.271550</td>\n",
       "      <td>-0.142530</td>\n",
       "      <td>-0.246251</td>\n",
       "      <td>-0.140727</td>\n",
       "      <td>0.483937</td>\n",
       "      <td>-0.190679</td>\n",
       "      <td>-0.036779</td>\n",
       "      <td>-0.066771</td>\n",
       "      <td>0.162134</td>\n",
       "      <td>-0.090681</td>\n",
       "    </tr>\n",
       "    <tr>\n",
       "      <th>0</th>\n",
       "      <td>-0.006270</td>\n",
       "      <td>-0.022469</td>\n",
       "      <td>0.007567</td>\n",
       "      <td>0.019749</td>\n",
       "      <td>0.223141</td>\n",
       "      <td>0.294848</td>\n",
       "      <td>0.271550</td>\n",
       "      <td>1.000000</td>\n",
       "      <td>-0.166667</td>\n",
       "      <td>-0.166667</td>\n",
       "      <td>-0.166667</td>\n",
       "      <td>-0.166667</td>\n",
       "      <td>-0.166667</td>\n",
       "      <td>-0.166667</td>\n",
       "      <td>0.013700</td>\n",
       "      <td>0.112941</td>\n",
       "      <td>-0.127672</td>\n",
       "    </tr>\n",
       "    <tr>\n",
       "      <th>1</th>\n",
       "      <td>-0.008265</td>\n",
       "      <td>0.011234</td>\n",
       "      <td>-0.018917</td>\n",
       "      <td>-0.014812</td>\n",
       "      <td>-0.174804</td>\n",
       "      <td>-0.166547</td>\n",
       "      <td>-0.142530</td>\n",
       "      <td>-0.166667</td>\n",
       "      <td>1.000000</td>\n",
       "      <td>-0.166667</td>\n",
       "      <td>-0.166667</td>\n",
       "      <td>-0.166667</td>\n",
       "      <td>-0.166667</td>\n",
       "      <td>-0.166667</td>\n",
       "      <td>0.013700</td>\n",
       "      <td>-0.093299</td>\n",
       "      <td>0.078567</td>\n",
       "    </tr>\n",
       "    <tr>\n",
       "      <th>2</th>\n",
       "      <td>-0.006270</td>\n",
       "      <td>-0.018724</td>\n",
       "      <td>0.016395</td>\n",
       "      <td>0.019749</td>\n",
       "      <td>-0.105767</td>\n",
       "      <td>-0.110966</td>\n",
       "      <td>-0.246251</td>\n",
       "      <td>-0.166667</td>\n",
       "      <td>-0.166667</td>\n",
       "      <td>1.000000</td>\n",
       "      <td>-0.166667</td>\n",
       "      <td>-0.166667</td>\n",
       "      <td>-0.166667</td>\n",
       "      <td>-0.166667</td>\n",
       "      <td>0.013700</td>\n",
       "      <td>0.009821</td>\n",
       "      <td>-0.024552</td>\n",
       "    </tr>\n",
       "    <tr>\n",
       "      <th>3</th>\n",
       "      <td>0.045602</td>\n",
       "      <td>-0.018724</td>\n",
       "      <td>0.016395</td>\n",
       "      <td>0.019749</td>\n",
       "      <td>-0.048130</td>\n",
       "      <td>-0.104548</td>\n",
       "      <td>-0.140727</td>\n",
       "      <td>-0.166667</td>\n",
       "      <td>-0.166667</td>\n",
       "      <td>-0.166667</td>\n",
       "      <td>1.000000</td>\n",
       "      <td>-0.166667</td>\n",
       "      <td>-0.166667</td>\n",
       "      <td>-0.166667</td>\n",
       "      <td>-0.082199</td>\n",
       "      <td>0.044194</td>\n",
       "      <td>0.044194</td>\n",
       "    </tr>\n",
       "    <tr>\n",
       "      <th>4</th>\n",
       "      <td>-0.008265</td>\n",
       "      <td>0.018724</td>\n",
       "      <td>-0.001261</td>\n",
       "      <td>-0.014812</td>\n",
       "      <td>0.232608</td>\n",
       "      <td>0.356029</td>\n",
       "      <td>0.483937</td>\n",
       "      <td>-0.166667</td>\n",
       "      <td>-0.166667</td>\n",
       "      <td>-0.166667</td>\n",
       "      <td>-0.166667</td>\n",
       "      <td>1.000000</td>\n",
       "      <td>-0.166667</td>\n",
       "      <td>-0.166667</td>\n",
       "      <td>0.077633</td>\n",
       "      <td>-0.024552</td>\n",
       "      <td>-0.058926</td>\n",
       "    </tr>\n",
       "    <tr>\n",
       "      <th>5</th>\n",
       "      <td>-0.008265</td>\n",
       "      <td>0.014979</td>\n",
       "      <td>-0.010089</td>\n",
       "      <td>-0.014812</td>\n",
       "      <td>-0.121683</td>\n",
       "      <td>-0.209757</td>\n",
       "      <td>-0.190679</td>\n",
       "      <td>-0.166667</td>\n",
       "      <td>-0.166667</td>\n",
       "      <td>-0.166667</td>\n",
       "      <td>-0.166667</td>\n",
       "      <td>-0.166667</td>\n",
       "      <td>1.000000</td>\n",
       "      <td>-0.166667</td>\n",
       "      <td>-0.018267</td>\n",
       "      <td>-0.058926</td>\n",
       "      <td>0.078567</td>\n",
       "    </tr>\n",
       "    <tr>\n",
       "      <th>6</th>\n",
       "      <td>-0.008265</td>\n",
       "      <td>0.014979</td>\n",
       "      <td>-0.010089</td>\n",
       "      <td>-0.014812</td>\n",
       "      <td>-0.014924</td>\n",
       "      <td>-0.051884</td>\n",
       "      <td>-0.036779</td>\n",
       "      <td>-0.166667</td>\n",
       "      <td>-0.166667</td>\n",
       "      <td>-0.166667</td>\n",
       "      <td>-0.166667</td>\n",
       "      <td>-0.166667</td>\n",
       "      <td>-0.166667</td>\n",
       "      <td>1.000000</td>\n",
       "      <td>-0.018267</td>\n",
       "      <td>0.009821</td>\n",
       "      <td>0.009821</td>\n",
       "    </tr>\n",
       "    <tr>\n",
       "      <th>7</th>\n",
       "      <td>-0.001453</td>\n",
       "      <td>-0.015801</td>\n",
       "      <td>0.004216</td>\n",
       "      <td>0.013528</td>\n",
       "      <td>-0.647836</td>\n",
       "      <td>-0.267057</td>\n",
       "      <td>-0.066771</td>\n",
       "      <td>0.013700</td>\n",
       "      <td>0.013700</td>\n",
       "      <td>0.013700</td>\n",
       "      <td>-0.082199</td>\n",
       "      <td>0.077633</td>\n",
       "      <td>-0.018267</td>\n",
       "      <td>-0.018267</td>\n",
       "      <td>1.000000</td>\n",
       "      <td>-0.537645</td>\n",
       "      <td>-0.537645</td>\n",
       "    </tr>\n",
       "    <tr>\n",
       "      <th>8</th>\n",
       "      <td>-0.021379</td>\n",
       "      <td>0.001324</td>\n",
       "      <td>-0.019173</td>\n",
       "      <td>-0.007273</td>\n",
       "      <td>0.638687</td>\n",
       "      <td>0.422957</td>\n",
       "      <td>0.162134</td>\n",
       "      <td>0.112941</td>\n",
       "      <td>-0.093299</td>\n",
       "      <td>0.009821</td>\n",
       "      <td>0.044194</td>\n",
       "      <td>-0.024552</td>\n",
       "      <td>-0.058926</td>\n",
       "      <td>0.009821</td>\n",
       "      <td>-0.537645</td>\n",
       "      <td>1.000000</td>\n",
       "      <td>-0.421875</td>\n",
       "    </tr>\n",
       "    <tr>\n",
       "      <th>9</th>\n",
       "      <td>0.022941</td>\n",
       "      <td>0.015667</td>\n",
       "      <td>0.014640</td>\n",
       "      <td>-0.007273</td>\n",
       "      <td>0.061674</td>\n",
       "      <td>-0.136457</td>\n",
       "      <td>-0.090681</td>\n",
       "      <td>-0.127672</td>\n",
       "      <td>0.078567</td>\n",
       "      <td>-0.024552</td>\n",
       "      <td>0.044194</td>\n",
       "      <td>-0.058926</td>\n",
       "      <td>0.078567</td>\n",
       "      <td>0.009821</td>\n",
       "      <td>-0.537645</td>\n",
       "      <td>-0.421875</td>\n",
       "      <td>1.000000</td>\n",
       "    </tr>\n",
       "  </tbody>\n",
       "</table>\n",
       "</div>"
      ],
      "text/plain": [
       "                  Week_ID  Month Number  Month_ID      Year   Revenue  \\\n",
       "Week_ID          1.000000     -0.631898  0.986144  0.807718 -0.045494   \n",
       "Month Number    -0.631898      1.000000 -0.601891 -0.965465  0.056311   \n",
       "Month_ID         0.986144     -0.601891  1.000000  0.789160 -0.041908   \n",
       "Year             0.807718     -0.965465  0.789160  1.000000 -0.057075   \n",
       "Revenue         -0.045494      0.056311 -0.041908 -0.057075  1.000000   \n",
       "Marketing Spend -0.107220      0.116264 -0.096467 -0.120995  0.740480   \n",
       "Visitors        -0.026669      0.033913 -0.013159 -0.030383  0.578666   \n",
       "0               -0.006270     -0.022469  0.007567  0.019749  0.223141   \n",
       "1               -0.008265      0.011234 -0.018917 -0.014812 -0.174804   \n",
       "2               -0.006270     -0.018724  0.016395  0.019749 -0.105767   \n",
       "3                0.045602     -0.018724  0.016395  0.019749 -0.048130   \n",
       "4               -0.008265      0.018724 -0.001261 -0.014812  0.232608   \n",
       "5               -0.008265      0.014979 -0.010089 -0.014812 -0.121683   \n",
       "6               -0.008265      0.014979 -0.010089 -0.014812 -0.014924   \n",
       "7               -0.001453     -0.015801  0.004216  0.013528 -0.647836   \n",
       "8               -0.021379      0.001324 -0.019173 -0.007273  0.638687   \n",
       "9                0.022941      0.015667  0.014640 -0.007273  0.061674   \n",
       "\n",
       "                 Marketing Spend  Visitors         0         1         2  \\\n",
       "Week_ID                -0.107220 -0.026669 -0.006270 -0.008265 -0.006270   \n",
       "Month Number            0.116264  0.033913 -0.022469  0.011234 -0.018724   \n",
       "Month_ID               -0.096467 -0.013159  0.007567 -0.018917  0.016395   \n",
       "Year                   -0.120995 -0.030383  0.019749 -0.014812  0.019749   \n",
       "Revenue                 0.740480  0.578666  0.223141 -0.174804 -0.105767   \n",
       "Marketing Spend         1.000000  0.845126  0.294848 -0.166547 -0.110966   \n",
       "Visitors                0.845126  1.000000  0.271550 -0.142530 -0.246251   \n",
       "0                       0.294848  0.271550  1.000000 -0.166667 -0.166667   \n",
       "1                      -0.166547 -0.142530 -0.166667  1.000000 -0.166667   \n",
       "2                      -0.110966 -0.246251 -0.166667 -0.166667  1.000000   \n",
       "3                      -0.104548 -0.140727 -0.166667 -0.166667 -0.166667   \n",
       "4                       0.356029  0.483937 -0.166667 -0.166667 -0.166667   \n",
       "5                      -0.209757 -0.190679 -0.166667 -0.166667 -0.166667   \n",
       "6                      -0.051884 -0.036779 -0.166667 -0.166667 -0.166667   \n",
       "7                      -0.267057 -0.066771  0.013700  0.013700  0.013700   \n",
       "8                       0.422957  0.162134  0.112941 -0.093299  0.009821   \n",
       "9                      -0.136457 -0.090681 -0.127672  0.078567 -0.024552   \n",
       "\n",
       "                        3         4         5         6         7         8  \\\n",
       "Week_ID          0.045602 -0.008265 -0.008265 -0.008265 -0.001453 -0.021379   \n",
       "Month Number    -0.018724  0.018724  0.014979  0.014979 -0.015801  0.001324   \n",
       "Month_ID         0.016395 -0.001261 -0.010089 -0.010089  0.004216 -0.019173   \n",
       "Year             0.019749 -0.014812 -0.014812 -0.014812  0.013528 -0.007273   \n",
       "Revenue         -0.048130  0.232608 -0.121683 -0.014924 -0.647836  0.638687   \n",
       "Marketing Spend -0.104548  0.356029 -0.209757 -0.051884 -0.267057  0.422957   \n",
       "Visitors        -0.140727  0.483937 -0.190679 -0.036779 -0.066771  0.162134   \n",
       "0               -0.166667 -0.166667 -0.166667 -0.166667  0.013700  0.112941   \n",
       "1               -0.166667 -0.166667 -0.166667 -0.166667  0.013700 -0.093299   \n",
       "2               -0.166667 -0.166667 -0.166667 -0.166667  0.013700  0.009821   \n",
       "3                1.000000 -0.166667 -0.166667 -0.166667 -0.082199  0.044194   \n",
       "4               -0.166667  1.000000 -0.166667 -0.166667  0.077633 -0.024552   \n",
       "5               -0.166667 -0.166667  1.000000 -0.166667 -0.018267 -0.058926   \n",
       "6               -0.166667 -0.166667 -0.166667  1.000000 -0.018267  0.009821   \n",
       "7               -0.082199  0.077633 -0.018267 -0.018267  1.000000 -0.537645   \n",
       "8                0.044194 -0.024552 -0.058926  0.009821 -0.537645  1.000000   \n",
       "9                0.044194 -0.058926  0.078567  0.009821 -0.537645 -0.421875   \n",
       "\n",
       "                        9  \n",
       "Week_ID          0.022941  \n",
       "Month Number     0.015667  \n",
       "Month_ID         0.014640  \n",
       "Year            -0.007273  \n",
       "Revenue          0.061674  \n",
       "Marketing Spend -0.136457  \n",
       "Visitors        -0.090681  \n",
       "0               -0.127672  \n",
       "1                0.078567  \n",
       "2               -0.024552  \n",
       "3                0.044194  \n",
       "4               -0.058926  \n",
       "5                0.078567  \n",
       "6                0.009821  \n",
       "7               -0.537645  \n",
       "8               -0.421875  \n",
       "9                1.000000  "
      ]
     },
     "execution_count": 83,
     "metadata": {},
     "output_type": "execute_result"
    }
   ],
   "source": [
    "R_corr=E_merged.corr()\n",
    "R_corr"
   ]
  },
  {
   "cell_type": "code",
   "execution_count": 84,
   "id": "07468ae5",
   "metadata": {},
   "outputs": [
    {
     "data": {
      "text/plain": [
       "<AxesSubplot:>"
      ]
     },
     "execution_count": 84,
     "metadata": {},
     "output_type": "execute_result"
    },
    {
     "data": {
      "image/png": "[encoded data removed]",
      "text/plain": [
       "<Figure size 1080x1080 with 2 Axes>"
      ]
     },
     "metadata": {
      "needs_background": "light"
     },
     "output_type": "display_data"
    }
   ],
   "source": [
    "plt.figure(figsize = (15, 15))\n",
    "sns.heatmap(R_corr, cmap = 'YlGn', annot = True)"
   ]
  },
  {
   "cell_type": "markdown",
   "id": "f8fbbaf3",
   "metadata": {},
   "source": [
    "from the above,week id has a strong relationship with month id,\n",
    "and month number has a strong relationship with year"
   ]
  },
  {
   "cell_type": "markdown",
   "id": "781a23b8",
   "metadata": {},
   "source": [
    "# Dealing with our target variable"
   ]
  },
  {
   "cell_type": "code",
   "execution_count": 85,
   "id": "088c18bd",
   "metadata": {},
   "outputs": [],
   "source": [
    "E_merged['Revenue'].fillna(E_merged['Revenue'].mean(), inplace=True) #filling up nan using mean value of our target variable"
   ]
  },
  {
   "cell_type": "code",
   "execution_count": 86,
   "id": "082af408",
   "metadata": {},
   "outputs": [],
   "source": [
    "E_merged.drop(['Date', 'Week_ID', 'Year'], axis=1, inplace=True) #dropping irrelevant column while prepping our data  for the machine model"
   ]
  },
  {
   "cell_type": "code",
   "execution_count": 87,
   "id": "b01d509c",
   "metadata": {},
   "outputs": [
    {
     "data": {
      "text/plain": [
       "(182, 15)"
      ]
     },
     "execution_count": 87,
     "metadata": {},
     "output_type": "execute_result"
    }
   ],
   "source": [
    "E_merged.shape"
   ]
  },
  {
   "cell_type": "code",
   "execution_count": 88,
   "id": "c5f5e073",
   "metadata": {},
   "outputs": [
    {
     "data": {
      "text/html": [
       "<div>\n",
       "<style scoped>\n",
       "    .dataframe tbody tr th:only-of-type {\n",
       "        vertical-align: middle;\n",
       "    }\n",
       "\n",
       "    .dataframe tbody tr th {\n",
       "        vertical-align: top;\n",
       "    }\n",
       "\n",
       "    .dataframe thead th {\n",
       "        text-align: right;\n",
       "    }\n",
       "</style>\n",
       "<table border=\"1\" class=\"dataframe\">\n",
       "  <thead>\n",
       "    <tr style=\"text-align: right;\">\n",
       "      <th></th>\n",
       "      <th>Month Number</th>\n",
       "      <th>Month_ID</th>\n",
       "      <th>Revenue</th>\n",
       "      <th>Marketing Spend</th>\n",
       "      <th>Visitors</th>\n",
       "      <th>0</th>\n",
       "      <th>1</th>\n",
       "      <th>2</th>\n",
       "      <th>3</th>\n",
       "      <th>4</th>\n",
       "      <th>5</th>\n",
       "      <th>6</th>\n",
       "      <th>7</th>\n",
       "      <th>8</th>\n",
       "      <th>9</th>\n",
       "    </tr>\n",
       "  </thead>\n",
       "  <tbody>\n",
       "    <tr>\n",
       "      <th>0</th>\n",
       "      <td>11.0</td>\n",
       "      <td>11.0</td>\n",
       "      <td>465.0</td>\n",
       "      <td>651.375</td>\n",
       "      <td>707.0</td>\n",
       "      <td>0.0</td>\n",
       "      <td>1.0</td>\n",
       "      <td>0.0</td>\n",
       "      <td>0.0</td>\n",
       "      <td>0.0</td>\n",
       "      <td>0.0</td>\n",
       "      <td>0.0</td>\n",
       "      <td>1.0</td>\n",
       "      <td>0.0</td>\n",
       "      <td>0.0</td>\n",
       "    </tr>\n",
       "    <tr>\n",
       "      <th>1</th>\n",
       "      <td>11.0</td>\n",
       "      <td>11.0</td>\n",
       "      <td>10386.0</td>\n",
       "      <td>1298.250</td>\n",
       "      <td>1455.0</td>\n",
       "      <td>0.0</td>\n",
       "      <td>0.0</td>\n",
       "      <td>0.0</td>\n",
       "      <td>0.0</td>\n",
       "      <td>0.0</td>\n",
       "      <td>1.0</td>\n",
       "      <td>0.0</td>\n",
       "      <td>0.0</td>\n",
       "      <td>0.0</td>\n",
       "      <td>1.0</td>\n",
       "    </tr>\n",
       "    <tr>\n",
       "      <th>2</th>\n",
       "      <td>11.0</td>\n",
       "      <td>11.0</td>\n",
       "      <td>12475.0</td>\n",
       "      <td>1559.375</td>\n",
       "      <td>1520.0</td>\n",
       "      <td>0.0</td>\n",
       "      <td>0.0</td>\n",
       "      <td>0.0</td>\n",
       "      <td>0.0</td>\n",
       "      <td>0.0</td>\n",
       "      <td>0.0</td>\n",
       "      <td>1.0</td>\n",
       "      <td>0.0</td>\n",
       "      <td>1.0</td>\n",
       "      <td>0.0</td>\n",
       "    </tr>\n",
       "    <tr>\n",
       "      <th>3</th>\n",
       "      <td>11.0</td>\n",
       "      <td>11.0</td>\n",
       "      <td>11712.0</td>\n",
       "      <td>1801.750</td>\n",
       "      <td>1726.0</td>\n",
       "      <td>0.0</td>\n",
       "      <td>0.0</td>\n",
       "      <td>0.0</td>\n",
       "      <td>0.0</td>\n",
       "      <td>1.0</td>\n",
       "      <td>0.0</td>\n",
       "      <td>0.0</td>\n",
       "      <td>1.0</td>\n",
       "      <td>0.0</td>\n",
       "      <td>0.0</td>\n",
       "    </tr>\n",
       "    <tr>\n",
       "      <th>4</th>\n",
       "      <td>11.0</td>\n",
       "      <td>11.0</td>\n",
       "      <td>10000.0</td>\n",
       "      <td>2614.500</td>\n",
       "      <td>2134.0</td>\n",
       "      <td>1.0</td>\n",
       "      <td>0.0</td>\n",
       "      <td>0.0</td>\n",
       "      <td>0.0</td>\n",
       "      <td>0.0</td>\n",
       "      <td>0.0</td>\n",
       "      <td>0.0</td>\n",
       "      <td>1.0</td>\n",
       "      <td>0.0</td>\n",
       "      <td>0.0</td>\n",
       "    </tr>\n",
       "  </tbody>\n",
       "</table>\n",
       "</div>"
      ],
      "text/plain": [
       "   Month Number  Month_ID  Revenue  Marketing Spend  Visitors    0    1    2  \\\n",
       "0          11.0      11.0    465.0          651.375     707.0  0.0  1.0  0.0   \n",
       "1          11.0      11.0  10386.0         1298.250    1455.0  0.0  0.0  0.0   \n",
       "2          11.0      11.0  12475.0         1559.375    1520.0  0.0  0.0  0.0   \n",
       "3          11.0      11.0  11712.0         1801.750    1726.0  0.0  0.0  0.0   \n",
       "4          11.0      11.0  10000.0         2614.500    2134.0  1.0  0.0  0.0   \n",
       "\n",
       "     3    4    5    6    7    8    9  \n",
       "0  0.0  0.0  0.0  0.0  1.0  0.0  0.0  \n",
       "1  0.0  0.0  1.0  0.0  0.0  0.0  1.0  \n",
       "2  0.0  0.0  0.0  1.0  0.0  1.0  0.0  \n",
       "3  0.0  1.0  0.0  0.0  1.0  0.0  0.0  \n",
       "4  0.0  0.0  0.0  0.0  1.0  0.0  0.0  "
      ]
     },
     "execution_count": 88,
     "metadata": {},
     "output_type": "execute_result"
    }
   ],
   "source": [
    "E_merged.head()"
   ]
  },
  {
   "cell_type": "code",
   "execution_count": 89,
   "id": "6810eed8",
   "metadata": {},
   "outputs": [],
   "source": [
    "x=E_merged.drop('Revenue', axis=1) #we drop the target variable column since that is what we will predict\n",
    "y=E_merged['Revenue']              #this is the dataset we are comparing it with,i.e singling out the target variable only"
   ]
  },
  {
   "cell_type": "code",
   "execution_count": 90,
   "id": "5bf07e21",
   "metadata": {},
   "outputs": [
    {
     "data": {
      "text/plain": [
       "(182, 14)"
      ]
     },
     "execution_count": 90,
     "metadata": {},
     "output_type": "execute_result"
    }
   ],
   "source": [
    "x.shape  #gives an output without the target column"
   ]
  },
  {
   "cell_type": "code",
   "execution_count": 91,
   "id": "888e4593",
   "metadata": {},
   "outputs": [
    {
     "data": {
      "text/plain": [
       "(182,)"
      ]
     },
     "execution_count": 91,
     "metadata": {},
     "output_type": "execute_result"
    }
   ],
   "source": [
    "y.shape  #outputs only the rows there in!!"
   ]
  },
  {
   "cell_type": "markdown",
   "id": "4ed1043a",
   "metadata": {},
   "source": [
    "# now we divide the dataset into test and train.\n"
   ]
  },
  {
   "cell_type": "code",
   "execution_count": 92,
   "id": "f483b923",
   "metadata": {},
   "outputs": [],
   "source": [
    "from sklearn.model_selection import train_test_split #import the library"
   ]
  },
  {
   "cell_type": "code",
   "execution_count": 93,
   "id": "0719fb49",
   "metadata": {},
   "outputs": [],
   "source": [
    "x_train, x_test, y_train, y_test = train_test_split(x,y, test_size = 0.25, random_state = 123) #slitting the dataset"
   ]
  },
  {
   "cell_type": "code",
   "execution_count": 94,
   "id": "68f6899c",
   "metadata": {},
   "outputs": [
    {
     "data": {
      "text/plain": [
       "(136,)"
      ]
     },
     "metadata": {},
     "output_type": "display_data"
    },
    {
     "data": {
      "text/plain": [
       "(136, 14)"
      ]
     },
     "metadata": {},
     "output_type": "display_data"
    },
    {
     "data": {
      "text/plain": [
       "(46, 14)"
      ]
     },
     "metadata": {},
     "output_type": "display_data"
    },
    {
     "data": {
      "text/plain": [
       "(46,)"
      ]
     },
     "metadata": {},
     "output_type": "display_data"
    }
   ],
   "source": [
    "display(y_train.shape, x_train.shape, x_test.shape, y_test.shape) #to get dimensions of our split test and train"
   ]
  },
  {
   "cell_type": "code",
   "execution_count": 95,
   "id": "41b46836",
   "metadata": {},
   "outputs": [
    {
     "data": {
      "text/plain": [
       "147     8396.0\n",
       "8      12016.0\n",
       "127     6047.0\n",
       "137    22587.0\n",
       "155    11484.0\n",
       "Name: Revenue, dtype: float64"
      ]
     },
     "metadata": {},
     "output_type": "display_data"
    },
    {
     "data": {
      "text/html": [
       "<div>\n",
       "<style scoped>\n",
       "    .dataframe tbody tr th:only-of-type {\n",
       "        vertical-align: middle;\n",
       "    }\n",
       "\n",
       "    .dataframe tbody tr th {\n",
       "        vertical-align: top;\n",
       "    }\n",
       "\n",
       "    .dataframe thead th {\n",
       "        text-align: right;\n",
       "    }\n",
       "</style>\n",
       "<table border=\"1\" class=\"dataframe\">\n",
       "  <thead>\n",
       "    <tr style=\"text-align: right;\">\n",
       "      <th></th>\n",
       "      <th>Month Number</th>\n",
       "      <th>Month_ID</th>\n",
       "      <th>Marketing Spend</th>\n",
       "      <th>Visitors</th>\n",
       "      <th>0</th>\n",
       "      <th>1</th>\n",
       "      <th>2</th>\n",
       "      <th>3</th>\n",
       "      <th>4</th>\n",
       "      <th>5</th>\n",
       "      <th>6</th>\n",
       "      <th>7</th>\n",
       "      <th>8</th>\n",
       "      <th>9</th>\n",
       "    </tr>\n",
       "  </thead>\n",
       "  <tbody>\n",
       "    <tr>\n",
       "      <th>147</th>\n",
       "      <td>4.0</td>\n",
       "      <td>16.0</td>\n",
       "      <td>763.272727</td>\n",
       "      <td>1180.0</td>\n",
       "      <td>0.0</td>\n",
       "      <td>1.0</td>\n",
       "      <td>0.0</td>\n",
       "      <td>0.0</td>\n",
       "      <td>0.0</td>\n",
       "      <td>0.0</td>\n",
       "      <td>0.0</td>\n",
       "      <td>0.0</td>\n",
       "      <td>0.0</td>\n",
       "      <td>1.0</td>\n",
       "    </tr>\n",
       "    <tr>\n",
       "      <th>8</th>\n",
       "      <td>11.0</td>\n",
       "      <td>11.0</td>\n",
       "      <td>1092.363636</td>\n",
       "      <td>1448.0</td>\n",
       "      <td>0.0</td>\n",
       "      <td>0.0</td>\n",
       "      <td>0.0</td>\n",
       "      <td>0.0</td>\n",
       "      <td>0.0</td>\n",
       "      <td>1.0</td>\n",
       "      <td>0.0</td>\n",
       "      <td>0.0</td>\n",
       "      <td>1.0</td>\n",
       "      <td>0.0</td>\n",
       "    </tr>\n",
       "    <tr>\n",
       "      <th>127</th>\n",
       "      <td>3.0</td>\n",
       "      <td>15.0</td>\n",
       "      <td>939.750000</td>\n",
       "      <td>1455.0</td>\n",
       "      <td>0.0</td>\n",
       "      <td>0.0</td>\n",
       "      <td>0.0</td>\n",
       "      <td>0.0</td>\n",
       "      <td>0.0</td>\n",
       "      <td>1.0</td>\n",
       "      <td>0.0</td>\n",
       "      <td>1.0</td>\n",
       "      <td>0.0</td>\n",
       "      <td>0.0</td>\n",
       "    </tr>\n",
       "    <tr>\n",
       "      <th>137</th>\n",
       "      <td>3.0</td>\n",
       "      <td>15.0</td>\n",
       "      <td>2258.700000</td>\n",
       "      <td>2434.0</td>\n",
       "      <td>1.0</td>\n",
       "      <td>0.0</td>\n",
       "      <td>0.0</td>\n",
       "      <td>0.0</td>\n",
       "      <td>0.0</td>\n",
       "      <td>0.0</td>\n",
       "      <td>0.0</td>\n",
       "      <td>0.0</td>\n",
       "      <td>1.0</td>\n",
       "      <td>0.0</td>\n",
       "    </tr>\n",
       "    <tr>\n",
       "      <th>155</th>\n",
       "      <td>4.0</td>\n",
       "      <td>16.0</td>\n",
       "      <td>1148.400000</td>\n",
       "      <td>1511.0</td>\n",
       "      <td>0.0</td>\n",
       "      <td>0.0</td>\n",
       "      <td>0.0</td>\n",
       "      <td>0.0</td>\n",
       "      <td>0.0</td>\n",
       "      <td>1.0</td>\n",
       "      <td>0.0</td>\n",
       "      <td>0.0</td>\n",
       "      <td>1.0</td>\n",
       "      <td>0.0</td>\n",
       "    </tr>\n",
       "  </tbody>\n",
       "</table>\n",
       "</div>"
      ],
      "text/plain": [
       "     Month Number  Month_ID  Marketing Spend  Visitors    0    1    2    3  \\\n",
       "147           4.0      16.0       763.272727    1180.0  0.0  1.0  0.0  0.0   \n",
       "8            11.0      11.0      1092.363636    1448.0  0.0  0.0  0.0  0.0   \n",
       "127           3.0      15.0       939.750000    1455.0  0.0  0.0  0.0  0.0   \n",
       "137           3.0      15.0      2258.700000    2434.0  1.0  0.0  0.0  0.0   \n",
       "155           4.0      16.0      1148.400000    1511.0  0.0  0.0  0.0  0.0   \n",
       "\n",
       "       4    5    6    7    8    9  \n",
       "147  0.0  0.0  0.0  0.0  0.0  1.0  \n",
       "8    0.0  1.0  0.0  0.0  1.0  0.0  \n",
       "127  0.0  1.0  0.0  1.0  0.0  0.0  \n",
       "137  0.0  0.0  0.0  0.0  1.0  0.0  \n",
       "155  0.0  1.0  0.0  0.0  1.0  0.0  "
      ]
     },
     "metadata": {},
     "output_type": "display_data"
    },
    {
     "data": {
      "text/html": [
       "<div>\n",
       "<style scoped>\n",
       "    .dataframe tbody tr th:only-of-type {\n",
       "        vertical-align: middle;\n",
       "    }\n",
       "\n",
       "    .dataframe tbody tr th {\n",
       "        vertical-align: top;\n",
       "    }\n",
       "\n",
       "    .dataframe thead th {\n",
       "        text-align: right;\n",
       "    }\n",
       "</style>\n",
       "<table border=\"1\" class=\"dataframe\">\n",
       "  <thead>\n",
       "    <tr style=\"text-align: right;\">\n",
       "      <th></th>\n",
       "      <th>Month Number</th>\n",
       "      <th>Month_ID</th>\n",
       "      <th>Marketing Spend</th>\n",
       "      <th>Visitors</th>\n",
       "      <th>0</th>\n",
       "      <th>1</th>\n",
       "      <th>2</th>\n",
       "      <th>3</th>\n",
       "      <th>4</th>\n",
       "      <th>5</th>\n",
       "      <th>6</th>\n",
       "      <th>7</th>\n",
       "      <th>8</th>\n",
       "      <th>9</th>\n",
       "    </tr>\n",
       "  </thead>\n",
       "  <tbody>\n",
       "    <tr>\n",
       "      <th>168</th>\n",
       "      <td>4.0</td>\n",
       "      <td>16.0</td>\n",
       "      <td>843.800000</td>\n",
       "      <td>1105.0</td>\n",
       "      <td>0.0</td>\n",
       "      <td>1.0</td>\n",
       "      <td>0.0</td>\n",
       "      <td>0.0</td>\n",
       "      <td>0.0</td>\n",
       "      <td>0.0</td>\n",
       "      <td>0.0</td>\n",
       "      <td>1.0</td>\n",
       "      <td>0.0</td>\n",
       "      <td>0.0</td>\n",
       "    </tr>\n",
       "    <tr>\n",
       "      <th>104</th>\n",
       "      <td>2.0</td>\n",
       "      <td>14.0</td>\n",
       "      <td>829.111111</td>\n",
       "      <td>1464.0</td>\n",
       "      <td>0.0</td>\n",
       "      <td>0.0</td>\n",
       "      <td>0.0</td>\n",
       "      <td>1.0</td>\n",
       "      <td>0.0</td>\n",
       "      <td>0.0</td>\n",
       "      <td>0.0</td>\n",
       "      <td>1.0</td>\n",
       "      <td>0.0</td>\n",
       "      <td>0.0</td>\n",
       "    </tr>\n",
       "    <tr>\n",
       "      <th>41</th>\n",
       "      <td>12.0</td>\n",
       "      <td>12.0</td>\n",
       "      <td>1304.111111</td>\n",
       "      <td>1828.0</td>\n",
       "      <td>0.0</td>\n",
       "      <td>0.0</td>\n",
       "      <td>0.0</td>\n",
       "      <td>1.0</td>\n",
       "      <td>0.0</td>\n",
       "      <td>0.0</td>\n",
       "      <td>0.0</td>\n",
       "      <td>1.0</td>\n",
       "      <td>0.0</td>\n",
       "      <td>0.0</td>\n",
       "    </tr>\n",
       "    <tr>\n",
       "      <th>4</th>\n",
       "      <td>11.0</td>\n",
       "      <td>11.0</td>\n",
       "      <td>2614.500000</td>\n",
       "      <td>2134.0</td>\n",
       "      <td>1.0</td>\n",
       "      <td>0.0</td>\n",
       "      <td>0.0</td>\n",
       "      <td>0.0</td>\n",
       "      <td>0.0</td>\n",
       "      <td>0.0</td>\n",
       "      <td>0.0</td>\n",
       "      <td>1.0</td>\n",
       "      <td>0.0</td>\n",
       "      <td>0.0</td>\n",
       "    </tr>\n",
       "    <tr>\n",
       "      <th>173</th>\n",
       "      <td>5.0</td>\n",
       "      <td>17.0</td>\n",
       "      <td>805.636364</td>\n",
       "      <td>NaN</td>\n",
       "      <td>0.0</td>\n",
       "      <td>0.0</td>\n",
       "      <td>1.0</td>\n",
       "      <td>0.0</td>\n",
       "      <td>0.0</td>\n",
       "      <td>0.0</td>\n",
       "      <td>0.0</td>\n",
       "      <td>1.0</td>\n",
       "      <td>0.0</td>\n",
       "      <td>0.0</td>\n",
       "    </tr>\n",
       "  </tbody>\n",
       "</table>\n",
       "</div>"
      ],
      "text/plain": [
       "     Month Number  Month_ID  Marketing Spend  Visitors    0    1    2    3  \\\n",
       "168           4.0      16.0       843.800000    1105.0  0.0  1.0  0.0  0.0   \n",
       "104           2.0      14.0       829.111111    1464.0  0.0  0.0  0.0  1.0   \n",
       "41           12.0      12.0      1304.111111    1828.0  0.0  0.0  0.0  1.0   \n",
       "4            11.0      11.0      2614.500000    2134.0  1.0  0.0  0.0  0.0   \n",
       "173           5.0      17.0       805.636364       NaN  0.0  0.0  1.0  0.0   \n",
       "\n",
       "       4    5    6    7    8    9  \n",
       "168  0.0  0.0  0.0  1.0  0.0  0.0  \n",
       "104  0.0  0.0  0.0  1.0  0.0  0.0  \n",
       "41   0.0  0.0  0.0  1.0  0.0  0.0  \n",
       "4    0.0  0.0  0.0  1.0  0.0  0.0  \n",
       "173  0.0  0.0  0.0  1.0  0.0  0.0  "
      ]
     },
     "metadata": {},
     "output_type": "display_data"
    },
    {
     "data": {
      "text/plain": [
       "168     3884.0\n",
       "104     5171.0\n",
       "41      7655.0\n",
       "4      10000.0\n",
       "173     7445.0\n",
       "Name: Revenue, dtype: float64"
      ]
     },
     "metadata": {},
     "output_type": "display_data"
    }
   ],
   "source": [
    "display(y_train.head() , x_train.head() , x_test.head() , y_test.head()) #to view a sumary first 5 columns"
   ]
  },
  {
   "cell_type": "code",
   "execution_count": 96,
   "id": "0e9552cc",
   "metadata": {},
   "outputs": [
    {
     "data": {
      "text/html": [
       "<div>\n",
       "<style scoped>\n",
       "    .dataframe tbody tr th:only-of-type {\n",
       "        vertical-align: middle;\n",
       "    }\n",
       "\n",
       "    .dataframe tbody tr th {\n",
       "        vertical-align: top;\n",
       "    }\n",
       "\n",
       "    .dataframe thead th {\n",
       "        text-align: right;\n",
       "    }\n",
       "</style>\n",
       "<table border=\"1\" class=\"dataframe\">\n",
       "  <thead>\n",
       "    <tr style=\"text-align: right;\">\n",
       "      <th></th>\n",
       "      <th>Month Number</th>\n",
       "      <th>Month_ID</th>\n",
       "      <th>Marketing Spend</th>\n",
       "      <th>Visitors</th>\n",
       "      <th>0</th>\n",
       "      <th>1</th>\n",
       "      <th>2</th>\n",
       "      <th>3</th>\n",
       "      <th>4</th>\n",
       "      <th>5</th>\n",
       "      <th>6</th>\n",
       "      <th>7</th>\n",
       "      <th>8</th>\n",
       "      <th>9</th>\n",
       "    </tr>\n",
       "  </thead>\n",
       "  <tbody>\n",
       "    <tr>\n",
       "      <th>147</th>\n",
       "      <td>4.0</td>\n",
       "      <td>16.0</td>\n",
       "      <td>763.272727</td>\n",
       "      <td>1180.0</td>\n",
       "      <td>0.0</td>\n",
       "      <td>1.0</td>\n",
       "      <td>0.0</td>\n",
       "      <td>0.0</td>\n",
       "      <td>0.0</td>\n",
       "      <td>0.0</td>\n",
       "      <td>0.0</td>\n",
       "      <td>0.0</td>\n",
       "      <td>0.0</td>\n",
       "      <td>1.0</td>\n",
       "    </tr>\n",
       "    <tr>\n",
       "      <th>8</th>\n",
       "      <td>11.0</td>\n",
       "      <td>11.0</td>\n",
       "      <td>1092.363636</td>\n",
       "      <td>1448.0</td>\n",
       "      <td>0.0</td>\n",
       "      <td>0.0</td>\n",
       "      <td>0.0</td>\n",
       "      <td>0.0</td>\n",
       "      <td>0.0</td>\n",
       "      <td>1.0</td>\n",
       "      <td>0.0</td>\n",
       "      <td>0.0</td>\n",
       "      <td>1.0</td>\n",
       "      <td>0.0</td>\n",
       "    </tr>\n",
       "    <tr>\n",
       "      <th>127</th>\n",
       "      <td>3.0</td>\n",
       "      <td>15.0</td>\n",
       "      <td>939.750000</td>\n",
       "      <td>1455.0</td>\n",
       "      <td>0.0</td>\n",
       "      <td>0.0</td>\n",
       "      <td>0.0</td>\n",
       "      <td>0.0</td>\n",
       "      <td>0.0</td>\n",
       "      <td>1.0</td>\n",
       "      <td>0.0</td>\n",
       "      <td>1.0</td>\n",
       "      <td>0.0</td>\n",
       "      <td>0.0</td>\n",
       "    </tr>\n",
       "    <tr>\n",
       "      <th>137</th>\n",
       "      <td>3.0</td>\n",
       "      <td>15.0</td>\n",
       "      <td>2258.700000</td>\n",
       "      <td>2434.0</td>\n",
       "      <td>1.0</td>\n",
       "      <td>0.0</td>\n",
       "      <td>0.0</td>\n",
       "      <td>0.0</td>\n",
       "      <td>0.0</td>\n",
       "      <td>0.0</td>\n",
       "      <td>0.0</td>\n",
       "      <td>0.0</td>\n",
       "      <td>1.0</td>\n",
       "      <td>0.0</td>\n",
       "    </tr>\n",
       "    <tr>\n",
       "      <th>155</th>\n",
       "      <td>4.0</td>\n",
       "      <td>16.0</td>\n",
       "      <td>1148.400000</td>\n",
       "      <td>1511.0</td>\n",
       "      <td>0.0</td>\n",
       "      <td>0.0</td>\n",
       "      <td>0.0</td>\n",
       "      <td>0.0</td>\n",
       "      <td>0.0</td>\n",
       "      <td>1.0</td>\n",
       "      <td>0.0</td>\n",
       "      <td>0.0</td>\n",
       "      <td>1.0</td>\n",
       "      <td>0.0</td>\n",
       "    </tr>\n",
       "    <tr>\n",
       "      <th>...</th>\n",
       "      <td>...</td>\n",
       "      <td>...</td>\n",
       "      <td>...</td>\n",
       "      <td>...</td>\n",
       "      <td>...</td>\n",
       "      <td>...</td>\n",
       "      <td>...</td>\n",
       "      <td>...</td>\n",
       "      <td>...</td>\n",
       "      <td>...</td>\n",
       "      <td>...</td>\n",
       "      <td>...</td>\n",
       "      <td>...</td>\n",
       "      <td>...</td>\n",
       "    </tr>\n",
       "    <tr>\n",
       "      <th>17</th>\n",
       "      <td>11.0</td>\n",
       "      <td>11.0</td>\n",
       "      <td>1572.181818</td>\n",
       "      <td>2105.0</td>\n",
       "      <td>0.0</td>\n",
       "      <td>0.0</td>\n",
       "      <td>0.0</td>\n",
       "      <td>0.0</td>\n",
       "      <td>1.0</td>\n",
       "      <td>0.0</td>\n",
       "      <td>0.0</td>\n",
       "      <td>0.0</td>\n",
       "      <td>0.0</td>\n",
       "      <td>1.0</td>\n",
       "    </tr>\n",
       "    <tr>\n",
       "      <th>98</th>\n",
       "      <td>2.0</td>\n",
       "      <td>14.0</td>\n",
       "      <td>907.909091</td>\n",
       "      <td>1482.0</td>\n",
       "      <td>0.0</td>\n",
       "      <td>1.0</td>\n",
       "      <td>0.0</td>\n",
       "      <td>0.0</td>\n",
       "      <td>0.0</td>\n",
       "      <td>0.0</td>\n",
       "      <td>0.0</td>\n",
       "      <td>0.0</td>\n",
       "      <td>0.0</td>\n",
       "      <td>1.0</td>\n",
       "    </tr>\n",
       "    <tr>\n",
       "      <th>66</th>\n",
       "      <td>1.0</td>\n",
       "      <td>13.0</td>\n",
       "      <td>2072.454545</td>\n",
       "      <td>2753.0</td>\n",
       "      <td>0.0</td>\n",
       "      <td>0.0</td>\n",
       "      <td>0.0</td>\n",
       "      <td>0.0</td>\n",
       "      <td>1.0</td>\n",
       "      <td>0.0</td>\n",
       "      <td>0.0</td>\n",
       "      <td>0.0</td>\n",
       "      <td>0.0</td>\n",
       "      <td>1.0</td>\n",
       "    </tr>\n",
       "    <tr>\n",
       "      <th>126</th>\n",
       "      <td>3.0</td>\n",
       "      <td>15.0</td>\n",
       "      <td>734.818182</td>\n",
       "      <td>1544.0</td>\n",
       "      <td>0.0</td>\n",
       "      <td>1.0</td>\n",
       "      <td>0.0</td>\n",
       "      <td>0.0</td>\n",
       "      <td>0.0</td>\n",
       "      <td>0.0</td>\n",
       "      <td>0.0</td>\n",
       "      <td>1.0</td>\n",
       "      <td>0.0</td>\n",
       "      <td>0.0</td>\n",
       "    </tr>\n",
       "    <tr>\n",
       "      <th>109</th>\n",
       "      <td>2.0</td>\n",
       "      <td>14.0</td>\n",
       "      <td>2418.909091</td>\n",
       "      <td>2553.0</td>\n",
       "      <td>1.0</td>\n",
       "      <td>0.0</td>\n",
       "      <td>0.0</td>\n",
       "      <td>0.0</td>\n",
       "      <td>0.0</td>\n",
       "      <td>0.0</td>\n",
       "      <td>0.0</td>\n",
       "      <td>0.0</td>\n",
       "      <td>1.0</td>\n",
       "      <td>0.0</td>\n",
       "    </tr>\n",
       "  </tbody>\n",
       "</table>\n",
       "<p>136 rows × 14 columns</p>\n",
       "</div>"
      ],
      "text/plain": [
       "     Month Number  Month_ID  Marketing Spend  Visitors    0    1    2    3  \\\n",
       "147           4.0      16.0       763.272727    1180.0  0.0  1.0  0.0  0.0   \n",
       "8            11.0      11.0      1092.363636    1448.0  0.0  0.0  0.0  0.0   \n",
       "127           3.0      15.0       939.750000    1455.0  0.0  0.0  0.0  0.0   \n",
       "137           3.0      15.0      2258.700000    2434.0  1.0  0.0  0.0  0.0   \n",
       "155           4.0      16.0      1148.400000    1511.0  0.0  0.0  0.0  0.0   \n",
       "..            ...       ...              ...       ...  ...  ...  ...  ...   \n",
       "17           11.0      11.0      1572.181818    2105.0  0.0  0.0  0.0  0.0   \n",
       "98            2.0      14.0       907.909091    1482.0  0.0  1.0  0.0  0.0   \n",
       "66            1.0      13.0      2072.454545    2753.0  0.0  0.0  0.0  0.0   \n",
       "126           3.0      15.0       734.818182    1544.0  0.0  1.0  0.0  0.0   \n",
       "109           2.0      14.0      2418.909091    2553.0  1.0  0.0  0.0  0.0   \n",
       "\n",
       "       4    5    6    7    8    9  \n",
       "147  0.0  0.0  0.0  0.0  0.0  1.0  \n",
       "8    0.0  1.0  0.0  0.0  1.0  0.0  \n",
       "127  0.0  1.0  0.0  1.0  0.0  0.0  \n",
       "137  0.0  0.0  0.0  0.0  1.0  0.0  \n",
       "155  0.0  1.0  0.0  0.0  1.0  0.0  \n",
       "..   ...  ...  ...  ...  ...  ...  \n",
       "17   1.0  0.0  0.0  0.0  0.0  1.0  \n",
       "98   0.0  0.0  0.0  0.0  0.0  1.0  \n",
       "66   1.0  0.0  0.0  0.0  0.0  1.0  \n",
       "126  0.0  0.0  0.0  1.0  0.0  0.0  \n",
       "109  0.0  0.0  0.0  0.0  1.0  0.0  \n",
       "\n",
       "[136 rows x 14 columns]"
      ]
     },
     "execution_count": 96,
     "metadata": {},
     "output_type": "execute_result"
    }
   ],
   "source": [
    "x_train #to view the training data"
   ]
  },
  {
   "cell_type": "code",
   "execution_count": 97,
   "id": "e8bfee2e",
   "metadata": {},
   "outputs": [
    {
     "data": {
      "text/plain": [
       "0      465.0\n",
       "1    10386.0\n",
       "2    12475.0\n",
       "3    11712.0\n",
       "4    10000.0\n",
       "Name: Revenue, dtype: float64"
      ]
     },
     "execution_count": 97,
     "metadata": {},
     "output_type": "execute_result"
    }
   ],
   "source": [
    "y.head()"
   ]
  },
  {
   "cell_type": "code",
   "execution_count": 98,
   "id": "b8c1bde4",
   "metadata": {},
   "outputs": [
    {
     "data": {
      "text/plain": [
       "(136, 14)"
      ]
     },
     "metadata": {},
     "output_type": "display_data"
    },
    {
     "data": {
      "text/plain": [
       "(46, 14)"
      ]
     },
     "metadata": {},
     "output_type": "display_data"
    }
   ],
   "source": [
    "display(x_train.shape, x_test.shape)"
   ]
  },
  {
   "cell_type": "code",
   "execution_count": 99,
   "id": "260dc787",
   "metadata": {},
   "outputs": [
    {
     "data": {
      "text/plain": [
       "(136,)"
      ]
     },
     "metadata": {},
     "output_type": "display_data"
    },
    {
     "data": {
      "text/plain": [
       "(136, 14)"
      ]
     },
     "metadata": {},
     "output_type": "display_data"
    },
    {
     "data": {
      "text/plain": [
       "(46, 14)"
      ]
     },
     "metadata": {},
     "output_type": "display_data"
    },
    {
     "data": {
      "text/plain": [
       "(46,)"
      ]
     },
     "metadata": {},
     "output_type": "display_data"
    }
   ],
   "source": [
    "display(y_train.shape, x_train.shape, x_test.shape, y_test.shape)"
   ]
  },
  {
   "cell_type": "markdown",
   "id": "e817da74",
   "metadata": {},
   "source": [
    "# INPUTING MISSING VALUES"
   ]
  },
  {
   "cell_type": "code",
   "execution_count": 100,
   "id": "1610eaf2",
   "metadata": {},
   "outputs": [
    {
     "name": "stderr",
     "output_type": "stream",
     "text": [
      "C:\\Users\\bobby\\AppData\\Roaming\\Python\\Python39\\site-packages\\sklearn\\utils\\validation.py:1858: FutureWarning: Feature names only support names that are all strings. Got feature names with dtypes: ['int', 'str']. An error will be raised in 1.2.\n",
      "  warnings.warn(\n",
      "C:\\Users\\bobby\\AppData\\Roaming\\Python\\Python39\\site-packages\\sklearn\\utils\\validation.py:1858: FutureWarning: Feature names only support names that are all strings. Got feature names with dtypes: ['int', 'str']. An error will be raised in 1.2.\n",
      "  warnings.warn(\n",
      "C:\\Users\\bobby\\AppData\\Roaming\\Python\\Python39\\site-packages\\sklearn\\utils\\validation.py:1858: FutureWarning: Feature names only support names that are all strings. Got feature names with dtypes: ['int', 'str']. An error will be raised in 1.2.\n",
      "  warnings.warn(\n"
     ]
    }
   ],
   "source": [
    "imputer = KNNImputer(n_neighbors=2)\n",
    "x_train = imputer.fit_transform(x_train)\n",
    "x_test = imputer.transform(x_test)"
   ]
  },
  {
   "cell_type": "code",
   "execution_count": 101,
   "id": "bc76d0c8",
   "metadata": {},
   "outputs": [
    {
     "data": {
      "text/plain": [
       "(136, 14)"
      ]
     },
     "execution_count": 101,
     "metadata": {},
     "output_type": "execute_result"
    }
   ],
   "source": [
    "x_train.shape"
   ]
  },
  {
   "cell_type": "code",
   "execution_count": 102,
   "id": "83fb61ec",
   "metadata": {},
   "outputs": [],
   "source": [
    "cols=['Month Number', 'Month ID', 'Marketing Spend', 'Visitors', 0,1,2,3,4,5,6,7,8,9]"
   ]
  },
  {
   "cell_type": "code",
   "execution_count": 103,
   "id": "0b878e7f",
   "metadata": {},
   "outputs": [
    {
     "data": {
      "text/plain": [
       "array([[4.00000000e+00, 1.60000000e+01, 7.63272727e+02, ...,\n",
       "        0.00000000e+00, 0.00000000e+00, 1.00000000e+00],\n",
       "       [1.10000000e+01, 1.10000000e+01, 1.09236364e+03, ...,\n",
       "        0.00000000e+00, 1.00000000e+00, 0.00000000e+00],\n",
       "       [3.00000000e+00, 1.50000000e+01, 9.39750000e+02, ...,\n",
       "        1.00000000e+00, 0.00000000e+00, 0.00000000e+00],\n",
       "       ...,\n",
       "       [1.00000000e+00, 1.30000000e+01, 2.07245455e+03, ...,\n",
       "        0.00000000e+00, 0.00000000e+00, 1.00000000e+00],\n",
       "       [3.00000000e+00, 1.50000000e+01, 7.34818182e+02, ...,\n",
       "        1.00000000e+00, 0.00000000e+00, 0.00000000e+00],\n",
       "       [2.00000000e+00, 1.40000000e+01, 2.41890909e+03, ...,\n",
       "        0.00000000e+00, 1.00000000e+00, 0.00000000e+00]])"
      ]
     },
     "execution_count": 103,
     "metadata": {},
     "output_type": "execute_result"
    }
   ],
   "source": [
    "x_train"
   ]
  },
  {
   "cell_type": "code",
   "execution_count": 104,
   "id": "f8ee0c1b",
   "metadata": {},
   "outputs": [],
   "source": [
    "new_x=pd.DataFrame(x_train, columns=cols)"
   ]
  },
  {
   "cell_type": "markdown",
   "id": "81b9881d",
   "metadata": {},
   "source": [
    "# FEATURE IMPORTANCE"
   ]
  },
  {
   "cell_type": "code",
   "execution_count": 105,
   "id": "ca7c4693",
   "metadata": {},
   "outputs": [
    {
     "data": {
      "text/html": [
       "<div>\n",
       "<style scoped>\n",
       "    .dataframe tbody tr th:only-of-type {\n",
       "        vertical-align: middle;\n",
       "    }\n",
       "\n",
       "    .dataframe tbody tr th {\n",
       "        vertical-align: top;\n",
       "    }\n",
       "\n",
       "    .dataframe thead th {\n",
       "        text-align: right;\n",
       "    }\n",
       "</style>\n",
       "<table border=\"1\" class=\"dataframe\">\n",
       "  <thead>\n",
       "    <tr style=\"text-align: right;\">\n",
       "      <th></th>\n",
       "      <th>Importance</th>\n",
       "    </tr>\n",
       "  </thead>\n",
       "  <tbody>\n",
       "    <tr>\n",
       "      <th>Marketing Spend</th>\n",
       "      <td>0.562202</td>\n",
       "    </tr>\n",
       "    <tr>\n",
       "      <th>7</th>\n",
       "      <td>0.375671</td>\n",
       "    </tr>\n",
       "    <tr>\n",
       "      <th>Visitors</th>\n",
       "      <td>0.351553</td>\n",
       "    </tr>\n",
       "    <tr>\n",
       "      <th>8</th>\n",
       "      <td>0.252951</td>\n",
       "    </tr>\n",
       "    <tr>\n",
       "      <th>9</th>\n",
       "      <td>0.175913</td>\n",
       "    </tr>\n",
       "    <tr>\n",
       "      <th>0</th>\n",
       "      <td>0.089912</td>\n",
       "    </tr>\n",
       "    <tr>\n",
       "      <th>1</th>\n",
       "      <td>0.049297</td>\n",
       "    </tr>\n",
       "    <tr>\n",
       "      <th>6</th>\n",
       "      <td>0.021502</td>\n",
       "    </tr>\n",
       "    <tr>\n",
       "      <th>3</th>\n",
       "      <td>0.014773</td>\n",
       "    </tr>\n",
       "    <tr>\n",
       "      <th>4</th>\n",
       "      <td>0.002676</td>\n",
       "    </tr>\n",
       "    <tr>\n",
       "      <th>Month Number</th>\n",
       "      <td>0.000000</td>\n",
       "    </tr>\n",
       "    <tr>\n",
       "      <th>Month ID</th>\n",
       "      <td>0.000000</td>\n",
       "    </tr>\n",
       "    <tr>\n",
       "      <th>2</th>\n",
       "      <td>0.000000</td>\n",
       "    </tr>\n",
       "    <tr>\n",
       "      <th>5</th>\n",
       "      <td>0.000000</td>\n",
       "    </tr>\n",
       "  </tbody>\n",
       "</table>\n",
       "</div>"
      ],
      "text/plain": [
       "                 Importance\n",
       "Marketing Spend    0.562202\n",
       "7                  0.375671\n",
       "Visitors           0.351553\n",
       "8                  0.252951\n",
       "9                  0.175913\n",
       "0                  0.089912\n",
       "1                  0.049297\n",
       "6                  0.021502\n",
       "3                  0.014773\n",
       "4                  0.002676\n",
       "Month Number       0.000000\n",
       "Month ID           0.000000\n",
       "2                  0.000000\n",
       "5                  0.000000"
      ]
     },
     "execution_count": 105,
     "metadata": {},
     "output_type": "execute_result"
    }
   ],
   "source": [
    "from sklearn.feature_selection import mutual_info_regression\n",
    "\n",
    "mutual_info_regression(new_x,y_train)\n",
    "\n",
    "imp = pd.DataFrame(mutual_info_regression(new_x,y_train), index=new_x.columns)\n",
    "\n",
    "imp.columns = ['Importance']\n",
    "\n",
    "imp.sort_values(by = 'Importance', ascending = False)"
   ]
  },
  {
   "cell_type": "code",
   "execution_count": 106,
   "id": "6ce98728",
   "metadata": {},
   "outputs": [
    {
     "data": {
      "text/html": [
       "<div>\n",
       "<style scoped>\n",
       "    .dataframe tbody tr th:only-of-type {\n",
       "        vertical-align: middle;\n",
       "    }\n",
       "\n",
       "    .dataframe tbody tr th {\n",
       "        vertical-align: top;\n",
       "    }\n",
       "\n",
       "    .dataframe thead th {\n",
       "        text-align: right;\n",
       "    }\n",
       "</style>\n",
       "<table border=\"1\" class=\"dataframe\">\n",
       "  <thead>\n",
       "    <tr style=\"text-align: right;\">\n",
       "      <th></th>\n",
       "      <th>Importance</th>\n",
       "    </tr>\n",
       "  </thead>\n",
       "  <tbody>\n",
       "    <tr>\n",
       "      <th>Marketing Spend</th>\n",
       "      <td>0.562202</td>\n",
       "    </tr>\n",
       "    <tr>\n",
       "      <th>7</th>\n",
       "      <td>0.375671</td>\n",
       "    </tr>\n",
       "    <tr>\n",
       "      <th>Visitors</th>\n",
       "      <td>0.351553</td>\n",
       "    </tr>\n",
       "    <tr>\n",
       "      <th>8</th>\n",
       "      <td>0.252951</td>\n",
       "    </tr>\n",
       "    <tr>\n",
       "      <th>9</th>\n",
       "      <td>0.175913</td>\n",
       "    </tr>\n",
       "    <tr>\n",
       "      <th>0</th>\n",
       "      <td>0.089912</td>\n",
       "    </tr>\n",
       "    <tr>\n",
       "      <th>1</th>\n",
       "      <td>0.049297</td>\n",
       "    </tr>\n",
       "    <tr>\n",
       "      <th>6</th>\n",
       "      <td>0.021502</td>\n",
       "    </tr>\n",
       "  </tbody>\n",
       "</table>\n",
       "</div>"
      ],
      "text/plain": [
       "                 Importance\n",
       "Marketing Spend    0.562202\n",
       "7                  0.375671\n",
       "Visitors           0.351553\n",
       "8                  0.252951\n",
       "9                  0.175913\n",
       "0                  0.089912\n",
       "1                  0.049297\n",
       "6                  0.021502"
      ]
     },
     "execution_count": 106,
     "metadata": {},
     "output_type": "execute_result"
    }
   ],
   "source": [
    "imp[imp['Importance']>0.02].sort_values(by='Importance', ascending= False)"
   ]
  },
  {
   "cell_type": "code",
   "execution_count": 107,
   "id": "57c5c5bb",
   "metadata": {},
   "outputs": [
    {
     "data": {
      "text/plain": [
       "4535.375"
      ]
     },
     "execution_count": 107,
     "metadata": {},
     "output_type": "execute_result"
    }
   ],
   "source": [
    "new_x['Marketing Spend'].max()"
   ]
  },
  {
   "cell_type": "markdown",
   "id": "e60c2146",
   "metadata": {},
   "source": [
    "# SCALING THE DATA"
   ]
  },
  {
   "cell_type": "code",
   "execution_count": 108,
   "id": "44d09e5b",
   "metadata": {},
   "outputs": [],
   "source": [
    "from sklearn.preprocessing import StandardScaler\n",
    "scaler=StandardScaler()  #prepare the scaler"
   ]
  },
  {
   "cell_type": "code",
   "execution_count": 109,
   "id": "cef67c9f",
   "metadata": {},
   "outputs": [],
   "source": [
    "scaler = StandardScaler() # prepare the scaler\n",
    "scaler.fit(x_train) # this determines the scaling mechanism\n",
    "\n",
    "# scaling the data - this applies the method using the values from above\n",
    "\n",
    "x_train = scaler.transform(x_train)\n",
    "x_test = scaler.transform(x_test)\n",
    "\n",
    "# only the predictors are scaled."
   ]
  },
  {
   "cell_type": "markdown",
   "id": "1cdaa049",
   "metadata": {},
   "source": [
    "# PCA\n"
   ]
  },
  {
   "cell_type": "code",
   "execution_count": 110,
   "id": "d436ec18",
   "metadata": {},
   "outputs": [],
   "source": [
    "from sklearn.decomposition import PCA"
   ]
  },
  {
   "cell_type": "code",
   "execution_count": 111,
   "id": "d9213f2a",
   "metadata": {},
   "outputs": [
    {
     "data": {
      "text/html": [
       "<div>\n",
       "<style scoped>\n",
       "    .dataframe tbody tr th:only-of-type {\n",
       "        vertical-align: middle;\n",
       "    }\n",
       "\n",
       "    .dataframe tbody tr th {\n",
       "        vertical-align: top;\n",
       "    }\n",
       "\n",
       "    .dataframe thead th {\n",
       "        text-align: right;\n",
       "    }\n",
       "</style>\n",
       "<table border=\"1\" class=\"dataframe\">\n",
       "  <thead>\n",
       "    <tr style=\"text-align: right;\">\n",
       "      <th></th>\n",
       "      <th>PC1</th>\n",
       "      <th>PC2</th>\n",
       "      <th>PC3</th>\n",
       "    </tr>\n",
       "  </thead>\n",
       "  <tbody>\n",
       "    <tr>\n",
       "      <th>0</th>\n",
       "      <td>-1.958856</td>\n",
       "      <td>0.212248</td>\n",
       "      <td>-1.478295</td>\n",
       "    </tr>\n",
       "    <tr>\n",
       "      <th>1</th>\n",
       "      <td>-0.023961</td>\n",
       "      <td>1.915836</td>\n",
       "      <td>1.118995</td>\n",
       "    </tr>\n",
       "    <tr>\n",
       "      <th>2</th>\n",
       "      <td>-1.545277</td>\n",
       "      <td>-1.394896</td>\n",
       "      <td>0.690006</td>\n",
       "    </tr>\n",
       "    <tr>\n",
       "      <th>3</th>\n",
       "      <td>2.880208</td>\n",
       "      <td>-0.699360</td>\n",
       "      <td>-1.222534</td>\n",
       "    </tr>\n",
       "    <tr>\n",
       "      <th>4</th>\n",
       "      <td>-0.169425</td>\n",
       "      <td>-0.194382</td>\n",
       "      <td>-1.042836</td>\n",
       "    </tr>\n",
       "  </tbody>\n",
       "</table>\n",
       "</div>"
      ],
      "text/plain": [
       "        PC1       PC2       PC3\n",
       "0 -1.958856  0.212248 -1.478295\n",
       "1 -0.023961  1.915836  1.118995\n",
       "2 -1.545277 -1.394896  0.690006\n",
       "3  2.880208 -0.699360 -1.222534\n",
       "4 -0.169425 -0.194382 -1.042836"
      ]
     },
     "execution_count": 111,
     "metadata": {},
     "output_type": "execute_result"
    }
   ],
   "source": [
    "pca=PCA(n_components=3)\n",
    "pca.fit(x_train)\n",
    "x_train=pca.transform(x_train)\n",
    "\n",
    "pca2=pd.DataFrame(x_train,  columns=['PC1', 'PC2', 'PC3'])\n",
    "pca2.head()\n"
   ]
  },
  {
   "cell_type": "code",
   "execution_count": 112,
   "id": "ac38bc89",
   "metadata": {},
   "outputs": [],
   "source": [
    "x_test=pca.transform(x_test)"
   ]
  },
  {
   "cell_type": "code",
   "execution_count": 113,
   "id": "b9a96663",
   "metadata": {},
   "outputs": [
    {
     "data": {
      "text/plain": [
       "array([[-1.95885607,  0.21224757, -1.47829521],\n",
       "       [-0.0239605 ,  1.91583554,  1.11899504],\n",
       "       [-1.54527739, -1.39489618,  0.69000601],\n",
       "       [ 2.88020829, -0.69936041, -1.22253377],\n",
       "       [-0.16942466, -0.19438178, -1.04283629],\n",
       "       [-0.04207022,  0.1981193 , -1.01924519],\n",
       "       [-0.26084659,  0.11016152, -2.12640159],\n",
       "       [ 0.36591498, -0.18841842, -1.26002397],\n",
       "       [-0.91228596,  2.14222472,  1.08077653],\n",
       "       [-0.43054887,  2.54762536,  0.21414813],\n",
       "       [-1.38953586, -1.82777424,  0.16886717],\n",
       "       [-1.16349785,  2.07112564,  0.6208702 ],\n",
       "       [ 1.0662368 ,  2.55823062,  0.31312539],\n",
       "       [-1.42070931, -1.32792064, -0.49268665],\n",
       "       [ 1.20448522, -0.59263035,  3.0258893 ],\n",
       "       [ 1.26265206,  0.01231767, -1.08780749],\n",
       "       [-1.74114643,  0.33327247, -1.29532516],\n",
       "       [-1.69402903, -1.37723378,  0.67153809],\n",
       "       [-1.49377027,  0.86806967, -1.57708116],\n",
       "       [ 3.11018094, -1.03150068, -0.36803024],\n",
       "       [ 1.09058476, -1.76534625,  0.64323002],\n",
       "       [-1.08085864,  0.44332794,  2.3004685 ],\n",
       "       [ 0.87275631,  0.58287486,  2.09571866],\n",
       "       [-1.33081739,  0.10682458, -1.38609472],\n",
       "       [ 1.83823103, -0.58201383, -1.348958  ],\n",
       "       [-0.43049961,  0.31415377,  2.65675826],\n",
       "       [-0.72212659,  2.05166685,  0.66047265],\n",
       "       [-2.28794956,  0.62327061,  2.13371869],\n",
       "       [-1.24379009,  0.61756762, -1.85343208],\n",
       "       [ 1.81364399, -0.66815796,  3.10299267],\n",
       "       [-0.11538633,  0.59752334, -1.58033637],\n",
       "       [-1.40061059,  1.8372559 ,  0.45595493],\n",
       "       [ 2.94753616, -2.2066291 ,  1.66096998],\n",
       "       [-0.1164572 , -0.0169194 , -0.89732586],\n",
       "       [ 2.86837622,  1.17882607,  0.5880371 ],\n",
       "       [ 0.32756054,  1.55085933,  0.58012761],\n",
       "       [-0.63601475,  2.46603135,  0.29523548],\n",
       "       [ 0.68932895, -2.1273957 ,  0.11132557],\n",
       "       [-1.28685541, -0.67754276,  0.29691523],\n",
       "       [ 3.29764316, -0.36953607, -0.89832098],\n",
       "       [ 0.15282591, -0.11295024, -1.11857908],\n",
       "       [-0.97960881, -1.29701883, -0.29078073],\n",
       "       [ 1.3208654 , -0.64018915,  3.05589826],\n",
       "       [-0.62664627,  2.32685796,  0.07867644],\n",
       "       [-0.49163456, -0.05875614, -1.18829373],\n",
       "       [-1.53135821, -1.50291276,  0.26552359],\n",
       "       [-1.46334862,  0.34829244, -1.28297444],\n",
       "       [ 2.70037877, -1.17694379, -0.55306934],\n",
       "       [-1.31157911,  0.06739878, -1.51552171],\n",
       "       [ 0.59369089, -2.22548186,  1.28264559],\n",
       "       [-0.85212926,  0.92895323,  2.04009532],\n",
       "       [ 0.311481  ,  2.20071461,  0.07412018],\n",
       "       [ 1.1210564 , -2.13290078,  0.14382372],\n",
       "       [ 0.00482059,  0.23930795, -1.75830177],\n",
       "       [ 2.40901307, -1.14901815, -0.58616698],\n",
       "       [ 0.88725412,  0.40946403, -1.32818603],\n",
       "       [ 1.3396882 , -0.87203685, -0.66027753],\n",
       "       [-1.27771996,  0.11564835, -1.19544342],\n",
       "       [-1.16429394,  0.43594118,  2.29808516],\n",
       "       [ 0.89644835,  1.81425911,  0.73333426],\n",
       "       [ 3.08113729, -0.3298337 , -0.93165489],\n",
       "       [ 0.86655904, -0.31205363,  3.09672041],\n",
       "       [ 1.47147471,  0.35030352, -1.26036129],\n",
       "       [-1.71947079, -1.39504729,  0.67798769],\n",
       "       [-1.65639381, -1.31481871,  0.39377861],\n",
       "       [ 0.24053471,  0.64300223, -1.35293544],\n",
       "       [ 1.95691352,  1.96676259,  0.07252024],\n",
       "       [ 2.87255165, -0.74222557, -1.42697257],\n",
       "       [ 0.3833739 ,  2.18420545,  0.27226995],\n",
       "       [-0.93759955,  2.60487359,  0.33810766],\n",
       "       [-1.03138633,  2.38725716,  1.18318495],\n",
       "       [ 0.52773317, -1.6621124 ,  0.55656271],\n",
       "       [ 1.50933896,  1.94583974,  0.71518377],\n",
       "       [-1.53471628,  0.17352561,  2.13708357],\n",
       "       [ 0.32706093,  0.09099512, -2.07676523],\n",
       "       [-1.39366555, -1.18795606,  0.57718047],\n",
       "       [-1.37272016,  0.15952251, -1.41330542],\n",
       "       [-1.66584335,  2.25028747,  0.9786484 ],\n",
       "       [ 2.86399336,  1.24692247,  0.55632869],\n",
       "       [-1.33448141, -1.99797515,  0.02750402],\n",
       "       [ 3.42185401, -0.82775934, -0.21668631],\n",
       "       [ 2.31707313, -0.59810767, -0.27143013],\n",
       "       [-1.13122249,  2.1812451 ,  1.04758846],\n",
       "       [-1.82119765, -1.57987009,  0.2482613 ],\n",
       "       [ 3.55090364,  1.78837879,  0.95058656],\n",
       "       [ 1.9721045 , -0.98976235, -0.46625466],\n",
       "       [-1.45613063, -1.44122316, -0.66656832],\n",
       "       [-1.59862082,  0.59065578, -0.95678158],\n",
       "       [ 0.7333992 ,  1.88965497,  1.18362514],\n",
       "       [-1.55352766,  0.45580785,  2.51349961],\n",
       "       [ 1.05743219,  1.09252726, -1.05620509],\n",
       "       [-0.84601474, -1.61257294,  0.55469071],\n",
       "       [-1.55206014,  0.70328009, -0.53022717],\n",
       "       [-1.08592364,  0.91441726, -1.53202476],\n",
       "       [-1.57469455,  0.03148492, -1.59194947],\n",
       "       [-2.54872652,  0.17922666, -1.5366402 ],\n",
       "       [-0.76914814,  0.91244344, -1.50913213],\n",
       "       [ 1.20065923,  2.2074879 , -0.0909755 ],\n",
       "       [-1.00160045, -1.95954635,  1.04929933],\n",
       "       [-1.88317875, -1.07793028, -0.41639249],\n",
       "       [-1.99345933,  0.87117367, -1.79873536],\n",
       "       [ 0.61951888, -1.87167928,  0.43590303],\n",
       "       [ 1.50084526,  0.01299265, -0.57521346],\n",
       "       [ 3.08102459, -0.58404835, -1.14547284],\n",
       "       [-1.56792494, -1.23511779,  0.83842459],\n",
       "       [-1.63148768, -1.34708634,  0.41038793],\n",
       "       [ 0.94687558,  0.77116262, -1.36302372],\n",
       "       [-1.90580696,  0.29037457, -1.03538131],\n",
       "       [ 0.96724449, -2.51344129,  0.99401576],\n",
       "       [ 0.40588572, -2.34206524, -0.03301957],\n",
       "       [ 2.72077845,  1.19817905,  0.5688696 ],\n",
       "       [-0.31675901,  0.0248328 , -1.18206759],\n",
       "       [ 0.91640635,  2.30773334,  0.47596723],\n",
       "       [ 0.20691219,  0.50662711, -1.60575404],\n",
       "       [-1.41535819,  0.28024819,  2.12878851],\n",
       "       [ 0.02212709, -0.14544496, -1.1126631 ],\n",
       "       [ 1.99880629, -0.72315583, -1.49639982],\n",
       "       [-2.96008727, -0.89334754,  0.80787708],\n",
       "       [-0.42439205, -1.82734258,  0.51987018],\n",
       "       [ 0.03693901,  0.02252827, -2.06532288],\n",
       "       [-0.43924426, -1.10739105, -0.07892964],\n",
       "       [ 0.04729892, -0.04550181,  2.00789569],\n",
       "       [ 0.94813122, -2.07627241,  1.46210598],\n",
       "       [ 2.70143498,  1.6501348 ,  0.47540157],\n",
       "       [-1.18756595, -2.11905834, -0.13013631],\n",
       "       [-2.15270384, -1.32923966,  0.61757513],\n",
       "       [-2.56052767, -1.49567468,  0.15812745],\n",
       "       [-1.74878356,  0.75003003, -0.56543846],\n",
       "       [ 1.22489096, -2.02139685,  0.32328232],\n",
       "       [-1.76826245,  0.64447338, -0.741786  ],\n",
       "       [-0.98455563, -0.89650891,  0.00965146],\n",
       "       [ 1.09825235,  1.36975849,  1.63770068],\n",
       "       [-1.51039158,  0.44734673, -1.1082444 ],\n",
       "       [ 1.92875593, -0.40227505,  0.05866164],\n",
       "       [-1.60449461, -1.53774423,  0.2765117 ],\n",
       "       [ 3.13668482, -0.56550014, -1.04279286]])"
      ]
     },
     "execution_count": 113,
     "metadata": {},
     "output_type": "execute_result"
    }
   ],
   "source": [
    "x_train"
   ]
  },
  {
   "cell_type": "code",
   "execution_count": 114,
   "id": "2a5b6589",
   "metadata": {},
   "outputs": [],
   "source": [
    "from sklearn.metrics import mean_squared_error\n",
    "from sklearn.metrics import mean_absolute_error\n",
    "from sklearn.metrics import r2_score"
   ]
  },
  {
   "cell_type": "markdown",
   "id": "3d0eb595",
   "metadata": {},
   "source": [
    "# USING LINEAR REGRESSION"
   ]
  },
  {
   "cell_type": "code",
   "execution_count": 115,
   "id": "546f84bf",
   "metadata": {},
   "outputs": [
    {
     "data": {
      "text/html": [
       "<style>#sk-container-id-1 {color: black;background-color: white;}#sk-container-id-1 pre{padding: 0;}#sk-container-id-1 div.sk-toggleable {background-color: white;}#sk-container-id-1 label.sk-toggleable__label {cursor: pointer;display: block;width: 100%;margin-bottom: 0;padding: 0.3em;box-sizing: border-box;text-align: center;}#sk-container-id-1 label.sk-toggleable__label-arrow:before {content: \"▸\";float: left;margin-right: 0.25em;color: #696969;}#sk-container-id-1 label.sk-toggleable__label-arrow:hover:before {color: black;}#sk-container-id-1 div.sk-estimator:hover label.sk-toggleable__label-arrow:before {color: black;}#sk-container-id-1 div.sk-toggleable__content {max-height: 0;max-width: 0;overflow: hidden;text-align: left;background-color: #f0f8ff;}#sk-container-id-1 div.sk-toggleable__content pre {margin: 0.2em;color: black;border-radius: 0.25em;background-color: #f0f8ff;}#sk-container-id-1 input.sk-toggleable__control:checked~div.sk-toggleable__content {max-height: 200px;max-width: 100%;overflow: auto;}#sk-container-id-1 input.sk-toggleable__control:checked~label.sk-toggleable__label-arrow:before {content: \"▾\";}#sk-container-id-1 div.sk-estimator input.sk-toggleable__control:checked~label.sk-toggleable__label {background-color: #d4ebff;}#sk-container-id-1 div.sk-label input.sk-toggleable__control:checked~label.sk-toggleable__label {background-color: #d4ebff;}#sk-container-id-1 input.sk-hidden--visually {border: 0;clip: rect(1px 1px 1px 1px);clip: rect(1px, 1px, 1px, 1px);height: 1px;margin: -1px;overflow: hidden;padding: 0;position: absolute;width: 1px;}#sk-container-id-1 div.sk-estimator {font-family: monospace;background-color: #f0f8ff;border: 1px dotted black;border-radius: 0.25em;box-sizing: border-box;margin-bottom: 0.5em;}#sk-container-id-1 div.sk-estimator:hover {background-color: #d4ebff;}#sk-container-id-1 div.sk-parallel-item::after {content: \"\";width: 100%;border-bottom: 1px solid gray;flex-grow: 1;}#sk-container-id-1 div.sk-label:hover label.sk-toggleable__label {background-color: #d4ebff;}#sk-container-id-1 div.sk-serial::before {content: \"\";position: absolute;border-left: 1px solid gray;box-sizing: border-box;top: 0;bottom: 0;left: 50%;z-index: 0;}#sk-container-id-1 div.sk-serial {display: flex;flex-direction: column;align-items: center;background-color: white;padding-right: 0.2em;padding-left: 0.2em;position: relative;}#sk-container-id-1 div.sk-item {position: relative;z-index: 1;}#sk-container-id-1 div.sk-parallel {display: flex;align-items: stretch;justify-content: center;background-color: white;position: relative;}#sk-container-id-1 div.sk-item::before, #sk-container-id-1 div.sk-parallel-item::before {content: \"\";position: absolute;border-left: 1px solid gray;box-sizing: border-box;top: 0;bottom: 0;left: 50%;z-index: -1;}#sk-container-id-1 div.sk-parallel-item {display: flex;flex-direction: column;z-index: 1;position: relative;background-color: white;}#sk-container-id-1 div.sk-parallel-item:first-child::after {align-self: flex-end;width: 50%;}#sk-container-id-1 div.sk-parallel-item:last-child::after {align-self: flex-start;width: 50%;}#sk-container-id-1 div.sk-parallel-item:only-child::after {width: 0;}#sk-container-id-1 div.sk-dashed-wrapped {border: 1px dashed gray;margin: 0 0.4em 0.5em 0.4em;box-sizing: border-box;padding-bottom: 0.4em;background-color: white;}#sk-container-id-1 div.sk-label label {font-family: monospace;font-weight: bold;display: inline-block;line-height: 1.2em;}#sk-container-id-1 div.sk-label-container {text-align: center;}#sk-container-id-1 div.sk-container {/* jupyter's `normalize.less` sets `[hidden] { display: none; }` but bootstrap.min.css set `[hidden] { display: none !important; }` so we also need the `!important` here to be able to override the default hidden behavior on the sphinx rendered scikit-learn.org. See: https://github.com/scikit-learn/scikit-learn/issues/21755 */display: inline-block !important;position: relative;}#sk-container-id-1 div.sk-text-repr-fallback {display: none;}</style><div id=\"sk-container-id-1\" class=\"sk-top-container\"><div class=\"sk-text-repr-fallback\"><pre>LinearRegression()</pre><b>In a Jupyter environment, please rerun this cell to show the HTML representation or trust the notebook. <br />On GitHub, the HTML representation is unable to render, please try loading this page with nbviewer.org.</b></div><div class=\"sk-container\" hidden><div class=\"sk-item\"><div class=\"sk-estimator sk-toggleable\"><input class=\"sk-toggleable__control sk-hidden--visually\" id=\"sk-estimator-id-1\" type=\"checkbox\" checked><label for=\"sk-estimator-id-1\" class=\"sk-toggleable__label sk-toggleable__label-arrow\">LinearRegression</label><div class=\"sk-toggleable__content\"><pre>LinearRegression()</pre></div></div></div></div></div>"
      ],
      "text/plain": [
       "LinearRegression()"
      ]
     },
     "execution_count": 115,
     "metadata": {},
     "output_type": "execute_result"
    }
   ],
   "source": [
    "#to build our model\n",
    "#1. Import the estimator Object (model)\n",
    "from sklearn.linear_model import LinearRegression\n",
    "\n",
    "#2. Create an instance of the estimator\n",
    "linear_regression = LinearRegression()\n",
    "\n",
    "#3. Use the training data to train the estimator\n",
    "linear_regression.fit(x_train, y_train)"
   ]
  },
  {
   "cell_type": "code",
   "execution_count": 116,
   "id": "e9bef71a",
   "metadata": {},
   "outputs": [
    {
     "name": "stdout",
     "output_type": "stream",
     "text": [
      "Train r2 score: 0.7266003435688868\n",
      "Test r2 score: 0.7671213494818174\n",
      "\n",
      "\n",
      "train_mae: 2220.583858458907\n",
      "test mae: 1787.240827036597\n",
      "\n",
      "\n",
      "train_msel: 9188117.332206318\n",
      "test_msel: 5674254.1079036975\n"
     ]
    }
   ],
   "source": [
    "y_train_pred1=linear_regression.predict(x_train)  # Train(Already seen)\n",
    "y_test_pred1=linear_regression.predict(x_test)  ## Test(New)\n",
    "\n",
    "print('Train r2 score:', r2_score(y_train, y_train_pred1))\n",
    "print('Test r2 score:', r2_score(y_test, y_test_pred1))\n",
    "print('\\n')\n",
    "\n",
    "print('train_mae:', mean_absolute_error(y_train, y_train_pred1))\n",
    "print('test mae:', mean_absolute_error(y_test, y_test_pred1))\n",
    "print('\\n')\n",
    "\n",
    "print('train_msel:', mean_squared_error(y_train, y_train_pred1))\n",
    "print('test_msel:', mean_squared_error(y_test, y_test_pred1))"
   ]
  },
  {
   "cell_type": "code",
   "execution_count": 117,
   "id": "02bae28c",
   "metadata": {},
   "outputs": [
    {
     "data": {
      "text/html": [
       "<div>\n",
       "<style scoped>\n",
       "    .dataframe tbody tr th:only-of-type {\n",
       "        vertical-align: middle;\n",
       "    }\n",
       "\n",
       "    .dataframe tbody tr th {\n",
       "        vertical-align: top;\n",
       "    }\n",
       "\n",
       "    .dataframe thead th {\n",
       "        text-align: right;\n",
       "    }\n",
       "</style>\n",
       "<table border=\"1\" class=\"dataframe\">\n",
       "  <thead>\n",
       "    <tr style=\"text-align: right;\">\n",
       "      <th></th>\n",
       "      <th>OLD</th>\n",
       "      <th>NEW</th>\n",
       "    </tr>\n",
       "  </thead>\n",
       "  <tbody>\n",
       "    <tr>\n",
       "      <th>168</th>\n",
       "      <td>3884.0</td>\n",
       "      <td>3006.360195</td>\n",
       "    </tr>\n",
       "    <tr>\n",
       "      <th>104</th>\n",
       "      <td>5171.0</td>\n",
       "      <td>5903.420418</td>\n",
       "    </tr>\n",
       "    <tr>\n",
       "      <th>41</th>\n",
       "      <td>7655.0</td>\n",
       "      <td>8284.468135</td>\n",
       "    </tr>\n",
       "    <tr>\n",
       "      <th>4</th>\n",
       "      <td>10000.0</td>\n",
       "      <td>12839.175788</td>\n",
       "    </tr>\n",
       "    <tr>\n",
       "      <th>173</th>\n",
       "      <td>7445.0</td>\n",
       "      <td>5298.743644</td>\n",
       "    </tr>\n",
       "    <tr>\n",
       "      <th>108</th>\n",
       "      <td>20237.0</td>\n",
       "      <td>17714.435004</td>\n",
       "    </tr>\n",
       "    <tr>\n",
       "      <th>79</th>\n",
       "      <td>4085.0</td>\n",
       "      <td>5492.848486</td>\n",
       "    </tr>\n",
       "    <tr>\n",
       "      <th>19</th>\n",
       "      <td>8091.0</td>\n",
       "      <td>8353.125438</td>\n",
       "    </tr>\n",
       "    <tr>\n",
       "      <th>93</th>\n",
       "      <td>13602.0</td>\n",
       "      <td>15596.432439</td>\n",
       "    </tr>\n",
       "    <tr>\n",
       "      <th>82</th>\n",
       "      <td>4225.0</td>\n",
       "      <td>3236.129473</td>\n",
       "    </tr>\n",
       "    <tr>\n",
       "      <th>37</th>\n",
       "      <td>4873.0</td>\n",
       "      <td>6826.490431</td>\n",
       "    </tr>\n",
       "    <tr>\n",
       "      <th>162</th>\n",
       "      <td>4020.0</td>\n",
       "      <td>2585.833019</td>\n",
       "    </tr>\n",
       "    <tr>\n",
       "      <th>90</th>\n",
       "      <td>7264.0</td>\n",
       "      <td>6240.448586</td>\n",
       "    </tr>\n",
       "    <tr>\n",
       "      <th>42</th>\n",
       "      <td>12038.0</td>\n",
       "      <td>12464.546656</td>\n",
       "    </tr>\n",
       "    <tr>\n",
       "      <th>100</th>\n",
       "      <td>4910.0</td>\n",
       "      <td>5427.680060</td>\n",
       "    </tr>\n",
       "    <tr>\n",
       "      <th>125</th>\n",
       "      <td>7878.0</td>\n",
       "      <td>11585.621196</td>\n",
       "    </tr>\n",
       "    <tr>\n",
       "      <th>71</th>\n",
       "      <td>7287.0</td>\n",
       "      <td>7167.502768</td>\n",
       "    </tr>\n",
       "    <tr>\n",
       "      <th>72</th>\n",
       "      <td>4403.0</td>\n",
       "      <td>6694.041809</td>\n",
       "    </tr>\n",
       "    <tr>\n",
       "      <th>26</th>\n",
       "      <td>3525.0</td>\n",
       "      <td>3995.356092</td>\n",
       "    </tr>\n",
       "    <tr>\n",
       "      <th>152</th>\n",
       "      <td>7596.0</td>\n",
       "      <td>4897.917178</td>\n",
       "    </tr>\n",
       "    <tr>\n",
       "      <th>158</th>\n",
       "      <td>8456.0</td>\n",
       "      <td>8934.876392</td>\n",
       "    </tr>\n",
       "    <tr>\n",
       "      <th>129</th>\n",
       "      <td>14909.0</td>\n",
       "      <td>12032.790616</td>\n",
       "    </tr>\n",
       "    <tr>\n",
       "      <th>145</th>\n",
       "      <td>12027.0</td>\n",
       "      <td>9547.001000</td>\n",
       "    </tr>\n",
       "    <tr>\n",
       "      <th>128</th>\n",
       "      <td>1245.0</td>\n",
       "      <td>9895.819634</td>\n",
       "    </tr>\n",
       "    <tr>\n",
       "      <th>117</th>\n",
       "      <td>12850.0</td>\n",
       "      <td>12681.682920</td>\n",
       "    </tr>\n",
       "    <tr>\n",
       "      <th>52</th>\n",
       "      <td>9125.0</td>\n",
       "      <td>11192.728635</td>\n",
       "    </tr>\n",
       "    <tr>\n",
       "      <th>33</th>\n",
       "      <td>9097.0</td>\n",
       "      <td>11379.065709</td>\n",
       "    </tr>\n",
       "    <tr>\n",
       "      <th>174</th>\n",
       "      <td>12111.0</td>\n",
       "      <td>11365.806993</td>\n",
       "    </tr>\n",
       "    <tr>\n",
       "      <th>95</th>\n",
       "      <td>8741.0</td>\n",
       "      <td>6993.266213</td>\n",
       "    </tr>\n",
       "    <tr>\n",
       "      <th>150</th>\n",
       "      <td>12548.0</td>\n",
       "      <td>13436.309158</td>\n",
       "    </tr>\n",
       "    <tr>\n",
       "      <th>143</th>\n",
       "      <td>23368.0</td>\n",
       "      <td>18597.866513</td>\n",
       "    </tr>\n",
       "    <tr>\n",
       "      <th>31</th>\n",
       "      <td>15288.0</td>\n",
       "      <td>10478.212028</td>\n",
       "    </tr>\n",
       "    <tr>\n",
       "      <th>23</th>\n",
       "      <td>12154.0</td>\n",
       "      <td>12138.146890</td>\n",
       "    </tr>\n",
       "    <tr>\n",
       "      <th>80</th>\n",
       "      <td>11156.0</td>\n",
       "      <td>8041.133259</td>\n",
       "    </tr>\n",
       "    <tr>\n",
       "      <th>166</th>\n",
       "      <td>9360.0</td>\n",
       "      <td>8094.219591</td>\n",
       "    </tr>\n",
       "    <tr>\n",
       "      <th>53</th>\n",
       "      <td>21428.0</td>\n",
       "      <td>17561.942494</td>\n",
       "    </tr>\n",
       "    <tr>\n",
       "      <th>62</th>\n",
       "      <td>12129.0</td>\n",
       "      <td>11690.431175</td>\n",
       "    </tr>\n",
       "    <tr>\n",
       "      <th>142</th>\n",
       "      <td>14957.0</td>\n",
       "      <td>13938.993410</td>\n",
       "    </tr>\n",
       "    <tr>\n",
       "      <th>156</th>\n",
       "      <td>16347.0</td>\n",
       "      <td>15495.089594</td>\n",
       "    </tr>\n",
       "    <tr>\n",
       "      <th>110</th>\n",
       "      <td>12789.0</td>\n",
       "      <td>10108.440891</td>\n",
       "    </tr>\n",
       "    <tr>\n",
       "      <th>10</th>\n",
       "      <td>8000.0</td>\n",
       "      <td>9581.387136</td>\n",
       "    </tr>\n",
       "    <tr>\n",
       "      <th>63</th>\n",
       "      <td>4581.0</td>\n",
       "      <td>4331.724679</td>\n",
       "    </tr>\n",
       "    <tr>\n",
       "      <th>85</th>\n",
       "      <td>12783.0</td>\n",
       "      <td>11174.079343</td>\n",
       "    </tr>\n",
       "    <tr>\n",
       "      <th>139</th>\n",
       "      <td>14587.0</td>\n",
       "      <td>14869.805373</td>\n",
       "    </tr>\n",
       "    <tr>\n",
       "      <th>148</th>\n",
       "      <td>8828.0</td>\n",
       "      <td>7228.807036</td>\n",
       "    </tr>\n",
       "    <tr>\n",
       "      <th>163</th>\n",
       "      <td>2491.0</td>\n",
       "      <td>5122.883569</td>\n",
       "    </tr>\n",
       "  </tbody>\n",
       "</table>\n",
       "</div>"
      ],
      "text/plain": [
       "         OLD           NEW\n",
       "168   3884.0   3006.360195\n",
       "104   5171.0   5903.420418\n",
       "41    7655.0   8284.468135\n",
       "4    10000.0  12839.175788\n",
       "173   7445.0   5298.743644\n",
       "108  20237.0  17714.435004\n",
       "79    4085.0   5492.848486\n",
       "19    8091.0   8353.125438\n",
       "93   13602.0  15596.432439\n",
       "82    4225.0   3236.129473\n",
       "37    4873.0   6826.490431\n",
       "162   4020.0   2585.833019\n",
       "90    7264.0   6240.448586\n",
       "42   12038.0  12464.546656\n",
       "100   4910.0   5427.680060\n",
       "125   7878.0  11585.621196\n",
       "71    7287.0   7167.502768\n",
       "72    4403.0   6694.041809\n",
       "26    3525.0   3995.356092\n",
       "152   7596.0   4897.917178\n",
       "158   8456.0   8934.876392\n",
       "129  14909.0  12032.790616\n",
       "145  12027.0   9547.001000\n",
       "128   1245.0   9895.819634\n",
       "117  12850.0  12681.682920\n",
       "52    9125.0  11192.728635\n",
       "33    9097.0  11379.065709\n",
       "174  12111.0  11365.806993\n",
       "95    8741.0   6993.266213\n",
       "150  12548.0  13436.309158\n",
       "143  23368.0  18597.866513\n",
       "31   15288.0  10478.212028\n",
       "23   12154.0  12138.146890\n",
       "80   11156.0   8041.133259\n",
       "166   9360.0   8094.219591\n",
       "53   21428.0  17561.942494\n",
       "62   12129.0  11690.431175\n",
       "142  14957.0  13938.993410\n",
       "156  16347.0  15495.089594\n",
       "110  12789.0  10108.440891\n",
       "10    8000.0   9581.387136\n",
       "63    4581.0   4331.724679\n",
       "85   12783.0  11174.079343\n",
       "139  14587.0  14869.805373\n",
       "148   8828.0   7228.807036\n",
       "163   2491.0   5122.883569"
      ]
     },
     "execution_count": 117,
     "metadata": {},
     "output_type": "execute_result"
    }
   ],
   "source": [
    "pd.DataFrame({'OLD': y_test, 'NEW': y_test_pred1})  ##to check the difference in the prediction of the old and new y test in its original form"
   ]
  },
  {
   "cell_type": "markdown",
   "id": "ec0ef138",
   "metadata": {},
   "source": [
    "# USING K NEAREST NEIGHBOUR (KNN)"
   ]
  },
  {
   "cell_type": "code",
   "execution_count": 118,
   "id": "9eb7e20c",
   "metadata": {},
   "outputs": [
    {
     "data": {
      "text/html": [
       "<style>#sk-container-id-2 {color: black;background-color: white;}#sk-container-id-2 pre{padding: 0;}#sk-container-id-2 div.sk-toggleable {background-color: white;}#sk-container-id-2 label.sk-toggleable__label {cursor: pointer;display: block;width: 100%;margin-bottom: 0;padding: 0.3em;box-sizing: border-box;text-align: center;}#sk-container-id-2 label.sk-toggleable__label-arrow:before {content: \"▸\";float: left;margin-right: 0.25em;color: #696969;}#sk-container-id-2 label.sk-toggleable__label-arrow:hover:before {color: black;}#sk-container-id-2 div.sk-estimator:hover label.sk-toggleable__label-arrow:before {color: black;}#sk-container-id-2 div.sk-toggleable__content {max-height: 0;max-width: 0;overflow: hidden;text-align: left;background-color: #f0f8ff;}#sk-container-id-2 div.sk-toggleable__content pre {margin: 0.2em;color: black;border-radius: 0.25em;background-color: #f0f8ff;}#sk-container-id-2 input.sk-toggleable__control:checked~div.sk-toggleable__content {max-height: 200px;max-width: 100%;overflow: auto;}#sk-container-id-2 input.sk-toggleable__control:checked~label.sk-toggleable__label-arrow:before {content: \"▾\";}#sk-container-id-2 div.sk-estimator input.sk-toggleable__control:checked~label.sk-toggleable__label {background-color: #d4ebff;}#sk-container-id-2 div.sk-label input.sk-toggleable__control:checked~label.sk-toggleable__label {background-color: #d4ebff;}#sk-container-id-2 input.sk-hidden--visually {border: 0;clip: rect(1px 1px 1px 1px);clip: rect(1px, 1px, 1px, 1px);height: 1px;margin: -1px;overflow: hidden;padding: 0;position: absolute;width: 1px;}#sk-container-id-2 div.sk-estimator {font-family: monospace;background-color: #f0f8ff;border: 1px dotted black;border-radius: 0.25em;box-sizing: border-box;margin-bottom: 0.5em;}#sk-container-id-2 div.sk-estimator:hover {background-color: #d4ebff;}#sk-container-id-2 div.sk-parallel-item::after {content: \"\";width: 100%;border-bottom: 1px solid gray;flex-grow: 1;}#sk-container-id-2 div.sk-label:hover label.sk-toggleable__label {background-color: #d4ebff;}#sk-container-id-2 div.sk-serial::before {content: \"\";position: absolute;border-left: 1px solid gray;box-sizing: border-box;top: 0;bottom: 0;left: 50%;z-index: 0;}#sk-container-id-2 div.sk-serial {display: flex;flex-direction: column;align-items: center;background-color: white;padding-right: 0.2em;padding-left: 0.2em;position: relative;}#sk-container-id-2 div.sk-item {position: relative;z-index: 1;}#sk-container-id-2 div.sk-parallel {display: flex;align-items: stretch;justify-content: center;background-color: white;position: relative;}#sk-container-id-2 div.sk-item::before, #sk-container-id-2 div.sk-parallel-item::before {content: \"\";position: absolute;border-left: 1px solid gray;box-sizing: border-box;top: 0;bottom: 0;left: 50%;z-index: -1;}#sk-container-id-2 div.sk-parallel-item {display: flex;flex-direction: column;z-index: 1;position: relative;background-color: white;}#sk-container-id-2 div.sk-parallel-item:first-child::after {align-self: flex-end;width: 50%;}#sk-container-id-2 div.sk-parallel-item:last-child::after {align-self: flex-start;width: 50%;}#sk-container-id-2 div.sk-parallel-item:only-child::after {width: 0;}#sk-container-id-2 div.sk-dashed-wrapped {border: 1px dashed gray;margin: 0 0.4em 0.5em 0.4em;box-sizing: border-box;padding-bottom: 0.4em;background-color: white;}#sk-container-id-2 div.sk-label label {font-family: monospace;font-weight: bold;display: inline-block;line-height: 1.2em;}#sk-container-id-2 div.sk-label-container {text-align: center;}#sk-container-id-2 div.sk-container {/* jupyter's `normalize.less` sets `[hidden] { display: none; }` but bootstrap.min.css set `[hidden] { display: none !important; }` so we also need the `!important` here to be able to override the default hidden behavior on the sphinx rendered scikit-learn.org. See: https://github.com/scikit-learn/scikit-learn/issues/21755 */display: inline-block !important;position: relative;}#sk-container-id-2 div.sk-text-repr-fallback {display: none;}</style><div id=\"sk-container-id-2\" class=\"sk-top-container\"><div class=\"sk-text-repr-fallback\"><pre>KNeighborsRegressor()</pre><b>In a Jupyter environment, please rerun this cell to show the HTML representation or trust the notebook. <br />On GitHub, the HTML representation is unable to render, please try loading this page with nbviewer.org.</b></div><div class=\"sk-container\" hidden><div class=\"sk-item\"><div class=\"sk-estimator sk-toggleable\"><input class=\"sk-toggleable__control sk-hidden--visually\" id=\"sk-estimator-id-2\" type=\"checkbox\" checked><label for=\"sk-estimator-id-2\" class=\"sk-toggleable__label sk-toggleable__label-arrow\">KNeighborsRegressor</label><div class=\"sk-toggleable__content\"><pre>KNeighborsRegressor()</pre></div></div></div></div></div>"
      ],
      "text/plain": [
       "KNeighborsRegressor()"
      ]
     },
     "execution_count": 118,
     "metadata": {},
     "output_type": "execute_result"
    }
   ],
   "source": [
    "from sklearn.neighbors import KNeighborsRegressor\n",
    "knn=KNeighborsRegressor()\n",
    "knn.fit(x_train, y_train)"
   ]
  },
  {
   "cell_type": "code",
   "execution_count": 119,
   "id": "e4bf3007",
   "metadata": {},
   "outputs": [
    {
     "name": "stdout",
     "output_type": "stream",
     "text": [
      "Train r2 score: 0.8505496134461527\n",
      "Test r2 score: 0.7705988260052045\n",
      "\n",
      "\n",
      "train_mae: 1601.9034451421016\n",
      "test mae: 2034.0929408891056\n",
      "\n",
      "\n",
      "train_msel: 5022565.517913616\n",
      "test_msel: 5589522.916770198\n"
     ]
    }
   ],
   "source": [
    "y_train_pred2=knn.predict(x_train)  # Train(Already seen)\n",
    "y_test_pred2=knn.predict(x_test)  ## Test(New)\n",
    "\n",
    "print('Train r2 score:', r2_score(y_train, y_train_pred2))\n",
    "print('Test r2 score:', r2_score(y_test, y_test_pred2))\n",
    "print('\\n')\n",
    "\n",
    "print('train_mae:', mean_absolute_error(y_train, y_train_pred2))\n",
    "print('test mae:', mean_absolute_error(y_test, y_test_pred2))\n",
    "print('\\n')\n",
    "\n",
    "print('train_msel:', mean_squared_error(y_train, y_train_pred2))\n",
    "print('test_msel:', mean_squared_error(y_test, y_test_pred2))"
   ]
  },
  {
   "cell_type": "markdown",
   "id": "ad8eab8c",
   "metadata": {},
   "source": [
    "# USING RANDOM FOREST (KNN)"
   ]
  },
  {
   "cell_type": "code",
   "execution_count": 120,
   "id": "685ea6be",
   "metadata": {},
   "outputs": [
    {
     "data": {
      "text/html": [
       "<style>#sk-container-id-3 {color: black;background-color: white;}#sk-container-id-3 pre{padding: 0;}#sk-container-id-3 div.sk-toggleable {background-color: white;}#sk-container-id-3 label.sk-toggleable__label {cursor: pointer;display: block;width: 100%;margin-bottom: 0;padding: 0.3em;box-sizing: border-box;text-align: center;}#sk-container-id-3 label.sk-toggleable__label-arrow:before {content: \"▸\";float: left;margin-right: 0.25em;color: #696969;}#sk-container-id-3 label.sk-toggleable__label-arrow:hover:before {color: black;}#sk-container-id-3 div.sk-estimator:hover label.sk-toggleable__label-arrow:before {color: black;}#sk-container-id-3 div.sk-toggleable__content {max-height: 0;max-width: 0;overflow: hidden;text-align: left;background-color: #f0f8ff;}#sk-container-id-3 div.sk-toggleable__content pre {margin: 0.2em;color: black;border-radius: 0.25em;background-color: #f0f8ff;}#sk-container-id-3 input.sk-toggleable__control:checked~div.sk-toggleable__content {max-height: 200px;max-width: 100%;overflow: auto;}#sk-container-id-3 input.sk-toggleable__control:checked~label.sk-toggleable__label-arrow:before {content: \"▾\";}#sk-container-id-3 div.sk-estimator input.sk-toggleable__control:checked~label.sk-toggleable__label {background-color: #d4ebff;}#sk-container-id-3 div.sk-label input.sk-toggleable__control:checked~label.sk-toggleable__label {background-color: #d4ebff;}#sk-container-id-3 input.sk-hidden--visually {border: 0;clip: rect(1px 1px 1px 1px);clip: rect(1px, 1px, 1px, 1px);height: 1px;margin: -1px;overflow: hidden;padding: 0;position: absolute;width: 1px;}#sk-container-id-3 div.sk-estimator {font-family: monospace;background-color: #f0f8ff;border: 1px dotted black;border-radius: 0.25em;box-sizing: border-box;margin-bottom: 0.5em;}#sk-container-id-3 div.sk-estimator:hover {background-color: #d4ebff;}#sk-container-id-3 div.sk-parallel-item::after {content: \"\";width: 100%;border-bottom: 1px solid gray;flex-grow: 1;}#sk-container-id-3 div.sk-label:hover label.sk-toggleable__label {background-color: #d4ebff;}#sk-container-id-3 div.sk-serial::before {content: \"\";position: absolute;border-left: 1px solid gray;box-sizing: border-box;top: 0;bottom: 0;left: 50%;z-index: 0;}#sk-container-id-3 div.sk-serial {display: flex;flex-direction: column;align-items: center;background-color: white;padding-right: 0.2em;padding-left: 0.2em;position: relative;}#sk-container-id-3 div.sk-item {position: relative;z-index: 1;}#sk-container-id-3 div.sk-parallel {display: flex;align-items: stretch;justify-content: center;background-color: white;position: relative;}#sk-container-id-3 div.sk-item::before, #sk-container-id-3 div.sk-parallel-item::before {content: \"\";position: absolute;border-left: 1px solid gray;box-sizing: border-box;top: 0;bottom: 0;left: 50%;z-index: -1;}#sk-container-id-3 div.sk-parallel-item {display: flex;flex-direction: column;z-index: 1;position: relative;background-color: white;}#sk-container-id-3 div.sk-parallel-item:first-child::after {align-self: flex-end;width: 50%;}#sk-container-id-3 div.sk-parallel-item:last-child::after {align-self: flex-start;width: 50%;}#sk-container-id-3 div.sk-parallel-item:only-child::after {width: 0;}#sk-container-id-3 div.sk-dashed-wrapped {border: 1px dashed gray;margin: 0 0.4em 0.5em 0.4em;box-sizing: border-box;padding-bottom: 0.4em;background-color: white;}#sk-container-id-3 div.sk-label label {font-family: monospace;font-weight: bold;display: inline-block;line-height: 1.2em;}#sk-container-id-3 div.sk-label-container {text-align: center;}#sk-container-id-3 div.sk-container {/* jupyter's `normalize.less` sets `[hidden] { display: none; }` but bootstrap.min.css set `[hidden] { display: none !important; }` so we also need the `!important` here to be able to override the default hidden behavior on the sphinx rendered scikit-learn.org. See: https://github.com/scikit-learn/scikit-learn/issues/21755 */display: inline-block !important;position: relative;}#sk-container-id-3 div.sk-text-repr-fallback {display: none;}</style><div id=\"sk-container-id-3\" class=\"sk-top-container\"><div class=\"sk-text-repr-fallback\"><pre>RandomForestRegressor()</pre><b>In a Jupyter environment, please rerun this cell to show the HTML representation or trust the notebook. <br />On GitHub, the HTML representation is unable to render, please try loading this page with nbviewer.org.</b></div><div class=\"sk-container\" hidden><div class=\"sk-item\"><div class=\"sk-estimator sk-toggleable\"><input class=\"sk-toggleable__control sk-hidden--visually\" id=\"sk-estimator-id-3\" type=\"checkbox\" checked><label for=\"sk-estimator-id-3\" class=\"sk-toggleable__label sk-toggleable__label-arrow\">RandomForestRegressor</label><div class=\"sk-toggleable__content\"><pre>RandomForestRegressor()</pre></div></div></div></div></div>"
      ],
      "text/plain": [
       "RandomForestRegressor()"
      ]
     },
     "execution_count": 120,
     "metadata": {},
     "output_type": "execute_result"
    }
   ],
   "source": [
    "from sklearn.ensemble import RandomForestRegressor\n",
    "rd=RandomForestRegressor()\n",
    "rd.fit(x_train, y_train)"
   ]
  },
  {
   "cell_type": "code",
   "execution_count": 121,
   "id": "fb84df06",
   "metadata": {},
   "outputs": [
    {
     "name": "stdout",
     "output_type": "stream",
     "text": [
      "Train r2 score: 0.9599170215509166\n",
      "Test r2 score: 0.7305802816816099\n",
      "\n",
      "\n",
      "train_mae: 796.5427412425643\n",
      "test mae: 2137.774178065462\n",
      "\n",
      "\n",
      "train_msel: 1347065.0030142611\n",
      "test_msel: 6564603.238711315\n"
     ]
    }
   ],
   "source": [
    "y_train_pred3=rd.predict(x_train)  # Train(Already seen)\n",
    "y_test_pred3=rd.predict(x_test)  ## Test(New)\n",
    "\n",
    "print('Train r2 score:', r2_score(y_train, y_train_pred3))\n",
    "print('Test r2 score:', r2_score(y_test, y_test_pred3))\n",
    "print('\\n')\n",
    "\n",
    "print('train_mae:', mean_absolute_error(y_train, y_train_pred3))\n",
    "print('test mae:', mean_absolute_error(y_test, y_test_pred3))\n",
    "print('\\n')\n",
    "\n",
    "print('train_msel:', mean_squared_error(y_train, y_train_pred3))\n",
    "print('test_msel:', mean_squared_error(y_test, y_test_pred3))"
   ]
  },
  {
   "cell_type": "markdown",
   "id": "42ebeaeb",
   "metadata": {},
   "source": [
    "# TUNING"
   ]
  },
  {
   "cell_type": "code",
   "execution_count": 122,
   "id": "c990e2de",
   "metadata": {},
   "outputs": [],
   "source": [
    "from sklearn.model_selection import GridSearchCV"
   ]
  },
  {
   "cell_type": "code",
   "execution_count": 123,
   "id": "6fc3d9ff",
   "metadata": {},
   "outputs": [
    {
     "data": {
      "text/plain": [
       "dict_keys(['copy_X', 'fit_intercept', 'n_jobs', 'normalize', 'positive'])"
      ]
     },
     "execution_count": 123,
     "metadata": {},
     "output_type": "execute_result"
    }
   ],
   "source": [
    "linear_regression.get_params().keys()  #using linear regression because it gave us a good output"
   ]
  },
  {
   "cell_type": "code",
   "execution_count": 124,
   "id": "7b53022e",
   "metadata": {},
   "outputs": [],
   "source": [
    "param_grid=({'n_jobs':[-1, 2, 4, 6, 8]},\n",
    "           { 'n_jobs':[-1, 2, 4, 6, 8]})\n",
    "\n",
    "grid_search=GridSearchCV(linear_regression, param_grid, cv=5, scoring='r2', return_train_score=True)## cv =cross validation\n",
    "\n",
    "grid_search=grid_search.fit(x_train, y_train)"
   ]
  },
  {
   "cell_type": "code",
   "execution_count": 125,
   "id": "37061de5",
   "metadata": {},
   "outputs": [
    {
     "data": {
      "text/plain": [
       "{'n_jobs': -1}"
      ]
     },
     "execution_count": 125,
     "metadata": {},
     "output_type": "execute_result"
    }
   ],
   "source": [
    "grid_search.best_params_  ###to return the best parameters"
   ]
  },
  {
   "cell_type": "code",
   "execution_count": 126,
   "id": "64ece886",
   "metadata": {},
   "outputs": [
    {
     "name": "stderr",
     "output_type": "stream",
     "text": [
      "C:\\Users\\bobby\\AppData\\Roaming\\Python\\Python39\\site-packages\\sklearn\\linear_model\\_base.py:141: FutureWarning: 'normalize' was deprecated in version 1.0 and will be removed in 1.2.\n",
      "If you wish to scale the data, use Pipeline with a StandardScaler in a preprocessing stage. To reproduce the previous behavior:\n",
      "\n",
      "from sklearn.pipeline import make_pipeline\n",
      "\n",
      "model = make_pipeline(StandardScaler(with_mean=False), LinearRegression())\n",
      "\n",
      "If you wish to pass a sample_weight parameter, you need to pass it as a fit parameter to each step of the pipeline as follows:\n",
      "\n",
      "kwargs = {s[0] + '__sample_weight': sample_weight for s in model.steps}\n",
      "model.fit(X, y, **kwargs)\n",
      "\n",
      "\n",
      "  warnings.warn(\n"
     ]
    },
    {
     "data": {
      "text/html": [
       "<style>#sk-container-id-4 {color: black;background-color: white;}#sk-container-id-4 pre{padding: 0;}#sk-container-id-4 div.sk-toggleable {background-color: white;}#sk-container-id-4 label.sk-toggleable__label {cursor: pointer;display: block;width: 100%;margin-bottom: 0;padding: 0.3em;box-sizing: border-box;text-align: center;}#sk-container-id-4 label.sk-toggleable__label-arrow:before {content: \"▸\";float: left;margin-right: 0.25em;color: #696969;}#sk-container-id-4 label.sk-toggleable__label-arrow:hover:before {color: black;}#sk-container-id-4 div.sk-estimator:hover label.sk-toggleable__label-arrow:before {color: black;}#sk-container-id-4 div.sk-toggleable__content {max-height: 0;max-width: 0;overflow: hidden;text-align: left;background-color: #f0f8ff;}#sk-container-id-4 div.sk-toggleable__content pre {margin: 0.2em;color: black;border-radius: 0.25em;background-color: #f0f8ff;}#sk-container-id-4 input.sk-toggleable__control:checked~div.sk-toggleable__content {max-height: 200px;max-width: 100%;overflow: auto;}#sk-container-id-4 input.sk-toggleable__control:checked~label.sk-toggleable__label-arrow:before {content: \"▾\";}#sk-container-id-4 div.sk-estimator input.sk-toggleable__control:checked~label.sk-toggleable__label {background-color: #d4ebff;}#sk-container-id-4 div.sk-label input.sk-toggleable__control:checked~label.sk-toggleable__label {background-color: #d4ebff;}#sk-container-id-4 input.sk-hidden--visually {border: 0;clip: rect(1px 1px 1px 1px);clip: rect(1px, 1px, 1px, 1px);height: 1px;margin: -1px;overflow: hidden;padding: 0;position: absolute;width: 1px;}#sk-container-id-4 div.sk-estimator {font-family: monospace;background-color: #f0f8ff;border: 1px dotted black;border-radius: 0.25em;box-sizing: border-box;margin-bottom: 0.5em;}#sk-container-id-4 div.sk-estimator:hover {background-color: #d4ebff;}#sk-container-id-4 div.sk-parallel-item::after {content: \"\";width: 100%;border-bottom: 1px solid gray;flex-grow: 1;}#sk-container-id-4 div.sk-label:hover label.sk-toggleable__label {background-color: #d4ebff;}#sk-container-id-4 div.sk-serial::before {content: \"\";position: absolute;border-left: 1px solid gray;box-sizing: border-box;top: 0;bottom: 0;left: 50%;z-index: 0;}#sk-container-id-4 div.sk-serial {display: flex;flex-direction: column;align-items: center;background-color: white;padding-right: 0.2em;padding-left: 0.2em;position: relative;}#sk-container-id-4 div.sk-item {position: relative;z-index: 1;}#sk-container-id-4 div.sk-parallel {display: flex;align-items: stretch;justify-content: center;background-color: white;position: relative;}#sk-container-id-4 div.sk-item::before, #sk-container-id-4 div.sk-parallel-item::before {content: \"\";position: absolute;border-left: 1px solid gray;box-sizing: border-box;top: 0;bottom: 0;left: 50%;z-index: -1;}#sk-container-id-4 div.sk-parallel-item {display: flex;flex-direction: column;z-index: 1;position: relative;background-color: white;}#sk-container-id-4 div.sk-parallel-item:first-child::after {align-self: flex-end;width: 50%;}#sk-container-id-4 div.sk-parallel-item:last-child::after {align-self: flex-start;width: 50%;}#sk-container-id-4 div.sk-parallel-item:only-child::after {width: 0;}#sk-container-id-4 div.sk-dashed-wrapped {border: 1px dashed gray;margin: 0 0.4em 0.5em 0.4em;box-sizing: border-box;padding-bottom: 0.4em;background-color: white;}#sk-container-id-4 div.sk-label label {font-family: monospace;font-weight: bold;display: inline-block;line-height: 1.2em;}#sk-container-id-4 div.sk-label-container {text-align: center;}#sk-container-id-4 div.sk-container {/* jupyter's `normalize.less` sets `[hidden] { display: none; }` but bootstrap.min.css set `[hidden] { display: none !important; }` so we also need the `!important` here to be able to override the default hidden behavior on the sphinx rendered scikit-learn.org. See: https://github.com/scikit-learn/scikit-learn/issues/21755 */display: inline-block !important;position: relative;}#sk-container-id-4 div.sk-text-repr-fallback {display: none;}</style><div id=\"sk-container-id-4\" class=\"sk-top-container\"><div class=\"sk-text-repr-fallback\"><pre>LinearRegression(n_jobs=-1, normalize=True)</pre><b>In a Jupyter environment, please rerun this cell to show the HTML representation or trust the notebook. <br />On GitHub, the HTML representation is unable to render, please try loading this page with nbviewer.org.</b></div><div class=\"sk-container\" hidden><div class=\"sk-item\"><div class=\"sk-estimator sk-toggleable\"><input class=\"sk-toggleable__control sk-hidden--visually\" id=\"sk-estimator-id-4\" type=\"checkbox\" checked><label for=\"sk-estimator-id-4\" class=\"sk-toggleable__label sk-toggleable__label-arrow\">LinearRegression</label><div class=\"sk-toggleable__content\"><pre>LinearRegression(n_jobs=-1, normalize=True)</pre></div></div></div></div></div>"
      ],
      "text/plain": [
       "LinearRegression(n_jobs=-1, normalize=True)"
      ]
     },
     "execution_count": 126,
     "metadata": {},
     "output_type": "execute_result"
    }
   ],
   "source": [
    "#1. Create an instance of the estimator\n",
    "linear_regression=LinearRegression(n_jobs=-1,normalize=True)\n",
    "\n",
    "#2. Use the training data to train the estimator\n",
    "linear_regression.fit(x_train, y_train)"
   ]
  },
  {
   "cell_type": "code",
   "execution_count": 127,
   "id": "bf7d2423",
   "metadata": {},
   "outputs": [
    {
     "name": "stdout",
     "output_type": "stream",
     "text": [
      "Train r2 score: 0.7266003435688869\n",
      "Test r2 score: 0.7671213494818174\n",
      "\n",
      "\n",
      "train_mae: 2220.5838584589073\n",
      "test mae: 1787.2408270365972\n",
      "\n",
      "\n",
      "train_msel: 9188117.332206316\n",
      "test_msel: 5674254.107903698\n"
     ]
    }
   ],
   "source": [
    "y_train_pred1a=linear_regression.predict(x_train)  # Train(Already seen)\n",
    "y_test_pred1a=linear_regression.predict(x_test)  ## Test(New)\n",
    "\n",
    "print('Train r2 score:', r2_score(y_train, y_train_pred1a))\n",
    "print('Test r2 score:', r2_score(y_test, y_test_pred1a))\n",
    "print('\\n')\n",
    "\n",
    "print('train_mae:', mean_absolute_error(y_train, y_train_pred1a))\n",
    "print('test mae:', mean_absolute_error(y_test, y_test_pred1a))\n",
    "print('\\n')\n",
    "\n",
    "print('train_msel:', mean_squared_error(y_train, y_train_pred1a))\n",
    "print('test_msel:', mean_squared_error(y_test, y_test_pred1a))"
   ]
  },
  {
   "cell_type": "code",
   "execution_count": 128,
   "id": "1c72741a",
   "metadata": {},
   "outputs": [],
   "source": [
    "import pickle\n",
    "from pickle import dump"
   ]
  },
  {
   "cell_type": "code",
   "execution_count": 129,
   "id": "e6a72800",
   "metadata": {},
   "outputs": [],
   "source": [
    "# Save the model \n",
    "dump(linear_regression, open('lr1_model.pkl', 'wb'))"
   ]
  },
  {
   "cell_type": "code",
   "execution_count": 130,
   "id": "ecc2358d",
   "metadata": {},
   "outputs": [],
   "source": [
    "dump(scaler, open('scaler.pkl', 'wb'))"
   ]
  },
  {
   "cell_type": "code",
   "execution_count": 131,
   "id": "ed958e04",
   "metadata": {},
   "outputs": [],
   "source": [
    "dump(enc, open('enc.pkl', 'wb'))\n",
    "dump(imputer, open('imputer.pkl', 'wb'))\n",
    "dump(pca, open('pca.pkl', 'wb'))"
   ]
  },
  {
   "cell_type": "code",
   "execution_count": 132,
   "id": "2d1799c2",
   "metadata": {},
   "outputs": [],
   "source": [
    "###load the data from disck\n",
    "model=pickle.load(open('lr1_model.pkl','rb'))"
   ]
  },
  {
   "cell_type": "code",
   "execution_count": 133,
   "id": "dad0d9e0",
   "metadata": {},
   "outputs": [],
   "source": [
    "scaler=pickle.load(open('scaler.pkl', 'rb'))\n",
    "enc=pickle.load(open('enc.pkl', 'rb'))\n",
    "imputer=pickle.load(open('imputer.pkl', 'rb'))\n",
    "pca=pickle.load(open('pca.pkl', 'rb'))"
   ]
  },
  {
   "cell_type": "code",
   "execution_count": 134,
   "id": "18ed493a",
   "metadata": {},
   "outputs": [],
   "source": [
    "def predict(p):\n",
    "    model=pickle.load(open('lr1_model.pkl','rb'))\n",
    "    scaler=pickle.load(open('scaler.pkl', 'rb'))\n",
    "    enc=pickle.load(open('enc.pkl', 'rb'))\n",
    "    imputer=pickle.load(open('imputer.pkl', 'rb'))\n",
    "    pca=pickle.load(open('pca.pkl', 'rb'))\n",
    "    \n",
    "    \n",
    "    encode=pd.DataFrame(enc.transform(p[['Day_Name', 'Promo']]).toarray())\n",
    "    new=p.join(encode)\n",
    "    new.drop(['Day_Name', 'Promo', 'Week_ID','Year'], axis=1, inplace=True)\n",
    "    new=imputer.transform(new)\n",
    "    new=scaler.transform(new)\n",
    "    new=pca.transform(new)\n",
    "    result=model.predict(new)\n",
    "    print(f' The Expected Revenue is {round(result.sum(), 2)}')"
   ]
  },
  {
   "cell_type": "markdown",
   "id": "3badb91c",
   "metadata": {},
   "source": [
    "# QUESTIONS"
   ]
  },
  {
   "cell_type": "markdown",
   "id": "396ef211",
   "metadata": {},
   "source": [
    " 1) The most succesful Promo was Promotion BLUE as seen from the visualization insights"
   ]
  },
  {
   "cell_type": "code",
   "execution_count": 135,
   "id": "32ee9516",
   "metadata": {},
   "outputs": [],
   "source": [
    "column=['Week_ID', 'Month_Number', 'Month_ID', 'Year', 'Day_Name', 'Marketing_Spend', 'Promo', 'visitors']\n"
   ]
  },
  {
   "cell_type": "code",
   "execution_count": 136,
   "id": "5e49f9eb",
   "metadata": {},
   "outputs": [
    {
     "data": {
      "text/html": [
       "<div>\n",
       "<style scoped>\n",
       "    .dataframe tbody tr th:only-of-type {\n",
       "        vertical-align: middle;\n",
       "    }\n",
       "\n",
       "    .dataframe tbody tr th {\n",
       "        vertical-align: top;\n",
       "    }\n",
       "\n",
       "    .dataframe thead th {\n",
       "        text-align: right;\n",
       "    }\n",
       "</style>\n",
       "<table border=\"1\" class=\"dataframe\">\n",
       "  <thead>\n",
       "    <tr style=\"text-align: right;\">\n",
       "      <th></th>\n",
       "      <th>Week_ID</th>\n",
       "      <th>Month_Number</th>\n",
       "      <th>Month_ID</th>\n",
       "      <th>Year</th>\n",
       "      <th>Day_Name</th>\n",
       "      <th>Marketing_Spend</th>\n",
       "      <th>Promo</th>\n",
       "      <th>visitors</th>\n",
       "    </tr>\n",
       "  </thead>\n",
       "  <tbody>\n",
       "    <tr>\n",
       "      <th>0</th>\n",
       "      <td>NaN</td>\n",
       "      <td>NaN</td>\n",
       "      <td>NaN</td>\n",
       "      <td>NaN</td>\n",
       "      <td>Friday</td>\n",
       "      <td>5000</td>\n",
       "      <td>Promotion Blue</td>\n",
       "      <td>NaN</td>\n",
       "    </tr>\n",
       "  </tbody>\n",
       "</table>\n",
       "</div>"
      ],
      "text/plain": [
       "   Week_ID  Month_Number  Month_ID  Year Day_Name  Marketing_Spend  \\\n",
       "0      NaN           NaN       NaN   NaN   Friday             5000   \n",
       "\n",
       "            Promo  visitors  \n",
       "0  Promotion Blue       NaN  "
      ]
     },
     "execution_count": 136,
     "metadata": {},
     "output_type": "execute_result"
    }
   ],
   "source": [
    "New_y=pd.DataFrame([[np.NAN,np.NAN,np.NAN,np.NAN,'Friday',5000,'Promotion Blue',np.NAN]], columns=column)\n",
    "New_y"
   ]
  },
  {
   "cell_type": "code",
   "execution_count": 137,
   "id": "02758eb1",
   "metadata": {},
   "outputs": [
    {
     "name": "stdout",
     "output_type": "stream",
     "text": [
      " The Expected Revenue is 23226.79\n"
     ]
    },
    {
     "name": "stderr",
     "output_type": "stream",
     "text": [
      "C:\\Users\\bobby\\AppData\\Roaming\\Python\\Python39\\site-packages\\sklearn\\utils\\validation.py:1858: FutureWarning: Feature names only support names that are all strings. Got feature names with dtypes: ['int', 'str']. An error will be raised in 1.2.\n",
      "  warnings.warn(\n"
     ]
    }
   ],
   "source": [
    "predict(New_y)"
   ]
  },
  {
   "cell_type": "code",
   "execution_count": null,
   "id": "92ad8e06",
   "metadata": {},
   "outputs": [],
   "source": []
  },
  {
   "cell_type": "code",
   "execution_count": 138,
   "id": "77ce00ed",
   "metadata": {
    "scrolled": true
   },
   "outputs": [
    {
     "data": {
      "text/plain": [
       "Month Number       float64\n",
       "Month_ID           float64\n",
       "Marketing Spend    float64\n",
       "Visitors           float64\n",
       "0                  float64\n",
       "1                  float64\n",
       "2                  float64\n",
       "3                  float64\n",
       "4                  float64\n",
       "5                  float64\n",
       "6                  float64\n",
       "7                  float64\n",
       "8                  float64\n",
       "9                  float64\n",
       "dtype: object"
      ]
     },
     "execution_count": 138,
     "metadata": {},
     "output_type": "execute_result"
    }
   ],
   "source": [
    "x.dtypes"
   ]
  },
  {
   "cell_type": "markdown",
   "id": "77ad1cc5",
   "metadata": {},
   "source": [
    "# importing to streamlit\n"
   ]
  },
  {
   "cell_type": "code",
   "execution_count": null,
   "id": "30106f6b",
   "metadata": {},
   "outputs": [],
   "source": []
  }
 ],
 "metadata": {
  "kernelspec": {
   "display_name": "Python 3 (ipykernel)",
   "language": "python",
   "name": "python3"
  },
  "language_info": {
   "codemirror_mode": {
    "name": "ipython",
    "version": 3
   },
   "file_extension": ".py",
   "mimetype": "text/x-python",
   "name": "python",
   "nbconvert_exporter": "python",
   "pygments_lexer": "ipython3",
   "version": "3.9.7"
  }
 },
 "nbformat": 4,
 "nbformat_minor": 5
}
